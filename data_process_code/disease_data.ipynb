{
 "cells": [
  {
   "cell_type": "code",
   "execution_count": 38,
   "metadata": {},
   "outputs": [],
   "source": [
    "import pandas as pd\n",
    "import numpy as np\n",
    "import matplotlib.pyplot as plt\n",
    "import seaborn as sns"
   ]
  },
  {
   "cell_type": "code",
   "execution_count": 48,
   "metadata": {},
   "outputs": [
    {
     "name": "stdout",
     "output_type": "stream",
     "text": [
      "Coronary artery disease  : 0.8  100\n",
      "Coronary artery disease  : 0.7  277\n",
      "Crohn disease  : 0.8  81\n",
      "Crohn disease  : 0.7  204\n",
      "Inflammatory bowel disease  : 0.8  78\n",
      "Inflammatory bowel disease  : 0.7  212\n"
     ]
    }
   ],
   "source": [
    "import pandas as pd\n",
    "import seaborn as sns\n",
    "import matplotlib.pyplot as plt\n",
    "\n",
    "root = 'D:/study/thesis/project/HBDM-main/disease/'\n",
    "disease_list = ['Coronary artery disease', 'Crohn disease', 'Inflammatory bowel disease']\n",
    "\n",
    "for disease in disease_list:\n",
    "    CA = pd.read_csv(root + disease + '.tsv', sep='\\t')\n",
    "    \n",
    "    if len(CA['Gene'].unique()) == len(CA):\n",
    "        # Create a histogram\n",
    "        print(disease,' : 0.8 ',len(CA[CA['DSI_g']>=0.8]))\n",
    "        print(disease,' : 0.7 ',len(CA[CA['DSI_g']>=0.7]))\n",
    "        # # Calculate bin counts\n",
    "        # bin_counts, _, _ = plt.hist(CA['DSI_g'], bins=10, color='lightblue')\n",
    "        # ax = sns.histplot(CA['DSI_g'], bins=10)\n",
    "        # # Set labels and title\n",
    "        # plt.xlabel('DSI_g')\n",
    "        # plt.ylabel('Frequency')\n",
    "        # plt.title('Histogram of ' + disease + ' DSI_g')\n",
    "        \n",
    "        # # Display the bin counts above each bin\n",
    "        # for i, count in enumerate(bin_counts):\n",
    "        #     plt.text(ax.patches[i].get_x() + ax.patches[i].get_width() / 2, count, str(int(count)),\n",
    "        #              ha='center', va='bottom', fontsize=9)\n",
    "        \n",
    "        # # Show the histogram\n",
    "        # plt.show()\n"
   ]
  },
  {
   "cell_type": "markdown",
   "metadata": {},
   "source": [
    "CA 1708.1120\n",
    "Crohn 1382 859\n",
    "IB 1577.1001"
   ]
  }
 ],
 "metadata": {
  "kernelspec": {
   "display_name": "hbdm",
   "language": "python",
   "name": "python3"
  },
  "language_info": {
   "codemirror_mode": {
    "name": "ipython",
    "version": 3
   },
   "file_extension": ".py",
   "mimetype": "text/x-python",
   "name": "python",
   "nbconvert_exporter": "python",
   "pygments_lexer": "ipython3",
   "version": "3.8.3"
  }
 },
 "nbformat": 4,
 "nbformat_minor": 2
}
