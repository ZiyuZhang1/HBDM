{
 "cells": [
  {
   "cell_type": "code",
   "execution_count": 1,
   "metadata": {},
   "outputs": [],
   "source": [
    "import numpy as np\n",
    "import pandas as pd\n",
    "import pickle\n",
    "import networkx as nx\n",
    "import matplotlib.pyplot as plt"
   ]
  },
  {
   "cell_type": "markdown",
   "metadata": {},
   "source": [
    "## load string db and get combined score ppi network"
   ]
  },
  {
   "cell_type": "code",
   "execution_count": 28,
   "metadata": {},
   "outputs": [],
   "source": [
    "############### create mapped graph ppi \n",
    "local_stringdb = 'D:/study/thesis/project/HBDM-main/data/nn_data/stringdb/'\n",
    "# load local STRING database and names\n",
    "df = pd.read_csv(local_stringdb+'9606.protein.info.v12.0.txt', sep='\\t', header=0, usecols=['#string_protein_id', 'preferred_name'])\n",
    "df['preferred_name'] = df['preferred_name'].str.upper()\n",
    "stringId2name = df.set_index('#string_protein_id')['preferred_name'].to_dict()\n",
    "name2stringId = df.set_index('preferred_name')['#string_protein_id'].to_dict()\n",
    "df = pd.read_csv(local_stringdb+'9606.protein.aliases.v12.0.txt', sep='\\t', header=0, usecols=['#string_protein_id', 'alias']).drop_duplicates(['alias'], keep='first')\n",
    "df['alias'] = df['alias'].str.upper()\n",
    "aliases2stringId = df.set_index('alias')['#string_protein_id'].to_dict()\n",
    "def convert_stringId(alias):\n",
    "    try:\n",
    "        stringId = name2stringId[alias]\n",
    "    except:\n",
    "        #print(alias, 'can\\'t be converted by name2stringId! Now trying aliases2stringId.')\n",
    "        try:\n",
    "            stringId = aliases2stringId[alias]\n",
    "        except:\n",
    "            #print(alias, 'can\\'t be converted by aliases2stringId! Now return None.')\n",
    "            stringId = None\n",
    "    #print(alias, stringId)\n",
    "    return stringId\n",
    "\n",
    "# #string_score_transform = lambda x: -np.log(x/1000)\n",
    "\n",
    "# graph_df = pd.read_csv(local_stringdb+'9606.protein.physical.links.detailed.v12.0.txt', sep=' ', header=0).convert_dtypes().replace(0, float('nan'))\n",
    "# #network['combined_score'] = network['combined_score'].apply(string_score_transform)\n",
    "\n",
    "# graph_df = graph_df[['protein1', 'protein2','combined_score']]\n",
    "# graph_df['protein1'] = graph_df['protein1'].str.replace('9606.ENSP', '')\n",
    "# graph_df['protein2'] = graph_df['protein2'].str.replace('9606.ENSP', '')\n",
    "\n",
    "with open(r'D:\\study\\thesis\\project\\HBDM-main\\data\\datasets\\ppi\\ppi_index.pkl', 'rb') as f:\n",
    "    value_to_index_mapping = pickle.load(f)\n",
    "len(value_to_index_mapping)\n",
    "# sub_graph_df = graph_df[['protein1', 'protein2']]\n",
    "# sub_graph_array = np.array(sub_graph_df.to_numpy(), dtype=int)\n",
    "# mapped_arr = np.vectorize(value_to_index_mapping.get)(sub_graph_array)\n",
    "# graph_df['node1'] = mapped_arr.T[0]\n",
    "# graph_df['node2'] = mapped_arr.T[1]\n",
    "# graph_df.to_csv(r'D:\\study\\thesis\\project\\HBDM-main\\data\\graph_ppi.csv',index=False)"
   ]
  },
  {
   "cell_type": "code",
   "execution_count": 24,
   "metadata": {},
   "outputs": [],
   "source": [
    "graph_df = pd.read_csv(r'D:\\study\\thesis\\project\\HBDM-main\\data\\graph_ppi.csv')\n",
    "graph_final = pd.DataFrame()\n",
    "graph_final['node1'] = graph_df['protein1'].apply(lambda x: f'9606.ENSP{str(x).zfill(11)}')\n",
    "graph_final['node2'] = graph_df['protein2'].apply(lambda x: f'9606.ENSP{str(x).zfill(11)}')\n",
    "graph_final['relation'] = 'pp'\n",
    "graph_final['weight'] = graph_df['combined_score']"
   ]
  },
  {
   "cell_type": "code",
   "execution_count": 12,
   "metadata": {},
   "outputs": [],
   "source": [
    "st_df = pd.read_csv(r'D:\\study\\thesis\\project\\HBDM-main\\data\\st_graph.csv')\n",
    "st_df = st_df.dropna()\n",
    "st_df = st_df[st_df['coexp_value'] != 0]\n",
    "sub_df = pd.DataFrame()\n",
    "sub_df['node1'] = st_df['protein1']\n",
    "sub_df['node2'] = st_df['protein2']\n",
    "sub_df['relation'] = 'coexp'"
   ]
  },
  {
   "cell_type": "code",
   "execution_count": 26,
   "metadata": {},
   "outputs": [],
   "source": [
    "result = pd.concat([graph_final, sub_df])"
   ]
  },
  {
   "cell_type": "code",
   "execution_count": 29,
   "metadata": {},
   "outputs": [],
   "source": [
    "string2name = {value: key for key, value in name2stringId.items()}"
   ]
  },
  {
   "cell_type": "code",
   "execution_count": 39,
   "metadata": {},
   "outputs": [],
   "source": [
    "nodes = result['node1'].unique().tolist()"
   ]
  },
  {
   "cell_type": "code",
   "execution_count": 40,
   "metadata": {},
   "outputs": [],
   "source": [
    "nodes.extend(result['node2'].unique().tolist())\n"
   ]
  },
  {
   "cell_type": "code",
   "execution_count": 41,
   "metadata": {},
   "outputs": [],
   "source": [
    "node_info = pd.DataFrame()\n",
    "node_info['node'] = list(set(nodes))"
   ]
  },
  {
   "cell_type": "code",
   "execution_count": 43,
   "metadata": {},
   "outputs": [],
   "source": [
    "node_info['protein_name'] = node_info['node'].map(string2name)"
   ]
  },
  {
   "cell_type": "code",
   "execution_count": 45,
   "metadata": {},
   "outputs": [],
   "source": [
    "ppi4d = pd.read_csv(r'D:\\study\\thesis\\project\\HBDM-main\\data\\ppi4D_cluster.csv')"
   ]
  },
  {
   "cell_type": "code",
   "execution_count": 47,
   "metadata": {},
   "outputs": [
    {
     "data": {
      "text/plain": [
       "18767"
      ]
     },
     "execution_count": 47,
     "metadata": {},
     "output_type": "execute_result"
    }
   ],
   "source": [
    "with open(r'D:\\study\\thesis\\project\\HBDM-main\\data\\datasets\\ppi\\ppi_index.pkl', 'rb') as f:\n",
    "    value_to_index_mapping = pickle.load(f)\n",
    "len(value_to_index_mapping)"
   ]
  },
  {
   "cell_type": "code",
   "execution_count": 48,
   "metadata": {},
   "outputs": [],
   "source": [
    "index2string = {value: key for key, value in value_to_index_mapping.items()}"
   ]
  },
  {
   "cell_type": "code",
   "execution_count": 49,
   "metadata": {},
   "outputs": [],
   "source": [
    "ppi4d['string'] = ppi4d['node'].map(index2string)"
   ]
  },
  {
   "cell_type": "code",
   "execution_count": 50,
   "metadata": {},
   "outputs": [],
   "source": [
    "ppi4d['node'] = ppi4d['string'].apply(lambda x: f'9606.ENSP{str(x).zfill(11)}')"
   ]
  },
  {
   "cell_type": "code",
   "execution_count": 51,
   "metadata": {},
   "outputs": [],
   "source": [
    "node_info = node_info.merge(ppi4d)"
   ]
  },
  {
   "cell_type": "code",
   "execution_count": 54,
   "metadata": {},
   "outputs": [
    {
     "data": {
      "text/plain": [
       "Index(['node', 'protein_name', 'level_1', 'level_2', 'level_3', 'level_4',\n",
       "       'level_5', 'level_6', 'level_7', 'level_8', 'level_9', 'level_10',\n",
       "       'level_11', 'level_12', 'string'],\n",
       "      dtype='object')"
      ]
     },
     "execution_count": 54,
     "metadata": {},
     "output_type": "execute_result"
    }
   ],
   "source": [
    "node_info.columns"
   ]
  },
  {
   "cell_type": "code",
   "execution_count": 55,
   "metadata": {},
   "outputs": [],
   "source": [
    "node_info = node_info[['node', 'protein_name', 'level_1', 'level_2', 'level_3', 'level_4',\n",
    "       'level_5', 'level_6', 'level_7', 'level_8', 'level_9', 'level_10',\n",
    "       'level_11', 'level_12']]"
   ]
  },
  {
   "cell_type": "code",
   "execution_count": 65,
   "metadata": {},
   "outputs": [
    {
     "data": {
      "text/plain": [
       "Index(['node1', 'node2', 'relation', 'weight'], dtype='object')"
      ]
     },
     "execution_count": 65,
     "metadata": {},
     "output_type": "execute_result"
    }
   ],
   "source": [
    "graph_final.columns"
   ]
  },
  {
   "cell_type": "code",
   "execution_count": 66,
   "metadata": {},
   "outputs": [],
   "source": [
    "graph_final = graph_final[['node1', 'relation', 'node2', 'weight']]"
   ]
  },
  {
   "cell_type": "code",
   "execution_count": 84,
   "metadata": {},
   "outputs": [],
   "source": [
    "output_file1 = r'D:\\study\\thesis\\project\\HBDM-main\\data\\ppi4d_visual_3000.csv'\n",
    "output_file2 = r'D:\\study\\thesis\\project\\HBDM-main\\data\\ppi4dnode_visual.csv'\n",
    "graph_final[:3000].to_csv(output_file1, index=False)\n",
    "node_info.to_csv(output_file2, index=False)"
   ]
  },
  {
   "cell_type": "code",
   "execution_count": 69,
   "metadata": {},
   "outputs": [],
   "source": [
    "import networkx as nx"
   ]
  },
  {
   "cell_type": "code",
   "execution_count": 71,
   "metadata": {},
   "outputs": [
    {
     "name": "stderr",
     "output_type": "stream",
     "text": [
      "Exception ignored in: <function ZipFile.__del__ at 0x00000256B99C9A60>\n",
      "Traceback (most recent call last):\n",
      "  File \"c:\\Users\\ZZY\\.conda\\envs\\rescal\\lib\\zipfile.py\", line 1821, in __del__\n",
      "    self.close()\n",
      "  File \"c:\\Users\\ZZY\\.conda\\envs\\rescal\\lib\\zipfile.py\", line 1838, in close\n",
      "    self.fp.seek(self.start_dir)\n",
      "ValueError: seek of closed file\n"
     ]
    }
   ],
   "source": [
    "multirelational_graph = nx.MultiGraph()\n",
    "\n",
    "# Add nodes to the MultiGraph using information from node_df\n",
    "for index, row in node_info.iterrows():\n",
    "    node_id = row['node']\n",
    "    node_attributes = {col: row[col] for col in node_info.columns if col != 'node'}\n",
    "    # Add the node to the MultiGraph with its attributes\n",
    "    multirelational_graph.add_node(node_id, **node_attributes)\n",
    "\n",
    "# Iterate through the network_df and add edges to the MultiGraph\n",
    "for index, row in graph_final.iterrows():\n",
    "    start_node = row['node1']\n",
    "    target_node = row['node2']\n",
    "    edge_type = row['relation']\n",
    "    edge_weight = row['weight']\n",
    "\n",
    "    # Add an edge to the MultiGraph with the specified edge type and weight\n",
    "    multirelational_graph.add_edge(start_node, target_node, key=edge_type, weight=edge_weight)"
   ]
  }
 ],
 "metadata": {
  "kernelspec": {
   "display_name": "hbdm",
   "language": "python",
   "name": "python3"
  },
  "language_info": {
   "codemirror_mode": {
    "name": "ipython",
    "version": 3
   },
   "file_extension": ".py",
   "mimetype": "text/x-python",
   "name": "python",
   "nbconvert_exporter": "python",
   "pygments_lexer": "ipython3",
   "version": "3.8.18"
  },
  "orig_nbformat": 4
 },
 "nbformat": 4,
 "nbformat_minor": 2
}
