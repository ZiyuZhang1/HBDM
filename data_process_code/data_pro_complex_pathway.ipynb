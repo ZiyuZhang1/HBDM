{
 "cells": [
  {
   "cell_type": "code",
   "execution_count": 1,
   "metadata": {},
   "outputs": [],
   "source": [
    "import pickle\n",
    "import gseapy as gp\n",
    "import pandas as pd"
   ]
  },
  {
   "cell_type": "code",
   "execution_count": 2,
   "metadata": {},
   "outputs": [],
   "source": [
    "# local_stringdb = '/novo/omdb/pds02/PDS2843/data/sprint_tid_ascvd/data/string/lfs-stringdb/'\n",
    "# # load local STRING database and names\n",
    "# df = pd.read_csv(local_stringdb+'9606.protein.info.v12.0.txt', sep='\\t', header=0, usecols=['#string_protein_id', 'preferred_name'])\n",
    "# df['preferred_name'] = df['preferred_name'].str.upper()\n",
    "# stringId2name = df.set_index('#string_protein_id')['preferred_name'].to_dict()\n",
    "# name2stringId = df.set_index('preferred_name')['#string_protein_id'].to_dict()\n",
    "# df = pd.read_csv(local_stringdb+'9606.protein.aliases.v12.0.txt', sep='\\t', header=0, usecols=['#string_protein_id', 'alias']).drop_duplicates(['alias'], keep='first')\n",
    "# df['alias'] = df['alias'].str.upper()\n",
    "# aliases2stringId = df.set_index('alias')['#string_protein_id'].to_dict()\n",
    "\n",
    "# file_path = '/novo/omdb/pds02/PDS2843/data/sprint_tid_ascvd/gzn/thesis/HBDM/data/datasets/ppi/ppi_name2stringId.pkl'\n",
    "# # Serialize and save the Tensor to the file\n",
    "# with open(file_path, 'wb') as file:\n",
    "#     pickle.dump(name2stringId, file)\n",
    "# # Close the file\n",
    "# file.close()"
   ]
  },
  {
   "cell_type": "code",
   "execution_count": 2,
   "metadata": {},
   "outputs": [],
   "source": [
    "ppi_aliases2stringId_path = '/novo/omdb/pds02/PDS2843/data/sprint_tid_ascvd/gzn/thesis/HBDM/data/datasets/ppi/ppi_aliases2stringId.pkl'\n",
    "ppi_name2stringId_path = '/novo/omdb/pds02/PDS2843/data/sprint_tid_ascvd/gzn/thesis/HBDM/data/datasets/ppi/ppi_name2stringId.pkl'\n",
    "ppi_index_path = '/novo/omdb/pds02/PDS2843/data/sprint_tid_ascvd/gzn/thesis/HBDM/data/datasets/ppi/ppi_index.pkl'\n",
    "complex_path = '/novo/omdb/pds02/PDS2843/data/sprint_tid_ascvd/gzn/thesis/HBDM/data/test/complex/CORUM-Human-Complexes_r.txt'\n",
    "complex_save = '/novo/omdb/pds02/PDS2843/data/sprint_tid_ascvd/gzn/thesis/HBDM/data/test/complex/human_complexes_node.pkl'\n",
    "pathway_save = '/novo/omdb/pds02/PDS2843/data/sprint_tid_ascvd/gzn/thesis/HBDM/data/test/pathway_node.pkl'\n",
    "disgenet_save = '/novo/omdb/pds02/PDS2843/data/sprint_tid_ascvd/gzn/thesis/HBDM/data/test/cad_node.pkl'"
   ]
  },
  {
   "cell_type": "code",
   "execution_count": 3,
   "metadata": {},
   "outputs": [],
   "source": [
    "with open(ppi_aliases2stringId_path, 'rb') as file:\n",
    "    aliases2stringId = pickle.load(file)\n",
    "with open(ppi_name2stringId_path, 'rb') as file:\n",
    "    name2stringId = pickle.load(file)\n",
    "def convert_stringId(alias):\n",
    "    try:\n",
    "        stringId = name2stringId[alias]\n",
    "    except:\n",
    "        #print(alias, 'can\\'t be converted by name2stringId! Now trying aliases2stringId.')\n",
    "        try:\n",
    "            stringId = aliases2stringId[alias]\n",
    "        except:\n",
    "            #print(alias, 'can\\'t be converted by aliases2stringId! Now return None.')\n",
    "            stringId = None\n",
    "    #print(alias, stringId)\n",
    "    return stringId\n",
    "protein_names = list(aliases2stringId.keys())\n",
    "protein_names.extend(list(name2stringId.keys()))\n",
    "\n",
    "with open(ppi_index_path, 'rb') as file:\n",
    "    ppi_index = pickle.load(file)\n",
    "node2string = {value: key for key, value in ppi_index.items()}\n",
    "\n",
    "humans = set(ppi_index.keys())\n",
    "string2name= {value: key for key, value in name2stringId.items()}"
   ]
  },
  {
   "cell_type": "code",
   "execution_count": 5,
   "metadata": {},
   "outputs": [],
   "source": [
    "caddf = pd.read_csv('/novo/omdb/pds02/PDS2843/data/sprint_tid_ascvd/gzn/thesis/HBDM/data/disease/DIS_CAD.tsv',sep='\\t')\n",
    "cadlist = caddf['Gene'].tolist()\n",
    "group_node = []\n",
    "for gene in cadlist:\n",
    "    if gene in protein_names:\n",
    "        stringid = convert_stringId(gene)\n",
    "        if stringid in humans:\n",
    "            node = ppi_index[stringid]\n",
    "            group_node.append(node)\n",
    "with open(disgenet_save, 'wb') as file:\n",
    "    pickle.dump(group_node, file)\n",
    "# Close the file\n",
    "file.close()\n"
   ]
  },
  {
   "cell_type": "code",
   "execution_count": 7,
   "metadata": {},
   "outputs": [
    {
     "data": {
      "text/plain": [
       "1535"
      ]
     },
     "execution_count": 7,
     "metadata": {},
     "output_type": "execute_result"
    }
   ],
   "source": [
    "len(group_node)"
   ]
  },
  {
   "cell_type": "markdown",
   "metadata": {},
   "source": [
    "## complexs"
   ]
  },
  {
   "cell_type": "code",
   "execution_count": 10,
   "metadata": {},
   "outputs": [
    {
     "data": {
      "text/plain": [
       "2350"
      ]
     },
     "execution_count": 10,
     "metadata": {},
     "output_type": "execute_result"
    }
   ],
   "source": [
    "# Initialize an empty dictionary to store the data\n",
    "data_dict = {}\n",
    "\n",
    "# Read the text file and populate the dictionary\n",
    "with open(complex_path, 'r') as file:\n",
    "    for line_index, line_content in enumerate(file, start=1):\n",
    "        # Enumerate starts index from 1\n",
    "        values = line_content.strip().split('\\t')  # Assuming values are separated by whitespace\n",
    "        uniques = list(set(values)&set(protein_names))\n",
    "        if len(uniques) > 1:\n",
    "            data_dict[line_index] = uniques\n",
    "\n",
    "complexs = dict()\n",
    "\n",
    "for key, value in data_dict.items():\n",
    "    length = len(value)\n",
    "    if length <= 7:\n",
    "        complexs[key] = value\n",
    "len(complexs)"
   ]
  },
  {
   "cell_type": "code",
   "execution_count": 11,
   "metadata": {},
   "outputs": [],
   "source": [
    "complexs_id = dict()\n",
    "\n",
    "for complex_name in complexs:\n",
    "    # folder_path = 'D:/study/thesis/project/HBDM-main/ppi_results/test_results/'+complex_name\n",
    "    # os.mkdir(folder_path)\n",
    "    group_node = []\n",
    "    for gene in complexs[complex_name]:\n",
    "        if gene in protein_names:\n",
    "            stringid = convert_stringId(gene)\n",
    "            real_gene = string2name[stringid]\n",
    "            if real_gene in humans:\n",
    "                node = ppi_index[real_gene]\n",
    "                group_node.append(node)\n",
    "            else:\n",
    "                continue\n",
    "\n",
    "    if len(set(group_node)) > 1:\n",
    "        complexs_id[complex_name] = group_node\n",
    "# Serialize and save the Tensor to the file\n",
    "with open(complex_save, 'wb') as file:\n",
    "    pickle.dump(complexs_id, file)\n",
    "# Close the file\n",
    "file.close()\n"
   ]
  },
  {
   "cell_type": "markdown",
   "metadata": {},
   "source": [
    "## pathways"
   ]
  },
  {
   "cell_type": "code",
   "execution_count": 12,
   "metadata": {},
   "outputs": [],
   "source": [
    "keggs = gp.get_library(name='KEGG_2019_Human', organism='Human')\n",
    "smallkegg = dict()\n",
    "kegglength = []\n",
    "for key, value in keggs.items():\n",
    "    length = len(value)\n",
    "    kegglength.append(length)\n",
    "    if length <= 150:\n",
    "        smallkegg[key] = value\n",
    "\n",
    "\n",
    "pathway_id = dict()\n",
    "\n",
    "for pathway in smallkegg:\n",
    "    group_node = []\n",
    "    for gene in smallkegg[pathway]:\n",
    "        if gene in protein_names:\n",
    "            stringid = convert_stringId(gene)\n",
    "            real_gene = string2name[stringid]\n",
    "            if real_gene in humans:\n",
    "                node = ppi_index[real_gene]\n",
    "                group_node.append(node)\n",
    "            else:\n",
    "                continue\n",
    "\n",
    "    if len(set(group_node)) > 1:\n",
    "        complexs_id[complex_name] = group_node\n",
    "\n",
    "# Serialize and save the Tensor to the file\n",
    "with open(pathway_save, 'wb') as file:\n",
    "    pickle.dump(pathway_id, file)\n",
    "# Close the file\n",
    "file.close()"
   ]
  }
 ],
 "metadata": {
  "kernelspec": {
   "display_name": "venepython3.9gzn",
   "language": "python",
   "name": "python3"
  },
  "language_info": {
   "codemirror_mode": {
    "name": "ipython",
    "version": 3
   },
   "file_extension": ".py",
   "mimetype": "text/x-python",
   "name": "python",
   "nbconvert_exporter": "python",
   "pygments_lexer": "ipython3",
   "version": "3.9.17"
  }
 },
 "nbformat": 4,
 "nbformat_minor": 2
}
