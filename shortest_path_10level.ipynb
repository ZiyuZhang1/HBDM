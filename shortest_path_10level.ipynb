{
 "cells": [
  {
   "cell_type": "code",
   "execution_count": 2,
   "metadata": {},
   "outputs": [],
   "source": [
    "import pandas as pd\n",
    "import numpy as np\n",
    "import networkx as nx\n",
    "import pickle\n",
    "import random"
   ]
  },
  {
   "cell_type": "code",
   "execution_count": 3,
   "metadata": {},
   "outputs": [
    {
     "data": {
      "text/plain": [
       "18767"
      ]
     },
     "execution_count": 3,
     "metadata": {},
     "output_type": "execute_result"
    }
   ],
   "source": [
    "with open(r'D:\\study\\thesis\\project\\HBDM-main\\datasets\\ppi\\ppi_index.pkl', 'rb') as f:\n",
    "    value_to_index_mapping = pickle.load(f)\n",
    "len(value_to_index_mapping)"
   ]
  },
  {
   "cell_type": "code",
   "execution_count": 4,
   "metadata": {},
   "outputs": [],
   "source": [
    "local_stringdb = 'D:/study/thesis/project/HBDM-main/nn_data/stringdb/'\n",
    "# load local STRING database and names\n",
    "df = pd.read_csv(local_stringdb+'9606.protein.info.v12.0.txt', sep='\\t', header=0, usecols=['#string_protein_id', 'preferred_name'])\n",
    "df['preferred_name'] = df['preferred_name'].str.upper()\n",
    "stringId2name = df.set_index('#string_protein_id')['preferred_name'].to_dict()\n",
    "name2stringId = df.set_index('preferred_name')['#string_protein_id'].to_dict()\n",
    "df = pd.read_csv(local_stringdb+'9606.protein.aliases.v12.0.txt', sep='\\t', header=0, usecols=['#string_protein_id', 'alias']).drop_duplicates(['alias'], keep='first')\n",
    "df['alias'] = df['alias'].str.upper()\n",
    "aliases2stringId = df.set_index('alias')['#string_protein_id'].to_dict()\n",
    "\n",
    "\n",
    "network = pd.read_csv(local_stringdb+'9606.protein.physical.links.detailed.v12.0.txt', sep=' ', header=0).convert_dtypes().replace(0, float('nan'))\n",
    "\n",
    "network = network[['protein1','protein2','combined_score']]"
   ]
  },
  {
   "cell_type": "code",
   "execution_count": 5,
   "metadata": {},
   "outputs": [],
   "source": [
    "# Define the reversed bin edges and labels\n",
    "bins = [149, 199, 299, 399, 499, 599, 699, 799, 899, 999]\n",
    "labels = [9, 8, 7, 6, 5, 4, 3, 2, 1]\n",
    "\n",
    "# Use pd.cut to categorize the data into levels\n",
    "network['weight'] = pd.cut(network['combined_score'], bins=bins, labels=labels, include_lowest=True)\n",
    "\n"
   ]
  },
  {
   "cell_type": "code",
   "execution_count": 6,
   "metadata": {},
   "outputs": [
    {
     "data": {
      "text/html": [
       "<div>\n",
       "<style scoped>\n",
       "    .dataframe tbody tr th:only-of-type {\n",
       "        vertical-align: middle;\n",
       "    }\n",
       "\n",
       "    .dataframe tbody tr th {\n",
       "        vertical-align: top;\n",
       "    }\n",
       "\n",
       "    .dataframe thead th {\n",
       "        text-align: right;\n",
       "    }\n",
       "</style>\n",
       "<table border=\"1\" class=\"dataframe\">\n",
       "  <thead>\n",
       "    <tr style=\"text-align: right;\">\n",
       "      <th></th>\n",
       "      <th>protein1</th>\n",
       "      <th>protein2</th>\n",
       "      <th>combined_score</th>\n",
       "      <th>weight</th>\n",
       "    </tr>\n",
       "  </thead>\n",
       "  <tbody>\n",
       "    <tr>\n",
       "      <th>0</th>\n",
       "      <td>9606.ENSP00000000233</td>\n",
       "      <td>9606.ENSP00000257770</td>\n",
       "      <td>311</td>\n",
       "      <td>7</td>\n",
       "    </tr>\n",
       "    <tr>\n",
       "      <th>1</th>\n",
       "      <td>9606.ENSP00000000233</td>\n",
       "      <td>9606.ENSP00000226004</td>\n",
       "      <td>161</td>\n",
       "      <td>9</td>\n",
       "    </tr>\n",
       "    <tr>\n",
       "      <th>2</th>\n",
       "      <td>9606.ENSP00000000233</td>\n",
       "      <td>9606.ENSP00000434442</td>\n",
       "      <td>499</td>\n",
       "      <td>6</td>\n",
       "    </tr>\n",
       "  </tbody>\n",
       "</table>\n",
       "</div>"
      ],
      "text/plain": [
       "               protein1              protein2  combined_score weight\n",
       "0  9606.ENSP00000000233  9606.ENSP00000257770             311      7\n",
       "1  9606.ENSP00000000233  9606.ENSP00000226004             161      9\n",
       "2  9606.ENSP00000000233  9606.ENSP00000434442             499      6"
      ]
     },
     "execution_count": 6,
     "metadata": {},
     "output_type": "execute_result"
    }
   ],
   "source": [
    "network.head(3)"
   ]
  },
  {
   "cell_type": "code",
   "execution_count": 7,
   "metadata": {},
   "outputs": [
    {
     "data": {
      "text/plain": [
       "(2, 1477610)"
      ]
     },
     "execution_count": 7,
     "metadata": {},
     "output_type": "execute_result"
    }
   ],
   "source": [
    "network['protein1'] = network['protein1'].str.replace('9606.ENSP', '')\n",
    "network['protein2'] = network['protein2'].str.replace('9606.ENSP', '')\n",
    "node_array = np.array(network[['protein1','protein2']].to_numpy(), dtype=int)\n",
    "mapped_arr = np.vectorize(value_to_index_mapping.get)(node_array)\n",
    "mapped_arr = mapped_arr.T\n",
    "mapped_arr.shape"
   ]
  },
  {
   "cell_type": "code",
   "execution_count": 8,
   "metadata": {},
   "outputs": [],
   "source": [
    "network['node1'] = mapped_arr[0]\n",
    "network['node2'] = mapped_arr[1]"
   ]
  },
  {
   "cell_type": "code",
   "execution_count": 9,
   "metadata": {},
   "outputs": [
    {
     "data": {
      "text/html": [
       "<div>\n",
       "<style scoped>\n",
       "    .dataframe tbody tr th:only-of-type {\n",
       "        vertical-align: middle;\n",
       "    }\n",
       "\n",
       "    .dataframe tbody tr th {\n",
       "        vertical-align: top;\n",
       "    }\n",
       "\n",
       "    .dataframe thead th {\n",
       "        text-align: right;\n",
       "    }\n",
       "</style>\n",
       "<table border=\"1\" class=\"dataframe\">\n",
       "  <thead>\n",
       "    <tr style=\"text-align: right;\">\n",
       "      <th></th>\n",
       "      <th>protein1</th>\n",
       "      <th>protein2</th>\n",
       "      <th>combined_score</th>\n",
       "      <th>weight</th>\n",
       "      <th>node1</th>\n",
       "      <th>node2</th>\n",
       "    </tr>\n",
       "  </thead>\n",
       "  <tbody>\n",
       "    <tr>\n",
       "      <th>0</th>\n",
       "      <td>00000000233</td>\n",
       "      <td>00000257770</td>\n",
       "      <td>311</td>\n",
       "      <td>7</td>\n",
       "      <td>0</td>\n",
       "      <td>1914</td>\n",
       "    </tr>\n",
       "    <tr>\n",
       "      <th>1</th>\n",
       "      <td>00000000233</td>\n",
       "      <td>00000226004</td>\n",
       "      <td>161</td>\n",
       "      <td>9</td>\n",
       "      <td>0</td>\n",
       "      <td>776</td>\n",
       "    </tr>\n",
       "    <tr>\n",
       "      <th>2</th>\n",
       "      <td>00000000233</td>\n",
       "      <td>00000434442</td>\n",
       "      <td>499</td>\n",
       "      <td>6</td>\n",
       "      <td>0</td>\n",
       "      <td>15878</td>\n",
       "    </tr>\n",
       "  </tbody>\n",
       "</table>\n",
       "</div>"
      ],
      "text/plain": [
       "      protein1     protein2  combined_score weight  node1  node2\n",
       "0  00000000233  00000257770             311      7      0   1914\n",
       "1  00000000233  00000226004             161      9      0    776\n",
       "2  00000000233  00000434442             499      6      0  15878"
      ]
     },
     "execution_count": 9,
     "metadata": {},
     "output_type": "execute_result"
    }
   ],
   "source": [
    "network.head(3)"
   ]
  },
  {
   "cell_type": "code",
   "execution_count": 10,
   "metadata": {},
   "outputs": [],
   "source": [
    "# Create an empty graph\n",
    "G = nx.Graph()\n",
    "\n",
    "# Iterate over the DataFrame rows and add edges with weights to the graph\n",
    "for index, row in network.iterrows():\n",
    "    G.add_edge(row['node1'], row['node2'], weight=row['weight'])"
   ]
  },
  {
   "cell_type": "code",
   "execution_count": 11,
   "metadata": {},
   "outputs": [
    {
     "data": {
      "text/plain": [
       "738805"
      ]
     },
     "execution_count": 11,
     "metadata": {},
     "output_type": "execute_result"
    }
   ],
   "source": [
    "len(G.edges)"
   ]
  },
  {
   "cell_type": "markdown",
   "metadata": {},
   "source": [
    "# Test"
   ]
  },
  {
   "cell_type": "markdown",
   "metadata": {},
   "source": [
    "### complexs"
   ]
  },
  {
   "cell_type": "code",
   "execution_count": 12,
   "metadata": {},
   "outputs": [],
   "source": [
    "complexs = {'RNA':['RPB1', 'RPB2', 'RPB3', 'RPB4', 'RPB5', 'RPB6', 'RPB7', 'RPB8', 'RPB9', 'RPB10', 'RPB11', 'RPB12', 'RPB13'],\n",
    "    'protease': ['PSMA1', 'PSMA2', 'PSMA3', 'PSMB1', 'PSMB2', 'PSMB3'],\n",
    "    'nuclear pore': ['NUP98', 'NUP93', 'NUP107', 'NUP133']\n",
    "}\n",
    "\n",
    "names = set(aliases2stringId.keys())\n",
    "humans = set(value_to_index_mapping.keys())\n",
    "\n",
    "complexs_id = dict()\n",
    "\n",
    "for complex_name in complexs:\n",
    "    folder_path = 'D:/study/thesis/project/HBDM-main/ppi_results/test_results/'+complex_name\n",
    "    # os.mkdir(folder_path)\n",
    "    group_node = []\n",
    "    for gene in complexs[complex_name]:\n",
    "        if gene in names:\n",
    "            stringid = aliases2stringId[gene]\n",
    "            stringid = int(stringid[9:])\n",
    "            if stringid in humans:\n",
    "                node = value_to_index_mapping[stringid]\n",
    "                group_node.append(node)\n",
    "    complexs_id[complex_name] = group_node"
   ]
  },
  {
   "cell_type": "code",
   "execution_count": 13,
   "metadata": {},
   "outputs": [
    {
     "name": "stdout",
     "output_type": "stream",
     "text": [
      "top- 100 \t RNA  precision:  0.0\n",
      "RNA  coverage:  0.0\n",
      "top- 200 \t RNA  precision:  0.0\n",
      "RNA  coverage:  0.0\n",
      "top- 300 \t RNA  precision:  0.0022222222222222222\n",
      "RNA  coverage:  0.06060606060606061\n",
      "top- 100 \t protease  precision:  0.0\n",
      "protease  coverage:  0.0\n",
      "top- 200 \t protease  precision:  0.020796864242582785\n",
      "protease  coverage:  0.7333333333333334\n",
      "top- 300 \t protease  precision:  0.026179452348131044\n",
      "protease  coverage:  1.0\n",
      "top- 100 \t nuclear pore  precision:  0.0\n",
      "nuclear pore  coverage:  0.0\n",
      "top- 200 \t nuclear pore  precision:  0.018596125519840318\n",
      "nuclear pore  coverage:  1.0\n",
      "top- 300 \t nuclear pore  precision:  0.018596125519840318\n",
      "nuclear pore  coverage:  1.0\n"
     ]
    }
   ],
   "source": [
    "for complex_name in complexs_id:\n",
    "    points = complexs_id[complex_name]\n",
    "    for top in [100,200,300]:\n",
    "        precision = []\n",
    "        coverage = []\n",
    "        for start_gene in points:\n",
    "            test_nodes = list(set(points)-set([start_gene]))\n",
    "            true_pre = []\n",
    "            subdf = network[network['node1']==start_gene]\n",
    "            ranked = subdf.sort_values(by='weight')\n",
    "            predicted=ranked[:top]['node2'].tolist()\n",
    "            for i in predicted:\n",
    "                if i in test_nodes:\n",
    "                    true_pre.append(i)\n",
    "            precision.append(len(true_pre)/len(predicted))\n",
    "            coverage.append(len(set(true_pre))/len(test_nodes))\n",
    "        print('top-',top,'\\t',complex_name,' precision: ', sum(precision)/len(precision))\n",
    "        print(complex_name,' coverage: ', sum(coverage)/len(coverage))"
   ]
  },
  {
   "cell_type": "markdown",
   "metadata": {},
   "source": [
    "### disease"
   ]
  },
  {
   "cell_type": "code",
   "execution_count": 14,
   "metadata": {},
   "outputs": [],
   "source": [
    "disease_df = pd.read_csv(r'D:\\study\\thesis\\project\\HBDM-main\\disease\\Coronary artery disease.tsv',sep='\\t')\n",
    "names = set(aliases2stringId.keys())\n",
    "humans = set(value_to_index_mapping.keys())\n",
    "\n",
    "group_node = []\n",
    "for gene in disease_df['Gene']:\n",
    "    if gene in names:\n",
    "        stringid = aliases2stringId[gene]\n",
    "        stringid = int(stringid[9:])\n",
    "        if stringid in humans:\n",
    "            node = value_to_index_mapping[stringid]\n",
    "            group_node.append(node)"
   ]
  },
  {
   "cell_type": "code",
   "execution_count": 15,
   "metadata": {},
   "outputs": [],
   "source": [
    "results = []\n",
    "for start in group_node:\n",
    "    path_weight = nx.shortest_path_length(G, source=start, weight='weight')\n",
    "    results.append(path_weight)"
   ]
  },
  {
   "cell_type": "code",
   "execution_count": 16,
   "metadata": {},
   "outputs": [
    {
     "ename": "ValueError",
     "evalue": "5613 is not in list",
     "output_type": "error",
     "traceback": [
      "\u001b[1;31m---------------------------------------------------------------------------\u001b[0m",
      "\u001b[1;31mValueError\u001b[0m                                Traceback (most recent call last)",
      "\u001b[1;32md:\\study\\thesis\\project\\HBDM-main\\shortest_path_10level.ipynb Cell 18\u001b[0m line \u001b[0;36m1\n\u001b[0;32m     <a href='vscode-notebook-cell:/d%3A/study/thesis/project/HBDM-main/shortest_path_10level.ipynb#X21sZmlsZQ%3D%3D?line=11'>12</a>\u001b[0m coverage \u001b[39m=\u001b[39m []\n\u001b[0;32m     <a href='vscode-notebook-cell:/d%3A/study/thesis/project/HBDM-main/shortest_path_10level.ipynb#X21sZmlsZQ%3D%3D?line=12'>13</a>\u001b[0m \u001b[39mfor\u001b[39;00m start \u001b[39min\u001b[39;00m train_nodes:\n\u001b[1;32m---> <a href='vscode-notebook-cell:/d%3A/study/thesis/project/HBDM-main/shortest_path_10level.ipynb#X21sZmlsZQ%3D%3D?line=13'>14</a>\u001b[0m     position \u001b[39m=\u001b[39m points\u001b[39m.\u001b[39;49mindex(start)\n\u001b[0;32m     <a href='vscode-notebook-cell:/d%3A/study/thesis/project/HBDM-main/shortest_path_10level.ipynb#X21sZmlsZQ%3D%3D?line=14'>15</a>\u001b[0m     sorted_items \u001b[39m=\u001b[39m \u001b[39msorted\u001b[39m(results[position]\u001b[39m.\u001b[39mitems(), key\u001b[39m=\u001b[39m\u001b[39mlambda\u001b[39;00m item: item[\u001b[39m1\u001b[39m])\n\u001b[0;32m     <a href='vscode-notebook-cell:/d%3A/study/thesis/project/HBDM-main/shortest_path_10level.ipynb#X21sZmlsZQ%3D%3D?line=15'>16</a>\u001b[0m     sorted_keys \u001b[39m=\u001b[39m [item[\u001b[39m0\u001b[39m] \u001b[39mfor\u001b[39;00m item \u001b[39min\u001b[39;00m sorted_items]\n",
      "\u001b[1;31mValueError\u001b[0m: 5613 is not in list"
     ]
    }
   ],
   "source": [
    "\n",
    "from sklearn.model_selection import KFold\n",
    "\n",
    "\n",
    "for k in [5,10,50]:\n",
    "    k+=1\n",
    "    kf = KFold(n_splits=5, shuffle=True, random_state=42)\n",
    "    for train_index, test_index in kf.split(group_node):\n",
    "        train_nodes = [group_node[i] for i in train_index]\n",
    "        test_nodes = [group_node[i] for i in test_index]\n",
    "        precision = []\n",
    "        coverage = []\n",
    "        for start in train_nodes:\n",
    "            position = points.index(start)\n",
    "            sorted_items = sorted(results[position].items(), key=lambda item: item[1])\n",
    "            sorted_keys = [item[0] for item in sorted_items]\n",
    "            true_pre = []\n",
    "            \n",
    "            k_neiboger = sorted_keys[:k]\n",
    "            for nei in k_neiboger:\n",
    "                if nei in test_nodes:\n",
    "                    true_pre.append(nei)\n",
    "            precision.append(len(true_pre)/len(df))\n",
    "            coverage.append(len(set(true_pre))/len(test_nodes))\n",
    "    print('k',k-1,'precision: ', sum(precision)/len(precision))\n",
    "    print('k',k-1,'coverage: ', sum(coverage)/len(coverage))"
   ]
  },
  {
   "cell_type": "code",
   "execution_count": null,
   "metadata": {},
   "outputs": [
    {
     "name": "stdout",
     "output_type": "stream",
     "text": [
      "precision:  0.012077294685990338\n",
      "coverage:  0.2222222222222222\n"
     ]
    }
   ],
   "source": [
    "# from sklearn.model_selection import KFold\n",
    "# kf = KFold(n_splits=5, shuffle=True, random_state=42)\n",
    "# for train_index, test_index in kf.split(group_node):\n",
    "#     train_nodes = [group_node[i] for i in train_index]\n",
    "#     test_nodes = [group_node[i] for i in test_index]\n",
    "#     true_pre = []\n",
    "#     precision = []\n",
    "#     coverage = []\n",
    "#     subdf = df[(df['start'].isin(train_nodes))&(df['end'].isin(train_nodes))]\n",
    "#     for path in subdf['path'].tolist():\n",
    "#         for gene in path:\n",
    "#             if gene in test_nodes:\n",
    "#                 true_pre.append(gene)\n",
    "#     precision.append(len(true_pre)/len(df))\n",
    "#     coverage.append(len(set(true_pre))/len(test_nodes))\n",
    "# print('precision: ', sum(precision)/len(precision))\n",
    "# print('coverage: ', sum(coverage)/len(coverage))"
   ]
  },
  {
   "cell_type": "code",
   "execution_count": null,
   "metadata": {},
   "outputs": [
    {
     "name": "stdout",
     "output_type": "stream",
     "text": [
      "precision:  0.00676328502415459\n",
      "coverage:  0.2\n"
     ]
    }
   ],
   "source": [
    "# test_nodes = [974, 5874, 17542, 3309, 1271, 13189, 7607, 5512, 18282, 18543]\n",
    "# train_nodes = list(set(group_node)-set(test_nodes))\n",
    "# true_pre = []\n",
    "# precision = []\n",
    "# coverage = []\n",
    "# subdf = df[(df['start'].isin(train_nodes))&(df['end'].isin(train_nodes))]\n",
    "# for path in subdf['path'].tolist():\n",
    "#     for gene in path:\n",
    "#         if gene in test_nodes:\n",
    "#             true_pre.append(gene)\n",
    "\n",
    "# print('precision: ', len(true_pre)/len(df))\n",
    "# print('coverage: ', len(set(true_pre))/len(test_nodes))"
   ]
  }
 ],
 "metadata": {
  "kernelspec": {
   "display_name": "hbdm",
   "language": "python",
   "name": "python3"
  },
  "language_info": {
   "codemirror_mode": {
    "name": "ipython",
    "version": 3
   },
   "file_extension": ".py",
   "mimetype": "text/x-python",
   "name": "python",
   "nbconvert_exporter": "python",
   "pygments_lexer": "ipython3",
   "version": "3.8.3"
  }
 },
 "nbformat": 4,
 "nbformat_minor": 2
}
