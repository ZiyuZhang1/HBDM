{
 "cells": [
  {
   "cell_type": "code",
   "execution_count": 1,
   "metadata": {},
   "outputs": [],
   "source": [
    "import numpy as np\n",
    "import pickle\n",
    "import os\n",
    "import scipy.cluster.hierarchy as sch\n",
    "import matplotlib.pyplot as plt\n",
    "import networkx as nx\n",
    "import pandas as pd"
   ]
  },
  {
   "cell_type": "code",
   "execution_count": 2,
   "metadata": {},
   "outputs": [],
   "source": [
    "# Define the root directory\n",
    "name = 'Dataset-ppi--RE-True--W-True--Epochs-15000--D-8--RH-25--LR-0.1--LP-False--CUDA-True'\n",
    "root = 'D:/study/thesis/project/HBDM-main/ppi_results/models/'+name\n",
    "# W = True"
   ]
  },
  {
   "cell_type": "markdown",
   "metadata": {},
   "source": [
    "# load data"
   ]
  },
  {
   "cell_type": "markdown",
   "metadata": {},
   "source": [
    "## get hierarchical structure of level 1"
   ]
  },
  {
   "cell_type": "code",
   "execution_count": 3,
   "metadata": {},
   "outputs": [],
   "source": [
    "\n",
    "# Specify the variable names\n",
    "# variable_names = ['k_exp_dist','final_idx', 'general_cl_id', 'general_mask']\n",
    "variable_names = ['k_exp_dist', 'general_cl_id', 'general_mask']\n",
    "# Initialize a dictionary to store the loaded variables\n",
    "loaded_variables = {}\n",
    "\n",
    "# Loop through the variable names and load the data from pickle files\n",
    "for var_name in variable_names:\n",
    "    file_path = os.path.join(root, var_name + '.pkl')\n",
    "    with open(file_path, 'rb') as f:\n",
    "        loaded_data = pickle.load(f)\n",
    "    loaded_variables[var_name] = loaded_data\n",
    "\n",
    "# Access the loaded variables as needed\n",
    "k_exp_dist = loaded_variables['k_exp_dist']\n",
    "# final_idx = loaded_variables['final_idx']\n",
    "general_cl_id = loaded_variables['general_cl_id']\n",
    "general_mask = loaded_variables['general_mask']"
   ]
  },
  {
   "cell_type": "markdown",
   "metadata": {},
   "source": [
    "### check data structure"
   ]
  },
  {
   "cell_type": "code",
   "execution_count": 4,
   "metadata": {},
   "outputs": [
    {
     "data": {
      "text/plain": [
       "(2078, 2078)"
      ]
     },
     "execution_count": 4,
     "metadata": {},
     "output_type": "execute_result"
    }
   ],
   "source": [
    "k_exp_dist = np.array(k_exp_dist)\n",
    "k_exp_dist.shape"
   ]
  },
  {
   "cell_type": "code",
   "execution_count": 5,
   "metadata": {},
   "outputs": [
    {
     "name": "stdout",
     "output_type": "stream",
     "text": [
      "0 9\n",
      "10 29\n",
      "30 69\n",
      "70 149\n",
      "150 297\n",
      "512 511\n",
      "564 983\n",
      "984 1481\n",
      "1482 1885\n",
      "2048 2047\n",
      "2052 2073\n",
      "2074 2077\n"
     ]
    }
   ],
   "source": [
    "# check the cluster ids in different levels\n",
    "for i in general_cl_id:\n",
    "    a = list(set(i))\n",
    "    print(a[0],a[-1])"
   ]
  },
  {
   "cell_type": "code",
   "execution_count": 6,
   "metadata": {},
   "outputs": [
    {
     "name": "stdout",
     "output_type": "stream",
     "text": [
      "18766 0\n",
      "18766 0\n",
      "18766 0\n",
      "18766 0\n",
      "18766 0\n",
      "18766 0\n",
      "18766 0\n",
      "18766 0\n",
      "18766 0\n",
      "18766 1\n",
      "18696 108\n",
      "18696 108\n"
     ]
    }
   ],
   "source": [
    "# check nodes in different levels, the position is map to general_cl_id cluster ids\n",
    "for i in general_mask:\n",
    "    a = list(set(i))\n",
    "    print(max(a),min(a))"
   ]
  },
  {
   "cell_type": "markdown",
   "metadata": {},
   "source": [
    "### take level 1 nodes"
   ]
  },
  {
   "cell_type": "code",
   "execution_count": 7,
   "metadata": {},
   "outputs": [],
   "source": [
    "# check if the mask is ordered\n",
    "if general_mask[0].tolist() != sorted(general_mask[0].tolist()):\n",
    "    print('False')"
   ]
  },
  {
   "cell_type": "code",
   "execution_count": 8,
   "metadata": {},
   "outputs": [],
   "source": [
    "# since the general_mask[0] is ordered, we can directly use list index as the node id\n",
    "L1 = general_cl_id[0]\n",
    "unique_values = np.unique(L1)\n",
    "index_dict = {value: np.where(L1 == value)[0].tolist() for value in unique_values}"
   ]
  },
  {
   "cell_type": "code",
   "execution_count": 9,
   "metadata": {},
   "outputs": [
    {
     "name": "stdout",
     "output_type": "stream",
     "text": [
      "Key: 0, Value Length: 1182\n",
      "Key: 1, Value Length: 2750\n",
      "Key: 2, Value Length: 2983\n",
      "Key: 3, Value Length: 2798\n",
      "Key: 4, Value Length: 1100\n",
      "Key: 5, Value Length: 3301\n",
      "Key: 6, Value Length: 2374\n",
      "Key: 7, Value Length: 750\n",
      "Key: 8, Value Length: 571\n",
      "Key: 9, Value Length: 958\n"
     ]
    }
   ],
   "source": [
    "for key, value in index_dict.items():\n",
    "    print(f\"Key: {key}, Value Length: {len(value)}\")"
   ]
  },
  {
   "cell_type": "markdown",
   "metadata": {},
   "source": [
    "### hierarchical structure of level 1"
   ]
  },
  {
   "cell_type": "code",
   "execution_count": 10,
   "metadata": {},
   "outputs": [
    {
     "data": {
      "image/png": "[encoded data removed]",
      "text/plain": [
       "<Figure size 640x480 with 1 Axes>"
      ]
     },
     "metadata": {},
     "output_type": "display_data"
    }
   ],
   "source": [
    "\n",
    "pltroot = 'D:/study/thesis/project/HBDM-main/ppi_results/plots/'\n",
    "\n",
    "# Create your matrix of within-cluster Euclidean distances\n",
    "distance_matrix = k_exp_dist[:10,:10]\n",
    "\n",
    "# Perform hierarchical clustering\n",
    "linkage_matrix = sch.linkage(distance_matrix, method='average')\n",
    "dendrogram = sch.dendrogram(linkage_matrix, color_threshold=0)\n",
    "\n",
    "# plt.title('Post-Processing Agglomerative Clustering Dendrogram')\n",
    "# plt.xlabel('Clusters')\n",
    "# plt.ylabel('Euclidean Distance')\n",
    "# plt.savefig(pltroot+'Dendrogram-'+name+'.png')\n",
    "# plt.show()\n",
    "\n",
    "order = dendrogram['leaves']"
   ]
  },
  {
   "cell_type": "code",
   "execution_count": 11,
   "metadata": {},
   "outputs": [
    {
     "data": {
      "text/plain": [
       "[0, 6, 4, 7, 8, 9, 1, 5, 2, 3]"
      ]
     },
     "execution_count": 11,
     "metadata": {},
     "output_type": "execute_result"
    }
   ],
   "source": [
    "order"
   ]
  },
  {
   "cell_type": "markdown",
   "metadata": {},
   "source": [
    "### get node order"
   ]
  },
  {
   "cell_type": "code",
   "execution_count": 12,
   "metadata": {},
   "outputs": [],
   "source": [
    "index = []\n",
    "for key in order:\n",
    "    index.extend(index_dict[key])"
   ]
  },
  {
   "cell_type": "code",
   "execution_count": 13,
   "metadata": {},
   "outputs": [
    {
     "data": {
      "text/plain": [
       "18767"
      ]
     },
     "execution_count": 13,
     "metadata": {},
     "output_type": "execute_result"
    }
   ],
   "source": [
    "len(index)"
   ]
  },
  {
   "cell_type": "markdown",
   "metadata": {},
   "source": [
    "## latent representation"
   ]
  },
  {
   "cell_type": "code",
   "execution_count": 14,
   "metadata": {},
   "outputs": [],
   "source": [
    "### get node and 1d,2d\n",
    "\n",
    "file_path_d = 'D:/study/thesis/project/HBDM-main/ppi_results/latent/'+name +'.pkl'\n",
    "with open(file_path_d, 'rb') as file:\n",
    "    loaded_tensor = pickle.load(file)\n",
    "\n",
    "tensor = loaded_tensor.cpu()\n",
    "node_rep = tensor.detach().numpy()\n",
    "\n",
    "\n",
    "df_latent = pd.DataFrame()\n",
    "for d in range(node_rep.shape[1]):\n",
    "    col_name = str(d+1)+'d'\n",
    "    df_latent[col_name] = node_rep.T[d]\n",
    "df_latent['node'] = df_latent.index"
   ]
  },
  {
   "cell_type": "code",
   "execution_count": 15,
   "metadata": {},
   "outputs": [],
   "source": [
    "## get node and cluster\n",
    "clusters = []\n",
    "ori_index = []\n",
    "for key in index_dict:\n",
    "    clusters += len(index_dict[key])*[int(key)]\n",
    "    ori_index.extend(index_dict[key])\n",
    "df = pd.DataFrame({'node': ori_index, 'cluster': clusters})"
   ]
  },
  {
   "cell_type": "code",
   "execution_count": 16,
   "metadata": {},
   "outputs": [
    {
     "data": {
      "text/html": [
       "<div>\n",
       "<style scoped>\n",
       "    .dataframe tbody tr th:only-of-type {\n",
       "        vertical-align: middle;\n",
       "    }\n",
       "\n",
       "    .dataframe tbody tr th {\n",
       "        vertical-align: top;\n",
       "    }\n",
       "\n",
       "    .dataframe thead th {\n",
       "        text-align: right;\n",
       "    }\n",
       "</style>\n",
       "<table border=\"1\" class=\"dataframe\">\n",
       "  <thead>\n",
       "    <tr style=\"text-align: right;\">\n",
       "      <th></th>\n",
       "      <th>node</th>\n",
       "      <th>cluster</th>\n",
       "      <th>1d</th>\n",
       "      <th>2d</th>\n",
       "      <th>3d</th>\n",
       "      <th>4d</th>\n",
       "      <th>5d</th>\n",
       "      <th>6d</th>\n",
       "      <th>7d</th>\n",
       "      <th>8d</th>\n",
       "    </tr>\n",
       "  </thead>\n",
       "  <tbody>\n",
       "    <tr>\n",
       "      <th>14114</th>\n",
       "      <td>0</td>\n",
       "      <td>6</td>\n",
       "      <td>0.070718</td>\n",
       "      <td>-0.970324</td>\n",
       "      <td>-2.031606</td>\n",
       "      <td>-2.117536</td>\n",
       "      <td>-1.100787</td>\n",
       "      <td>1.924367</td>\n",
       "      <td>2.337702</td>\n",
       "      <td>-0.498431</td>\n",
       "    </tr>\n",
       "    <tr>\n",
       "      <th>3932</th>\n",
       "      <td>1</td>\n",
       "      <td>2</td>\n",
       "      <td>0.116251</td>\n",
       "      <td>-1.427020</td>\n",
       "      <td>-3.123650</td>\n",
       "      <td>-3.639700</td>\n",
       "      <td>-0.966149</td>\n",
       "      <td>3.426896</td>\n",
       "      <td>2.373441</td>\n",
       "      <td>-0.275181</td>\n",
       "    </tr>\n",
       "    <tr>\n",
       "      <th>10813</th>\n",
       "      <td>2</td>\n",
       "      <td>5</td>\n",
       "      <td>-0.670054</td>\n",
       "      <td>0.121622</td>\n",
       "      <td>-1.424834</td>\n",
       "      <td>-2.677057</td>\n",
       "      <td>0.615399</td>\n",
       "      <td>2.761855</td>\n",
       "      <td>0.771090</td>\n",
       "      <td>-0.155696</td>\n",
       "    </tr>\n",
       "    <tr>\n",
       "      <th>9713</th>\n",
       "      <td>3</td>\n",
       "      <td>4</td>\n",
       "      <td>2.386367</td>\n",
       "      <td>-6.904398</td>\n",
       "      <td>-2.759109</td>\n",
       "      <td>-2.735476</td>\n",
       "      <td>-3.104793</td>\n",
       "      <td>1.456720</td>\n",
       "      <td>1.598035</td>\n",
       "      <td>3.798105</td>\n",
       "    </tr>\n",
       "    <tr>\n",
       "      <th>14115</th>\n",
       "      <td>4</td>\n",
       "      <td>6</td>\n",
       "      <td>-1.241129</td>\n",
       "      <td>-0.937431</td>\n",
       "      <td>1.155136</td>\n",
       "      <td>-0.106069</td>\n",
       "      <td>-3.874555</td>\n",
       "      <td>-0.730731</td>\n",
       "      <td>4.720593</td>\n",
       "      <td>0.569784</td>\n",
       "    </tr>\n",
       "  </tbody>\n",
       "</table>\n",
       "</div>"
      ],
      "text/plain": [
       "       node  cluster        1d        2d        3d        4d        5d  \\\n",
       "14114     0        6  0.070718 -0.970324 -2.031606 -2.117536 -1.100787   \n",
       "3932      1        2  0.116251 -1.427020 -3.123650 -3.639700 -0.966149   \n",
       "10813     2        5 -0.670054  0.121622 -1.424834 -2.677057  0.615399   \n",
       "9713      3        4  2.386367 -6.904398 -2.759109 -2.735476 -3.104793   \n",
       "14115     4        6 -1.241129 -0.937431  1.155136 -0.106069 -3.874555   \n",
       "\n",
       "             6d        7d        8d  \n",
       "14114  1.924367  2.337702 -0.498431  \n",
       "3932   3.426896  2.373441 -0.275181  \n",
       "10813  2.761855  0.771090 -0.155696  \n",
       "9713   1.456720  1.598035  3.798105  \n",
       "14115 -0.730731  4.720593  0.569784  "
      ]
     },
     "execution_count": 16,
     "metadata": {},
     "output_type": "execute_result"
    }
   ],
   "source": [
    "## get df: node, cluster, 1d, 2d\n",
    "df = df.merge(df_latent)\n",
    "df = df.sort_values(by='node')\n",
    "df.head(5)"
   ]
  },
  {
   "cell_type": "markdown",
   "metadata": {},
   "source": [
    "# Test"
   ]
  },
  {
   "cell_type": "markdown",
   "metadata": {},
   "source": [
    "## choose test dataset"
   ]
  },
  {
   "cell_type": "code",
   "execution_count": 17,
   "metadata": {},
   "outputs": [],
   "source": [
    "with open(r'D:\\study\\thesis\\project\\HBDM-main\\datasets\\ppi\\ppi_index.pkl', 'rb') as f:\n",
    "    value_to_index_mapping = pickle.load(f)\n",
    "with open(r'D:\\study\\thesis\\project\\HBDM-main\\datasets\\ppi\\Aliases2stringId.pkl', 'rb') as f:\n",
    "    ppi_name2stringId = pickle.load(f)"
   ]
  },
  {
   "cell_type": "markdown",
   "metadata": {},
   "source": [
    "### from STRING-KEGG"
   ]
  },
  {
   "cell_type": "code",
   "execution_count": 18,
   "metadata": {},
   "outputs": [],
   "source": [
    "# test_df = pd.read_csv(r'D:\\study\\thesis\\project\\HBDM-main\\disease\\CAD\\KEGG Lipid and atherosclerosis.tsv',sep='\\t')\n",
    "# group = set(test_df['#node1'].unique())\n",
    "# group.update(set(test_df['node2'].unique()))\n",
    "# group = list(group)\n",
    "\n",
    "# group_node = []\n",
    "# for gene in group:\n",
    "#     stringid = ppi_name2stringId[gene]\n",
    "#     node = value_to_index_mapping[int(stringid[9:])]\n",
    "#     group_node.append(node)"
   ]
  },
  {
   "cell_type": "markdown",
   "metadata": {},
   "source": [
    "### from STRING cluster"
   ]
  },
  {
   "cell_type": "code",
   "execution_count": 19,
   "metadata": {},
   "outputs": [],
   "source": [
    "# string_15942=pd.read_csv(r'D:\\study\\thesis\\project\\HBDM-main\\string module\\9606.clusters.proteins.v12.0.txt',sep='\\t')\n",
    "# string_15942 = string_15942[string_15942['cluster_id'] == 'CL:15942']\n",
    "# group_node = []\n",
    "# for i in string_15942['protein_id']:\n",
    "#     node = value_to_index_mapping[int(i[9:])]\n",
    "#     group_node.append(node)"
   ]
  },
  {
   "cell_type": "markdown",
   "metadata": {},
   "source": [
    "### from DisGeNET disease"
   ]
  },
  {
   "cell_type": "code",
   "execution_count": 20,
   "metadata": {},
   "outputs": [],
   "source": [
    "disease_df = pd.read_csv(r'D:\\study\\thesis\\project\\HBDM-main\\disease\\Crohn disease.tsv',sep='\\t')"
   ]
  },
  {
   "cell_type": "code",
   "execution_count": 21,
   "metadata": {},
   "outputs": [],
   "source": [
    "names = set(ppi_name2stringId.keys())\n",
    "humans = set(value_to_index_mapping.keys())\n",
    "\n",
    "group_node = []\n",
    "for gene in disease_df['Gene']:\n",
    "    if gene in names:\n",
    "        stringid = ppi_name2stringId[gene]\n",
    "        stringid = int(stringid[9:])\n",
    "        if stringid in humans:\n",
    "            node = value_to_index_mapping[stringid]\n",
    "            group_node.append(node)"
   ]
  },
  {
   "cell_type": "markdown",
   "metadata": {},
   "source": [
    "## label df with given group_node"
   ]
  },
  {
   "cell_type": "markdown",
   "metadata": {},
   "source": [
    "### check label position in latent space"
   ]
  },
  {
   "cell_type": "code",
   "execution_count": 22,
   "metadata": {},
   "outputs": [
    {
     "data": {
      "text/plain": [
       "array([5, 4, 2, 3, 1, 0, 7, 6, 8, 9], dtype=int64)"
      ]
     },
     "execution_count": 22,
     "metadata": {},
     "output_type": "execute_result"
    }
   ],
   "source": [
    "group_df = df[df['node'].isin(group_node)]\n",
    "group_df['cluster'].unique()"
   ]
  },
  {
   "cell_type": "code",
   "execution_count": 23,
   "metadata": {},
   "outputs": [],
   "source": [
    "## get final df: node, cluster, 1d, 2d, label\n",
    "df['label'] = df['node'].apply(lambda x: 1 if x in group_node else 0)\n",
    "# Set the index to match the values in column 'node'\n",
    "df = df.set_index('node')\n",
    "# Reset the index to its default integer index\n",
    "df = df.reset_index()"
   ]
  },
  {
   "cell_type": "code",
   "execution_count": 24,
   "metadata": {},
   "outputs": [],
   "source": [
    "# # def show_positive(df):\n",
    "# #     # Define the color map\n",
    "# #     color_map = {0: 'grey', 1: 'red'}\n",
    "\n",
    "# #     # Create a scatter plot\n",
    "# #     plt.scatter(df['1d'], df['2d'], c=df['label'].map(color_map), s=0.1, label='Data Points')\n",
    "\n",
    "# #     # Add labels\n",
    "# #     plt.xlabel('1d')\n",
    "# #     plt.ylabel('2d')\n",
    "\n",
    "\n",
    "# #     # Set plot title\n",
    "# #     plt.title('Scatter Plot of 1d vs. 2d')\n",
    "\n",
    "# #     # Show the plot\n",
    "# #     plt.grid(True)\n",
    "# #     plt.savefig(pltroot+'positive-'+name+'.png')\n",
    "# #     plt.show()\n",
    "\n",
    "# %matplotlib widget\n",
    "\n",
    "# # creating figure\n",
    "# color_map = {0: 'grey', 1: 'red'}\n",
    "\n",
    "# fig = plt.figure()\n",
    "# ax = fig.add_subplot(projection='3d')\n",
    "\n",
    "# # creating the plot\n",
    "# plot_geeks = ax.scatter(df['1d'], df['2d'], df['3d'], c=df['label'].map(color_map), s=0.1, label='Data Points')\n",
    "\n",
    "# # setting title and labels\n",
    "# ax.set_title(\"3D plot\")\n",
    "# ax.set_xlabel('x-axis')\n",
    "# ax.set_ylabel('y-axis')\n",
    "# ax.set_zlabel('z-axis')\n",
    "\n",
    "\n",
    "# # displaying the plot\n",
    "# plt.show()"
   ]
  },
  {
   "cell_type": "code",
   "execution_count": 25,
   "metadata": {},
   "outputs": [],
   "source": [
    "# show_positive(df[(df['1d'] > -20) & (df['1d'] < 20) & (df['2d'] > -20) & (df['2d'] < 20)])\n",
    "# show_positive(df)"
   ]
  },
  {
   "cell_type": "markdown",
   "metadata": {},
   "source": [
    "## k nearest neighbor method"
   ]
  },
  {
   "cell_type": "code",
   "execution_count": 26,
   "metadata": {},
   "outputs": [],
   "source": [
    "import random\n",
    "from sklearn.neighbors import KDTree"
   ]
  },
  {
   "cell_type": "markdown",
   "metadata": {},
   "source": [
    "### 5-fold corss validation get best K"
   ]
  },
  {
   "cell_type": "code",
   "execution_count": 27,
   "metadata": {},
   "outputs": [],
   "source": [
    "output_file = 'D:/study/thesis/project/HBDM-main/ppi_results/test_results/CD/'+name+\".txt\""
   ]
  },
  {
   "cell_type": "code",
   "execution_count": 28,
   "metadata": {},
   "outputs": [
    {
     "data": {
      "text/html": [
       "<div>\n",
       "<style scoped>\n",
       "    .dataframe tbody tr th:only-of-type {\n",
       "        vertical-align: middle;\n",
       "    }\n",
       "\n",
       "    .dataframe tbody tr th {\n",
       "        vertical-align: top;\n",
       "    }\n",
       "\n",
       "    .dataframe thead th {\n",
       "        text-align: right;\n",
       "    }\n",
       "</style>\n",
       "<table border=\"1\" class=\"dataframe\">\n",
       "  <thead>\n",
       "    <tr style=\"text-align: right;\">\n",
       "      <th></th>\n",
       "      <th>node</th>\n",
       "      <th>cluster</th>\n",
       "      <th>1d</th>\n",
       "      <th>2d</th>\n",
       "      <th>3d</th>\n",
       "      <th>4d</th>\n",
       "      <th>5d</th>\n",
       "      <th>6d</th>\n",
       "      <th>7d</th>\n",
       "      <th>8d</th>\n",
       "      <th>label</th>\n",
       "    </tr>\n",
       "  </thead>\n",
       "  <tbody>\n",
       "    <tr>\n",
       "      <th>0</th>\n",
       "      <td>0</td>\n",
       "      <td>6</td>\n",
       "      <td>0.070718</td>\n",
       "      <td>-0.970324</td>\n",
       "      <td>-2.031606</td>\n",
       "      <td>-2.117536</td>\n",
       "      <td>-1.100787</td>\n",
       "      <td>1.924367</td>\n",
       "      <td>2.337702</td>\n",
       "      <td>-0.498431</td>\n",
       "      <td>0</td>\n",
       "    </tr>\n",
       "    <tr>\n",
       "      <th>1</th>\n",
       "      <td>1</td>\n",
       "      <td>2</td>\n",
       "      <td>0.116251</td>\n",
       "      <td>-1.427020</td>\n",
       "      <td>-3.123650</td>\n",
       "      <td>-3.639700</td>\n",
       "      <td>-0.966149</td>\n",
       "      <td>3.426896</td>\n",
       "      <td>2.373441</td>\n",
       "      <td>-0.275181</td>\n",
       "      <td>0</td>\n",
       "    </tr>\n",
       "    <tr>\n",
       "      <th>2</th>\n",
       "      <td>2</td>\n",
       "      <td>5</td>\n",
       "      <td>-0.670054</td>\n",
       "      <td>0.121622</td>\n",
       "      <td>-1.424834</td>\n",
       "      <td>-2.677057</td>\n",
       "      <td>0.615399</td>\n",
       "      <td>2.761855</td>\n",
       "      <td>0.771090</td>\n",
       "      <td>-0.155696</td>\n",
       "      <td>1</td>\n",
       "    </tr>\n",
       "  </tbody>\n",
       "</table>\n",
       "</div>"
      ],
      "text/plain": [
       "   node  cluster        1d        2d        3d        4d        5d        6d  \\\n",
       "0     0        6  0.070718 -0.970324 -2.031606 -2.117536 -1.100787  1.924367   \n",
       "1     1        2  0.116251 -1.427020 -3.123650 -3.639700 -0.966149  3.426896   \n",
       "2     2        5 -0.670054  0.121622 -1.424834 -2.677057  0.615399  2.761855   \n",
       "\n",
       "         7d        8d  label  \n",
       "0  2.337702 -0.498431      0  \n",
       "1  2.373441 -0.275181      0  \n",
       "2  0.771090 -0.155696      1  "
      ]
     },
     "execution_count": 28,
     "metadata": {},
     "output_type": "execute_result"
    }
   ],
   "source": [
    "df.head(3)"
   ]
  },
  {
   "cell_type": "code",
   "execution_count": 29,
   "metadata": {},
   "outputs": [
    {
     "name": "stdout",
     "output_type": "stream",
     "text": [
      "k=2, leaf_size=20 \t Average Precision: 0.04355332904372338 \t Average Coverage: 0.24980083583648946\n",
      "k=3, leaf_size=20 \t Average Precision: 0.04264396577844505 \t Average Coverage: 0.3168865090766619\n",
      "k=4, leaf_size=20 \t Average Precision: 0.04264459560212846 \t Average Coverage: 0.3831559357450699\n",
      "k=5, leaf_size=20 \t Average Precision: 0.04304864621952589 \t Average Coverage: 0.44216403291106177\n",
      "k=6, leaf_size=20 \t Average Precision: 0.042542921632911526 \t Average Coverage: 0.4874395977536895\n",
      "k=7, leaf_size=20 \t Average Precision: 0.04261511547659171 \t Average Coverage: 0.5343150058769753\n",
      "k=8, leaf_size=20 \t Average Precision: 0.04213860036155284 \t Average Coverage: 0.5618029254277132\n",
      "k=9, leaf_size=20 \t Average Precision: 0.04172360613209956 \t Average Coverage: 0.5909135431631187\n"
     ]
    }
   ],
   "source": [
    "from sklearn.model_selection import KFold\n",
    "\n",
    "# Define your range of k values and leaf_size values\n",
    "k_values = [2, 3, 4, 5, 6, 7, 8, 9]\n",
    "\n",
    "\n",
    "# Split your data into 5 folds\n",
    "kf = KFold(n_splits=5, shuffle=True, random_state=42)\n",
    "with open(output_file, \"w\") as f:\n",
    "    for k in k_values:\n",
    "        k+=1\n",
    "        precision_scores = []\n",
    "        coverage_scores = []\n",
    "        random_precision_scores = []\n",
    "        random_coverage_scores = []\n",
    "\n",
    "        # Build a k-d tree from the points\n",
    "        kdtree = KDTree(df[[col for col in df.columns if col.endswith('d')]].to_numpy(), leaf_size=20)\n",
    "        for train_index, test_index in kf.split(group_node):\n",
    "            train_nodes = [group_node[i] for i in train_index]\n",
    "            test_nodes = [group_node[i] for i in test_index]\n",
    "\n",
    "            start = []\n",
    "            dist = []\n",
    "            neighbor = []\n",
    "            random_nodes = []\n",
    "            for i in train_nodes:\n",
    "                given_point = df[df['node']==i][[col for col in df.columns if col.endswith('d')]].to_numpy()\n",
    "                # Perform a k-NN search to find the k+1 nearest neighbors\n",
    "                distances, indices = kdtree.query(given_point, k=k)\n",
    "                start += (k-1)*[i]\n",
    "                dist += distances.reshape(-1).tolist()[1:]\n",
    "                neighbor += indices.reshape(-1).tolist()[1:]\n",
    "\n",
    "                random_nodes += random.sample(list(set(df['node'].tolist())-set(train_nodes)), (k-1))\n",
    "\n",
    "            neighbor_df = pd.DataFrame({'start': start, 'neighbor': neighbor, 'distance': dist})\n",
    "            cover_df = neighbor_df[neighbor_df['neighbor'].isin(test_nodes)]\n",
    "            \n",
    "            # Append precision and coverage scores to lists\n",
    "            precision_scores.append(len(cover_df) / len(neighbor_df))\n",
    "            coverage_scores.append(len(cover_df['neighbor'].unique()) / len(test_nodes))\n",
    "            \n",
    "            ############################ random\n",
    "            random_cover = []\n",
    "            for j in random_nodes:\n",
    "                if j in test_nodes:\n",
    "                    random_cover.append(j)\n",
    "\n",
    "            random_precision_scores.append(len(random_cover)/ len(random_nodes))\n",
    "            random_coverage_scores.append(len(set(random_cover))/ len(test_nodes))\n",
    "\n",
    "        ###### choose one fold to check details\n",
    "        ranked = neighbor_df.sort_values(by='distance')\n",
    "        coverage = 0\n",
    "        for top_threshold in range(50, len(neighbor_df), 50):\n",
    "            cover = []\n",
    "            top_recommend = ranked['neighbor'].tolist()[:top_threshold]\n",
    "            for i in top_recommend: \n",
    "                if i in test_nodes:\n",
    "                    cover.append(i)\n",
    "            if len(set(cover)) / len(test_nodes) > coverage:\n",
    "                coverage = len(set(cover)) / len(test_nodes)\n",
    "                top_precision = len(cover) / top_threshold\n",
    "                print(f'top {top_threshold} precision: {top_precision}', file=f)\n",
    "                print(f'top {top_threshold} coverage: {coverage}', file=f)\n",
    "            else:\n",
    "                print('coverage limitation', file=f)\n",
    "                break\n",
    "        # Calculate the average precision and coverage scores for the current k and leaf_size\n",
    "        avg_precision = sum(precision_scores) / len(precision_scores)\n",
    "        avg_coverage = sum(coverage_scores) / len(coverage_scores)\n",
    "\n",
    "        random_avg_precision = sum(random_precision_scores) / len(random_precision_scores)\n",
    "        random_avg_coverage = sum(random_coverage_scores) / len(random_coverage_scores)\n",
    "        \n",
    "        print(f\"k={k-1}, leaf_size={20}\",'\\t',\"Average Precision:\", avg_precision,'\\t',\"Average Coverage:\", avg_coverage)\n",
    "        result_line = f\"k={k-1}, leaf_size={20}\\tAverage Precision: {avg_precision}\\tAverage Coverage: {avg_coverage}\\n\"\n",
    "        print(f\"k={k-1}, leaf_size={20}\\tRandom Precision: {random_avg_precision}\\tRandom Coverage: {random_avg_coverage}\", file=f)\n",
    "        f.write(result_line)\n"
   ]
  },
  {
   "cell_type": "code",
   "execution_count": 30,
   "metadata": {},
   "outputs": [],
   "source": [
    "# k=9\n",
    "# num_to_test = int(len(group_node) * 0.8)\n",
    "\n",
    "# start_nodes = random.sample(group_node, num_to_test)\n",
    "# test_nodes =  list(set(group_node) - set(start_nodes))\n",
    "\n",
    "# # Build a k-d tree from the points\n",
    "# kdtree = KDTree(df[['1d', '2d']].to_numpy(), leaf_size=20)\n",
    "# k+=1\n",
    "# start = []\n",
    "# dist = []\n",
    "# neighbor = []\n",
    "# for i in start_nodes:\n",
    "#     given_point = df[df['node']==i][['1d', '2d']].to_numpy()\n",
    "#     # Perform a k-NN search to find the k+1 nearest neighbors\n",
    "#     distances, indices = kdtree.query(given_point, k=k)\n",
    "#     start += (k-1)*[i]\n",
    "#     dist += distances.reshape(-1).tolist()[1:]\n",
    "#     neighbor += indices.reshape(-1).tolist()[1:]\n",
    "\n",
    "# neighbor_df = pd.DataFrame({'start': start, 'neighbor': neighbor, 'distance': dist})\n",
    "# cover_df = neighbor_df[neighbor_df['neighbor'].isin(test_nodes)]\n",
    "\n",
    "# print(k-1,' precision: ',len(cover_df)/len(neighbor_df))\n",
    "# print(k-1,' coverage: ',len(cover_df['neighbor'].unique())/len(test_nodes))"
   ]
  },
  {
   "cell_type": "code",
   "execution_count": 31,
   "metadata": {},
   "outputs": [
    {
     "data": {
      "text/plain": [
       "50"
      ]
     },
     "execution_count": 31,
     "metadata": {},
     "output_type": "execute_result"
    }
   ],
   "source": [
    "len(set(ranked['neighbor'].tolist()[:50]))"
   ]
  },
  {
   "cell_type": "code",
   "execution_count": 32,
   "metadata": {},
   "outputs": [
    {
     "data": {
      "text/plain": [
       "1"
      ]
     },
     "execution_count": 32,
     "metadata": {},
     "output_type": "execute_result"
    }
   ],
   "source": [
    "len(set(ranked['neighbor'].tolist()[:50])&set(test_nodes))"
   ]
  },
  {
   "cell_type": "code",
   "execution_count": 33,
   "metadata": {},
   "outputs": [
    {
     "data": {
      "text/plain": [
       "247"
      ]
     },
     "execution_count": 33,
     "metadata": {},
     "output_type": "execute_result"
    }
   ],
   "source": [
    "len(test_nodes)"
   ]
  },
  {
   "cell_type": "code",
   "execution_count": 34,
   "metadata": {},
   "outputs": [
    {
     "data": {
      "text/plain": [
       "8910"
      ]
     },
     "execution_count": 34,
     "metadata": {},
     "output_type": "execute_result"
    }
   ],
   "source": [
    "len(neighbor_df)"
   ]
  },
  {
   "cell_type": "code",
   "execution_count": 35,
   "metadata": {},
   "outputs": [
    {
     "data": {
      "text/html": [
       "<div>\n",
       "<style scoped>\n",
       "    .dataframe tbody tr th:only-of-type {\n",
       "        vertical-align: middle;\n",
       "    }\n",
       "\n",
       "    .dataframe tbody tr th {\n",
       "        vertical-align: top;\n",
       "    }\n",
       "\n",
       "    .dataframe thead th {\n",
       "        text-align: right;\n",
       "    }\n",
       "</style>\n",
       "<table border=\"1\" class=\"dataframe\">\n",
       "  <thead>\n",
       "    <tr style=\"text-align: right;\">\n",
       "      <th></th>\n",
       "      <th>start</th>\n",
       "      <th>neighbor</th>\n",
       "      <th>distance</th>\n",
       "    </tr>\n",
       "  </thead>\n",
       "  <tbody>\n",
       "    <tr>\n",
       "      <th>6219</th>\n",
       "      <td>14897</td>\n",
       "      <td>11852</td>\n",
       "      <td>0.003272</td>\n",
       "    </tr>\n",
       "    <tr>\n",
       "      <th>7677</th>\n",
       "      <td>5090</td>\n",
       "      <td>5002</td>\n",
       "      <td>0.003897</td>\n",
       "    </tr>\n",
       "    <tr>\n",
       "      <th>7686</th>\n",
       "      <td>5002</td>\n",
       "      <td>5090</td>\n",
       "      <td>0.003897</td>\n",
       "    </tr>\n",
       "    <tr>\n",
       "      <th>6615</th>\n",
       "      <td>6508</td>\n",
       "      <td>8414</td>\n",
       "      <td>0.004191</td>\n",
       "    </tr>\n",
       "    <tr>\n",
       "      <th>7659</th>\n",
       "      <td>5083</td>\n",
       "      <td>1013</td>\n",
       "      <td>0.005029</td>\n",
       "    </tr>\n",
       "    <tr>\n",
       "      <th>...</th>\n",
       "      <td>...</td>\n",
       "      <td>...</td>\n",
       "      <td>...</td>\n",
       "    </tr>\n",
       "    <tr>\n",
       "      <th>5323</th>\n",
       "      <td>2076</td>\n",
       "      <td>16647</td>\n",
       "      <td>4.902426</td>\n",
       "    </tr>\n",
       "    <tr>\n",
       "      <th>5324</th>\n",
       "      <td>2076</td>\n",
       "      <td>11440</td>\n",
       "      <td>5.317261</td>\n",
       "    </tr>\n",
       "    <tr>\n",
       "      <th>5325</th>\n",
       "      <td>2076</td>\n",
       "      <td>17465</td>\n",
       "      <td>5.416301</td>\n",
       "    </tr>\n",
       "    <tr>\n",
       "      <th>5326</th>\n",
       "      <td>2076</td>\n",
       "      <td>3399</td>\n",
       "      <td>5.494848</td>\n",
       "    </tr>\n",
       "    <tr>\n",
       "      <th>5327</th>\n",
       "      <td>2076</td>\n",
       "      <td>18177</td>\n",
       "      <td>5.514198</td>\n",
       "    </tr>\n",
       "  </tbody>\n",
       "</table>\n",
       "<p>8910 rows × 3 columns</p>\n",
       "</div>"
      ],
      "text/plain": [
       "      start  neighbor  distance\n",
       "6219  14897     11852  0.003272\n",
       "7677   5090      5002  0.003897\n",
       "7686   5002      5090  0.003897\n",
       "6615   6508      8414  0.004191\n",
       "7659   5083      1013  0.005029\n",
       "...     ...       ...       ...\n",
       "5323   2076     16647  4.902426\n",
       "5324   2076     11440  5.317261\n",
       "5325   2076     17465  5.416301\n",
       "5326   2076      3399  5.494848\n",
       "5327   2076     18177  5.514198\n",
       "\n",
       "[8910 rows x 3 columns]"
      ]
     },
     "execution_count": 35,
     "metadata": {},
     "output_type": "execute_result"
    }
   ],
   "source": [
    "ranked"
   ]
  },
  {
   "cell_type": "markdown",
   "metadata": {},
   "source": [
    "## PU classifier"
   ]
  },
  {
   "cell_type": "code",
   "execution_count": 36,
   "metadata": {},
   "outputs": [],
   "source": [
    "# X = df[['1d', '2d']].to_numpy()\n",
    "# y = df['label'].to_numpy()"
   ]
  },
  {
   "cell_type": "code",
   "execution_count": 37,
   "metadata": {},
   "outputs": [],
   "source": [
    "# from pulearn import WeightedElkanotoPuClassifier\n",
    "# from sklearn.svm import SVC\n",
    "# from sklearn.metrics import precision_recall_fscore_support\n",
    "# from sklearn.model_selection import StratifiedKFold\n",
    "\n",
    "# svc = SVC(C=10, kernel='rbf', gamma=0.4, probability=True)\n",
    "# pu_estimator = WeightedElkanotoPuClassifier(\n",
    "#     estimator=svc, labeled=10, unlabeled=20, hold_out_ratio=0.2)\n",
    "\n",
    "\n",
    "# # Initialize stratified k-fold cross-validation\n",
    "# kf = StratifiedKFold(n_splits=5, shuffle=True, random_state=42)\n",
    "\n",
    "# # Lists to store cross-validation scores\n",
    "# pu_f1_scores = []\n",
    "\n",
    "# # Perform cross-validation\n",
    "# for train_index, test_index in kf.split(X, y):\n",
    "#     X_train, X_test = X[train_index], X[test_index]\n",
    "#     y_train, y_test = y[train_index], y[test_index]\n",
    "\n",
    "#     pu_estimator.fit(X_train, y_train)\n",
    "#     y_pred = pu_estimator.predict(X_test)\n",
    "#     precision, recall, f1_score, _ = precision_recall_fscore_support(\n",
    "#         y_test, y_pred)\n",
    "#     pu_f1_scores.append(f1_score[1])\n",
    "#     print(\"F1 score: {}\".format(f1_score[1]))\n",
    "#     print(\"Precision: {}\".format(precision[1]))\n",
    "#     print(\"Recall: {}\".format(recall[1]))\n",
    "\n",
    "# plt.plot(pu_f1_scores, label='PU')\n",
    "\n"
   ]
  }
 ],
 "metadata": {
  "kernelspec": {
   "display_name": "hbdm",
   "language": "python",
   "name": "python3"
  },
  "language_info": {
   "codemirror_mode": {
    "name": "ipython",
    "version": 3
   },
   "file_extension": ".py",
   "mimetype": "text/x-python",
   "name": "python",
   "nbconvert_exporter": "python",
   "pygments_lexer": "ipython3",
   "version": "3.8.3"
  },
  "orig_nbformat": 4
 },
 "nbformat": 4,
 "nbformat_minor": 2
}
