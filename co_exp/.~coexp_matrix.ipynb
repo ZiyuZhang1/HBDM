{
 "cells": [
  {
   "cell_type": "code",
   "execution_count": 1,
   "metadata": {},
   "outputs": [],
   "source": [
    "import scanpy as sc\n",
    "import pandas as pd\n",
    "import numpy as np"
   ]
  },
  {
   "cell_type": "code",
   "execution_count": 6,
   "metadata": {},
   "outputs": [
    {
     "name": "stdout",
     "output_type": "stream",
     "text": [
      "Defaulting to user installation because normal site-packages is not writeable\n",
      "\u001b[31mERROR: Could not find a version that satisfies the requirement scanpy==1.9 (from versions: 0.2.1, 0.2.3, 0.2.3.4, 0.2.3.5, 0.2.4, 0.2.5, 0.2.6, 0.2.7, 0.2.8, 0.2.9, 0.2.9.1, 0.3, 0.3.1, 0.3.2, 0.4, 0.4.1, 0.4.2, 0.4.3, 0.4.4, 1.0, 1.0.1, 1.0.1.post1, 1.0.2, 1.0.3, 1.0.3.post1, 1.0.4, 1.1a1, 1.1a2, 1.1, 1.2.0, 1.2.1, 1.2.2, 1.3, 1.3.1, 1.3.2, 1.3.3, 1.3.4, 1.3.5, 1.3.6, 1.3.7, 1.3.8, 1.4, 1.4.1, 1.4.2, 1.4.3, 1.4.4, 1.4.4.post1, 1.4.5, 1.4.5.post1, 1.4.5.post2, 1.4.5.post3, 1.4.5.1, 1.4.6, 1.5.0a1, 1.5.0, 1.5.1, 1.6.0, 1.6.1, 1.7.0rc1, 1.7.0, 1.7.1, 1.7.2)\u001b[0m\n",
      "\u001b[31mERROR: No matching distribution found for scanpy==1.9\u001b[0m\n"
     ]
    }
   ],
   "source": [
    "!pip install scanpy==1.9"
   ]
  },
  {
   "cell_type": "code",
   "execution_count": 8,
   "metadata": {},
   "outputs": [],
   "source": [
    "## scdata\n",
    "scpath = '/novo/omdb/pds02/PDS2843/data/sprint_tid_ascvd/data/scrnaseq/scVI_Atherosclerosis_Atlas_V2.h5ad'\n",
    "sc_dat = sc.read_h5ad(scpath)\n"
   ]
  },
  {
   "cell_type": "code",
   "execution_count": null,
   "metadata": {},
   "outputs": [],
   "source": [
    "#sc_dat.obs['Disease'].unique()\n",
    "# get disease data\n",
    "disease_scdat = sc_dat[sc_dat.obs['Disease'] == 'Healthy']\n",
    "# disease_scdat = sc_dat[sc_dat.obs['Disease'] != 'Healthy']\n",
    "# normalize\n",
    "#disease_scdat = disease_scdat.raw.to_adata()\n",
    "disease_scdat.var_names_make_unique() \n",
    "sc.pp.normalize_total(disease_scdat, target_sum=1e4)"
   ]
  },
  {
   "cell_type": "code",
   "execution_count": 3,
   "metadata": {},
   "outputs": [
    {
     "data": {
      "text/plain": [
       "['Proximal plaques', 'type VII calcified plaques', 'atherosclerotic plaques', 'atherosclerotic lesions']\n",
       "Categories (4, object): ['Proximal plaques', 'atherosclerotic lesions', 'atherosclerotic plaques', 'type VII calcified plaques']"
      ]
     },
     "execution_count": 3,
     "metadata": {},
     "output_type": "execute_result"
    }
   ],
   "source": [
    "disease_scdat.obs['Disease'].unique()\n"
   ]
  },
  {
   "cell_type": "code",
   "execution_count": null,
   "metadata": {},
   "outputs": [],
   "source": [
    "## stdata\n",
    "stpath = r'D:\\study\\thesis\\project\\data\\ST_plaque_all_donotshare_wo_permission.h5ad'\n",
    "st_dat = sc.read_h5ad(stpath)\n",
    "#st_dat.obs['Disease'].unique()\n",
    "# get disease data\n",
    "disease_scdat = st_dat[st_dat.obs['condition'] == 'Plaque',]\n",
    "# normalize\n",
    "#disease_scdat = disease_scdat.raw.to_adata()\n",
    "disease_scdat.var_names_make_unique() \n",
    "sc.pp.normalize_total(disease_scdat, target_sum=1e4)"
   ]
  },
  {
   "cell_type": "code",
   "execution_count": 3,
   "metadata": {},
   "outputs": [],
   "source": [
    "threshold = 1"
   ]
  },
  {
   "cell_type": "code",
   "execution_count": 4,
   "metadata": {},
   "outputs": [],
   "source": [
    "# create co-exp matrix\n",
    "def coexp_list(data, goi):\n",
    "        res_array = data.multiply(data[goi], axis=0)\n",
    "        coexp_count = np.count_nonzero(res_array, axis=0)\n",
    "        coexp_frac = coexp_count/len(data)\n",
    "        return coexp_frac\n",
    "def coexp_matrix(adata, threshold):\n",
    "    exp_dat = pd.DataFrame(adata.X.toarray(),columns=adata.var_names)\n",
    "    exp_dat[exp_dat < threshold] = 0\n",
    "    # Create an empty array with a specified shape (e.g., 0 rows, len(exp_dat.columns)) columns)\n",
    "    matrix = np.empty((0, len(exp_dat.columns)))\n",
    "    for gene in exp_dat.columns:\n",
    "        temp_array = coexp_list(exp_dat, gene)\n",
    "        # Append the new row to the empty array\n",
    "        matrix = np.append(matrix, [temp_array], axis=0)\n",
    "    return matrix"
   ]
  },
  {
   "cell_type": "code",
   "execution_count": null,
   "metadata": {},
   "outputs": [],
   "source": [
    "threshold = 1\n",
    "sc_all_cell_coxp_matrix = coexp_matrix(disease_scdat,threshold)\n",
    "st_all_cell_coxp_matrix = coexp_matrix(disease_scdat,threshold)\n",
    "## if you want to create matrix per cell type, modify the adata input for coexp_matrix\n",
    "# storage = []\n",
    "# celltypes = disease_scdat.obs['Main_Cell_Types'].tolist()\n",
    "# for celltype in celltypes:\n",
    "#     cell_adata = disease_scdat[disease_scdat.obs['Main_Cell_Types'] == celltype]\n",
    "#     storage.append(coexp_matrix(cell_adata,threshold))"
   ]
  }
 ],
 "metadata": {
  "kernelspec": {
   "display_name": "pgm",
   "language": "python",
   "name": "python3"
  },
  "language_info": {
   "codemirror_mode": {
    "name": "ipython",
    "version": 3
   },
   "file_extension": ".py",
   "mimetype": "text/x-python",
   "name": "python",
   "nbconvert_exporter": "python",
   "pygments_lexer": "ipython3",
   "version": "3.9.17"
  },
  "orig_nbformat": 4,
  "vscode": {
   "interpreter": {
    "hash": "a42dd39ff68a891107016fe0e805a3a49bc64dbc8538d143c8e45a6a8b819b3b"
   }
  }
 },
 "nbformat": 4,
 "nbformat_minor": 2
}
