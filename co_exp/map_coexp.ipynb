{
 "cells": [
  {
   "cell_type": "code",
   "execution_count": 3,
   "metadata": {},
   "outputs": [],
   "source": [
    "import pandas as pd\n",
    "import numpy as np\n",
    "import os\n",
    "import pickle"
   ]
  },
  {
   "cell_type": "code",
   "execution_count": 2,
   "metadata": {},
   "outputs": [],
   "source": [
    "local_stringdb = os.path.join('/novo/omdb/pds02/PDS2843/data/sprint_tid_ascvd/data/string/lfs-stringdb/')\n",
    "df = pd.read_csv(local_stringdb+'9606.protein.info.v12.0.txt', sep='\\t', header=0, usecols=['#string_protein_id', 'preferred_name'])\n",
    "df['preferred_name'] = df['preferred_name'].str.upper()\n",
    "stringId2name = df.set_index('#string_protein_id')['preferred_name'].to_dict()\n",
    "name2stringId = df.set_index('preferred_name')['#string_protein_id'].to_dict()\n",
    "\n",
    "# df = pd.read_csv(local_stringdb+'9606.protein.aliases.v12.0.txt', sep='\\t', header=0, usecols=['#string_protein_id', 'alias']).drop_duplicates(['alias'], keep='first')\n",
    "# df['alias'] = df['alias'].str.upper()\n",
    "# aliases2stringId = df.set_index('alias')['#string_protein_id'].to_dict()\n",
    "# name2stringId.update(aliases2stringId)\n",
    "# stringnames = set(list(name2stringId.keys()))"
   ]
  },
  {
   "cell_type": "code",
   "execution_count": 4,
   "metadata": {},
   "outputs": [],
   "source": [
    "# open pickle file in read mode\n",
    "with open('/novo/omdb/pds02/PDS2843/data/sprint_tid_ascvd/gzn/thesis/co_exp/T3_sc_all_cell_coxp_matrix.pkl', 'rb') as f:\n",
    "    # load data from pickle file\n",
    "    st = pickle.load(f)\n",
    "st_arr = st[0]\n",
    "st_idx= st[1]"
   ]
  },
  {
   "cell_type": "code",
   "execution_count": 5,
   "metadata": {},
   "outputs": [],
   "source": [
    "import scipy.sparse as sp\n",
    "\n",
    "# create sparse matrix from st_arr_new\n",
    "sparse_matrix = sp.csr_matrix(st_arr)\n",
    "\n",
    "# get upper triangle as a sparse array\n",
    "sparse_upper = sp.triu(sparse_matrix, k=1)\n",
    "i, j, data = sp.find(sparse_upper)\n",
    "\n",
    "col1 = st_idx[i]\n",
    "col2 = st_idx[j]\n",
    "df2 = pd.DataFrame({'combined_score': data})\n",
    "df2['protein1'] = col1.values\n",
    "df2['protein2'] = col2.values\n",
    "df2['combined_score'] = df2['combined_score'].round(3)"
   ]
  },
  {
   "cell_type": "code",
   "execution_count": 7,
   "metadata": {},
   "outputs": [],
   "source": []
  },
  {
   "cell_type": "code",
   "execution_count": 9,
   "metadata": {},
   "outputs": [
    {
     "data": {
      "text/plain": [
       "combined_score    0.975\n",
       "protein1          ZZEF1\n",
       "protein2          ZZEF1\n",
       "dtype: object"
      ]
     },
     "execution_count": 9,
     "metadata": {},
     "output_type": "execute_result"
    }
   ],
   "source": [
    "df2.max()"
   ]
  },
  {
   "cell_type": "code",
   "execution_count": 5,
   "metadata": {},
   "outputs": [],
   "source": [
    "pos_idx = []\n",
    "for pos, name in enumerate(st_idx):\n",
    "    if name in name2stringId:\n",
    "        pos_idx.append(pos)"
   ]
  },
  {
   "cell_type": "code",
   "execution_count": 6,
   "metadata": {},
   "outputs": [],
   "source": [
    "st_arr_new = st_arr[np.ix_(pos_idx, pos_idx)]\n",
    "st_idx_new  = [st_idx[i] for i in pos_idx]\n",
    "st_idx_new = pd.Series(st_idx_new)"
   ]
  },
  {
   "cell_type": "code",
   "execution_count": 7,
   "metadata": {},
   "outputs": [],
   "source": [
    "num_zeros = np.count_nonzero(st_arr_new == 0)"
   ]
  },
  {
   "cell_type": "code",
   "execution_count": 10,
   "metadata": {},
   "outputs": [
    {
     "data": {
      "text/plain": [
       "(18662, 18662)"
      ]
     },
     "execution_count": 10,
     "metadata": {},
     "output_type": "execute_result"
    }
   ],
   "source": [
    "st_arr_new.shape"
   ]
  },
  {
   "cell_type": "code",
   "execution_count": 11,
   "metadata": {},
   "outputs": [
    {
     "data": {
      "text/plain": [
       "113521684.5"
      ]
     },
     "execution_count": 11,
     "metadata": {},
     "output_type": "execute_result"
    }
   ],
   "source": [
    "(18662*18662-num_zeros)/2"
   ]
  },
  {
   "cell_type": "code",
   "execution_count": 8,
   "metadata": {},
   "outputs": [
    {
     "data": {
      "text/plain": [
       "18662"
      ]
     },
     "execution_count": 8,
     "metadata": {},
     "output_type": "execute_result"
    }
   ],
   "source": [
    "len(st_idx_new)"
   ]
  },
  {
   "cell_type": "code",
   "execution_count": 9,
   "metadata": {},
   "outputs": [
    {
     "data": {
      "text/plain": [
       "18662"
      ]
     },
     "execution_count": 9,
     "metadata": {},
     "output_type": "execute_result"
    }
   ],
   "source": [
    "len(st_idx_new.map(name2stringId))"
   ]
  },
  {
   "cell_type": "code",
   "execution_count": 55,
   "metadata": {},
   "outputs": [],
   "source": [
    "import scipy.sparse as sp\n",
    "\n",
    "# create sparse matrix from st_arr_new\n",
    "sparse_matrix = sp.csr_matrix(st_arr_new)\n",
    "\n",
    "# get upper triangle as a sparse array\n",
    "sparse_upper = sp.triu(sparse_matrix, k=1)\n",
    "i, j, data = sp.find(sparse_upper)\n"
   ]
  },
  {
   "cell_type": "code",
   "execution_count": 56,
   "metadata": {},
   "outputs": [],
   "source": [
    "col1 = st_idx_new[i]\n",
    "col2 = st_idx_new[j]\n",
    "df2 = pd.DataFrame({'coexp_value': data})\n",
    "df2['gene1'] = col1.values\n",
    "df2['gene2'] = col2.values\n",
    "df2['coexp_value'] = df2['coexp_value'].round(3)"
   ]
  },
  {
   "cell_type": "code",
   "execution_count": 36,
   "metadata": {},
   "outputs": [],
   "source": [
    "# df2.loc[:,'protein1'] = df2['gene1'].map(name2stringId)\n",
    "# df2.loc[:,'protein2'] = df2['gene2'].map(name2stringId)"
   ]
  },
  {
   "cell_type": "code",
   "execution_count": 58,
   "metadata": {},
   "outputs": [],
   "source": [
    "df2.to_csv('/novo/omdb/pds02/PDS2843/data/sprint_tid_ascvd/gzn/thesis/data/sc_all.csv',index=False)"
   ]
  },
  {
   "cell_type": "code",
   "execution_count": 3,
   "metadata": {},
   "outputs": [],
   "source": [
    "import pandas as pd\n",
    "import networkx as nx"
   ]
  },
  {
   "cell_type": "code",
   "execution_count": 4,
   "metadata": {},
   "outputs": [],
   "source": [
    "stdf = pd.read_csv('/novo/omdb/pds02/PDS2843/data/sprint_tid_ascvd/gzn/thesis/data/st_all.csv')"
   ]
  },
  {
   "cell_type": "code",
   "execution_count": 5,
   "metadata": {},
   "outputs": [],
   "source": [
    "scdf = pd.read_csv('/novo/omdb/pds02/PDS2843/data/sprint_tid_ascvd/gzn/thesis/data/sc_all.csv')"
   ]
  },
  {
   "cell_type": "code",
   "execution_count": 6,
   "metadata": {},
   "outputs": [],
   "source": [
    "ppidf = pd.read_csv(local_stringdb+'9606.protein.physical.links.detailed.v12.0.txt', sep=' ', header=0).convert_dtypes().replace(0, float('nan'))"
   ]
  },
  {
   "cell_type": "code",
   "execution_count": 7,
   "metadata": {},
   "outputs": [],
   "source": [
    "ppi_g = nx.from_pandas_edgelist(ppidf, source='protein1', target='protein1', edge_attr='combined_score', create_using=nx.Graph)"
   ]
  },
  {
   "cell_type": "code",
   "execution_count": 15,
   "metadata": {},
   "outputs": [
    {
     "data": {
      "text/plain": [
       "18767"
      ]
     },
     "execution_count": 15,
     "metadata": {},
     "output_type": "execute_result"
    }
   ],
   "source": [
    "len(ppi_g.edges())"
   ]
  },
  {
   "cell_type": "code",
   "execution_count": 16,
   "metadata": {},
   "outputs": [
    {
     "data": {
      "text/plain": [
       "18767"
      ]
     },
     "execution_count": 16,
     "metadata": {},
     "output_type": "execute_result"
    }
   ],
   "source": [
    "len(ppi_g.nodes())"
   ]
  },
  {
   "cell_type": "code",
   "execution_count": 14,
   "metadata": {},
   "outputs": [
    {
     "data": {
      "text/plain": [
       "(1477610, 107293846, 113513298)"
      ]
     },
     "execution_count": 14,
     "metadata": {},
     "output_type": "execute_result"
    }
   ],
   "source": [
    "len(ppidf),len(stdf),len(scdf)"
   ]
  },
  {
   "cell_type": "code",
   "execution_count": 26,
   "metadata": {},
   "outputs": [
    {
     "data": {
      "text/plain": [
       "17121"
      ]
     },
     "execution_count": 26,
     "metadata": {},
     "output_type": "execute_result"
    }
   ],
   "source": [
    "stnodes = np.union1d(stdf['gene1'].unique(), stdf['gene2'].unique())\n",
    "len(stnodes)"
   ]
  },
  {
   "cell_type": "code",
   "execution_count": 27,
   "metadata": {},
   "outputs": [
    {
     "data": {
      "text/plain": [
       "16773"
      ]
     },
     "execution_count": 27,
     "metadata": {},
     "output_type": "execute_result"
    }
   ],
   "source": [
    "scnodes = np.union1d(scdf['gene1'].unique(), scdf['gene2'].unique())\n",
    "len(scnodes)"
   ]
  },
  {
   "cell_type": "code",
   "execution_count": null,
   "metadata": {},
   "outputs": [],
   "source": []
  },
  {
   "cell_type": "code",
   "execution_count": 23,
   "metadata": {},
   "outputs": [],
   "source": [
    "value_to_key = {key: value for value, key in name2stringId.items()}"
   ]
  },
  {
   "cell_type": "code",
   "execution_count": 28,
   "metadata": {},
   "outputs": [
    {
     "data": {
      "text/plain": [
       "18767"
      ]
     },
     "execution_count": 28,
     "metadata": {},
     "output_type": "execute_result"
    }
   ],
   "source": [
    "ppinodes = np.array(list(map(value_to_key.get,ppi_g.nodes())))\n",
    "len(ppinodes)"
   ]
  },
  {
   "cell_type": "markdown",
   "metadata": {},
   "source": []
  },
  {
   "cell_type": "code",
   "execution_count": 17,
   "metadata": {},
   "outputs": [
    {
     "data": {
      "text/plain": [
       "19699"
      ]
     },
     "execution_count": 17,
     "metadata": {},
     "output_type": "execute_result"
    }
   ],
   "source": [
    "len(np.intersect1d(stnodes, ppinodes)),len(np.intersect1d(stnodes, ppinodes)),len(np.intersect1d(stnodes, ppinodes))"
   ]
  },
  {
   "cell_type": "code",
   "execution_count": 33,
   "metadata": {},
   "outputs": [
    {
     "name": "stderr",
     "output_type": "stream",
     "text": [
      "/novo/users/gzn/venepython3.9gzn/lib/python3.9/site-packages/matplotlib_venn/_venn3.py:117: UserWarning: Bad circle positioning\n",
      "  warnings.warn(\"Bad circle positioning\")\n"
     ]
    },
    {
     "data": {
      "image/png": "[encoded data removed]",
      "text/plain": [
       "<Figure size 640x480 with 1 Axes>"
      ]
     },
     "metadata": {},
     "output_type": "display_data"
    }
   ],
   "source": [
    "import matplotlib.pyplot as plt\n",
    "from matplotlib_venn import venn3\n",
    "\n",
    "# create three sets\n",
    "set1 = set(stnodes)\n",
    "set2 = set(scnodes)\n",
    "set3 = set(ppinodes)\n",
    "\n",
    "# get the counts of each section\n",
    "counts = [len(set1 - set2 - set3), len(set2 - set1 - set3), len(set1 & set2 - set3), \n",
    "          len(set1 & set3 - set2), len(set2 & set3 - set1), len(set1 & set2 & set3), \n",
    "          len(set3 - set1 - set2)]\n",
    "\n",
    "# plot the Venn diagram\n",
    "venn3(subsets=counts, set_labels=('st', 'sc', 'ppi'))\n",
    "\n",
    "# show the plot\n",
    "plt.show()"
   ]
  },
  {
   "cell_type": "code",
   "execution_count": 5,
   "metadata": {},
   "outputs": [],
   "source": [
    "root = '/novo/omdb/pds02/PDS2843/data/sprint_tid_ascvd/gzn/thesis/data/st_chunk/st_'\n",
    "chunk_size = len(scdf) // 3\n",
    "\n",
    "# Split the DataFrame into 3 chunks\n",
    "df1 = scdf.iloc[:chunk_size]\n",
    "df2 = scdf.iloc[chunk_size:2*chunk_size]\n",
    "df3 = scdf.iloc[2*chunk_size:]\n",
    "\n",
    "# Save each chunk to a separate CSV file\n",
    "df1.to_csv(root+'chunk_1.csv', index=False)\n",
    "df2.to_csv(root+'chunk_2.csv', index=False)\n",
    "df3.to_csv(root+'chunk_3.csv', index=False)"
   ]
  },
  {
   "cell_type": "code",
   "execution_count": 10,
   "metadata": {},
   "outputs": [
    {
     "data": {
      "text/plain": [
       "17118"
      ]
     },
     "execution_count": 10,
     "metadata": {},
     "output_type": "execute_result"
    }
   ],
   "source": [
    "len(scdf['gene1'].unique())"
   ]
  },
  {
   "cell_type": "code",
   "execution_count": 14,
   "metadata": {},
   "outputs": [
    {
     "data": {
      "text/plain": [
       "69.27421637522049"
      ]
     },
     "execution_count": 14,
     "metadata": {},
     "output_type": "execute_result"
    }
   ],
   "source": [
    "len(scdf)/len(graph)"
   ]
  },
  {
   "cell_type": "code",
   "execution_count": 12,
   "metadata": {},
   "outputs": [],
   "source": [
    "graph = pd.read_csv('/novo/omdb/pds02/PDS2843/data/sprint_tid_ascvd/gzn/thesis/data/sc_graph.csv')\n"
   ]
  },
  {
   "cell_type": "code",
   "execution_count": 11,
   "metadata": {},
   "outputs": [
    {
     "data": {
      "text/plain": [
       "18767"
      ]
     },
     "execution_count": 11,
     "metadata": {},
     "output_type": "execute_result"
    }
   ],
   "source": [
    "len(graph['protein1'].unique())"
   ]
  },
  {
   "cell_type": "code",
   "execution_count": 63,
   "metadata": {},
   "outputs": [],
   "source": [
    "#df_dedup = df_dedup.rename(columns={'gene1': 'protein1', 'gene2': 'protein2'})"
   ]
  },
  {
   "cell_type": "code",
   "execution_count": 68,
   "metadata": {},
   "outputs": [
    {
     "data": {
      "text/html": [
       "<div>\n",
       "<style scoped>\n",
       "    .dataframe tbody tr th:only-of-type {\n",
       "        vertical-align: middle;\n",
       "    }\n",
       "\n",
       "    .dataframe tbody tr th {\n",
       "        vertical-align: top;\n",
       "    }\n",
       "\n",
       "    .dataframe thead th {\n",
       "        text-align: right;\n",
       "    }\n",
       "</style>\n",
       "<table border=\"1\" class=\"dataframe\">\n",
       "  <thead>\n",
       "    <tr style=\"text-align: right;\">\n",
       "      <th></th>\n",
       "      <th>row</th>\n",
       "      <th>column</th>\n",
       "      <th>coexp_value</th>\n",
       "      <th>protein1</th>\n",
       "      <th>protein2</th>\n",
       "    </tr>\n",
       "  </thead>\n",
       "  <tbody>\n",
       "    <tr>\n",
       "      <th>0</th>\n",
       "      <td>SAMD11</td>\n",
       "      <td>NOC2L</td>\n",
       "      <td>0.001015</td>\n",
       "      <td>9606.ENSP00000342313</td>\n",
       "      <td>9606.ENSP00000317992</td>\n",
       "    </tr>\n",
       "    <tr>\n",
       "      <th>1</th>\n",
       "      <td>SAMD11</td>\n",
       "      <td>KLHL17</td>\n",
       "      <td>0.000185</td>\n",
       "      <td>9606.ENSP00000342313</td>\n",
       "      <td>9606.ENSP00000343930</td>\n",
       "    </tr>\n",
       "    <tr>\n",
       "      <th>2</th>\n",
       "      <td>SAMD11</td>\n",
       "      <td>PLEKHN1</td>\n",
       "      <td>0.000000</td>\n",
       "      <td>9606.ENSP00000342313</td>\n",
       "      <td>9606.ENSP00000368720</td>\n",
       "    </tr>\n",
       "  </tbody>\n",
       "</table>\n",
       "</div>"
      ],
      "text/plain": [
       "      row   column  coexp_value              protein1              protein2\n",
       "0  SAMD11    NOC2L     0.001015  9606.ENSP00000342313  9606.ENSP00000317992\n",
       "1  SAMD11   KLHL17     0.000185  9606.ENSP00000342313  9606.ENSP00000343930\n",
       "2  SAMD11  PLEKHN1     0.000000  9606.ENSP00000342313  9606.ENSP00000368720"
      ]
     },
     "execution_count": 68,
     "metadata": {},
     "output_type": "execute_result"
    }
   ],
   "source": [
    "df_dedup.head(3)"
   ]
  },
  {
   "cell_type": "code",
   "execution_count": 69,
   "metadata": {},
   "outputs": [],
   "source": [
    "graph['protein1'] = graph['protein1'].apply(lambda x: '9606.ENSP{:011d}'.format(x))\n",
    "graph['protein2'] = graph['protein2'].apply(lambda x: '9606.ENSP{:011d}'.format(x))\n"
   ]
  },
  {
   "cell_type": "code",
   "execution_count": 71,
   "metadata": {},
   "outputs": [],
   "source": [
    "graph = pd.merge(graph, df_dedup[['coexp_value', 'protein1', 'protein2']], how='left', on=['protein1', 'protein2'])"
   ]
  },
  {
   "cell_type": "code",
   "execution_count": 74,
   "metadata": {},
   "outputs": [],
   "source": [
    "graph.to_csv('/novo/omdb/pds02/PDS2843/data/sprint_tid_ascvd/gzn/thesis/data/st_graph.csv',index=False)"
   ]
  },
  {
   "cell_type": "code",
   "execution_count": 4,
   "metadata": {},
   "outputs": [],
   "source": [
    "scpath = '/novo/omdb/pds02/PDS2843/data/sprint_tid_ascvd/data/scrnaseq/scVI_Atherosclerosis_Atlas_V2.h5ad'\n",
    "sc_dat = sc.read_h5ad(scpath)\n",
    "sc_dat = sc_dat.raw.to_adata()\n",
    "#sc_dat.obs['Disease'].unique()\n",
    "# get disease data\n",
    "disease_scdat = sc_dat[sc_dat.obs['Disease'] != 'Healthy']\n",
    "# disease_scdat = sc_dat[sc_dat.obs['Disease'] != 'Healthy']\n",
    "# normalize\n",
    "#disease_scdat = disease_scdat.raw.to_adata()\n",
    "disease_scdat.var_names_make_unique()\n",
    "sc.pp.normalize_total(disease_scdat, target_sum=1e4)\n",
    "disease_scdat = disease_scdat[:, disease_scdat.var_names.isin(list(stringnames))]"
   ]
  },
  {
   "cell_type": "code",
   "execution_count": 25,
   "metadata": {},
   "outputs": [],
   "source": [
    "scgenes = disease_scdat.var_names.tolist()"
   ]
  }
 ],
 "metadata": {
  "kernelspec": {
   "display_name": "venepython3.9gzn",
   "language": "python",
   "name": "python3"
  },
  "language_info": {
   "codemirror_mode": {
    "name": "ipython",
    "version": 3
   },
   "file_extension": ".py",
   "mimetype": "text/x-python",
   "name": "python",
   "nbconvert_exporter": "python",
   "pygments_lexer": "ipython3",
   "version": "3.8.16"
  }
 },
 "nbformat": 4,
 "nbformat_minor": 2
}
