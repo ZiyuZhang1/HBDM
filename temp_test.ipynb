{
 "cells": [
  {
   "cell_type": "code",
   "execution_count": 1,
   "metadata": {},
   "outputs": [],
   "source": [
    "import numpy as np"
   ]
  },
  {
   "cell_type": "code",
   "execution_count": 1,
   "metadata": {},
   "outputs": [],
   "source": [
    "import pandas as pd"
   ]
  },
  {
   "cell_type": "code",
   "execution_count": 5,
   "metadata": {},
   "outputs": [
    {
     "data": {
      "text/html": [
       "<div>\n",
       "<style scoped>\n",
       "    .dataframe tbody tr th:only-of-type {\n",
       "        vertical-align: middle;\n",
       "    }\n",
       "\n",
       "    .dataframe tbody tr th {\n",
       "        vertical-align: top;\n",
       "    }\n",
       "\n",
       "    .dataframe thead th {\n",
       "        text-align: right;\n",
       "    }\n",
       "</style>\n",
       "<table border=\"1\" class=\"dataframe\">\n",
       "  <thead>\n",
       "    <tr style=\"text-align: right;\">\n",
       "      <th></th>\n",
       "      <th>protein1</th>\n",
       "      <th>protein2</th>\n",
       "      <th>neighborhood</th>\n",
       "      <th>fusion</th>\n",
       "      <th>cooccurence</th>\n",
       "      <th>coexpression</th>\n",
       "      <th>experimental</th>\n",
       "      <th>database</th>\n",
       "      <th>textmining</th>\n",
       "      <th>combined_score</th>\n",
       "    </tr>\n",
       "  </thead>\n",
       "  <tbody>\n",
       "    <tr>\n",
       "      <th>0</th>\n",
       "      <td>9606.ENSP00000000233</td>\n",
       "      <td>9606.ENSP00000356607</td>\n",
       "      <td>0</td>\n",
       "      <td>0</td>\n",
       "      <td>0</td>\n",
       "      <td>45</td>\n",
       "      <td>134</td>\n",
       "      <td>0</td>\n",
       "      <td>81</td>\n",
       "      <td>173</td>\n",
       "    </tr>\n",
       "    <tr>\n",
       "      <th>1</th>\n",
       "      <td>9606.ENSP00000000233</td>\n",
       "      <td>9606.ENSP00000427567</td>\n",
       "      <td>0</td>\n",
       "      <td>0</td>\n",
       "      <td>0</td>\n",
       "      <td>0</td>\n",
       "      <td>128</td>\n",
       "      <td>0</td>\n",
       "      <td>70</td>\n",
       "      <td>154</td>\n",
       "    </tr>\n",
       "    <tr>\n",
       "      <th>2</th>\n",
       "      <td>9606.ENSP00000000233</td>\n",
       "      <td>9606.ENSP00000253413</td>\n",
       "      <td>0</td>\n",
       "      <td>0</td>\n",
       "      <td>0</td>\n",
       "      <td>118</td>\n",
       "      <td>49</td>\n",
       "      <td>0</td>\n",
       "      <td>69</td>\n",
       "      <td>151</td>\n",
       "    </tr>\n",
       "    <tr>\n",
       "      <th>3</th>\n",
       "      <td>9606.ENSP00000000233</td>\n",
       "      <td>9606.ENSP00000493357</td>\n",
       "      <td>0</td>\n",
       "      <td>0</td>\n",
       "      <td>0</td>\n",
       "      <td>56</td>\n",
       "      <td>53</td>\n",
       "      <td>0</td>\n",
       "      <td>457</td>\n",
       "      <td>471</td>\n",
       "    </tr>\n",
       "    <tr>\n",
       "      <th>4</th>\n",
       "      <td>9606.ENSP00000000233</td>\n",
       "      <td>9606.ENSP00000324127</td>\n",
       "      <td>0</td>\n",
       "      <td>0</td>\n",
       "      <td>0</td>\n",
       "      <td>0</td>\n",
       "      <td>46</td>\n",
       "      <td>0</td>\n",
       "      <td>197</td>\n",
       "      <td>201</td>\n",
       "    </tr>\n",
       "    <tr>\n",
       "      <th>...</th>\n",
       "      <td>...</td>\n",
       "      <td>...</td>\n",
       "      <td>...</td>\n",
       "      <td>...</td>\n",
       "      <td>...</td>\n",
       "      <td>...</td>\n",
       "      <td>...</td>\n",
       "      <td>...</td>\n",
       "      <td>...</td>\n",
       "      <td>...</td>\n",
       "    </tr>\n",
       "    <tr>\n",
       "      <th>13715399</th>\n",
       "      <td>9606.ENSP00000501317</td>\n",
       "      <td>9606.ENSP00000475489</td>\n",
       "      <td>0</td>\n",
       "      <td>0</td>\n",
       "      <td>0</td>\n",
       "      <td>60</td>\n",
       "      <td>99</td>\n",
       "      <td>0</td>\n",
       "      <td>126</td>\n",
       "      <td>195</td>\n",
       "    </tr>\n",
       "    <tr>\n",
       "      <th>13715400</th>\n",
       "      <td>9606.ENSP00000501317</td>\n",
       "      <td>9606.ENSP00000370447</td>\n",
       "      <td>0</td>\n",
       "      <td>0</td>\n",
       "      <td>0</td>\n",
       "      <td>55</td>\n",
       "      <td>111</td>\n",
       "      <td>0</td>\n",
       "      <td>79</td>\n",
       "      <td>158</td>\n",
       "    </tr>\n",
       "    <tr>\n",
       "      <th>13715401</th>\n",
       "      <td>9606.ENSP00000501317</td>\n",
       "      <td>9606.ENSP00000312272</td>\n",
       "      <td>0</td>\n",
       "      <td>0</td>\n",
       "      <td>0</td>\n",
       "      <td>0</td>\n",
       "      <td>0</td>\n",
       "      <td>0</td>\n",
       "      <td>227</td>\n",
       "      <td>226</td>\n",
       "    </tr>\n",
       "    <tr>\n",
       "      <th>13715402</th>\n",
       "      <td>9606.ENSP00000501317</td>\n",
       "      <td>9606.ENSP00000402092</td>\n",
       "      <td>0</td>\n",
       "      <td>0</td>\n",
       "      <td>0</td>\n",
       "      <td>0</td>\n",
       "      <td>67</td>\n",
       "      <td>0</td>\n",
       "      <td>146</td>\n",
       "      <td>169</td>\n",
       "    </tr>\n",
       "    <tr>\n",
       "      <th>13715403</th>\n",
       "      <td>9606.ENSP00000501317</td>\n",
       "      <td>9606.ENSP00000404074</td>\n",
       "      <td>0</td>\n",
       "      <td>0</td>\n",
       "      <td>0</td>\n",
       "      <td>49</td>\n",
       "      <td>63</td>\n",
       "      <td>0</td>\n",
       "      <td>227</td>\n",
       "      <td>251</td>\n",
       "    </tr>\n",
       "  </tbody>\n",
       "</table>\n",
       "<p>13715404 rows × 10 columns</p>\n",
       "</div>"
      ],
      "text/plain": [
       "                      protein1              protein2  neighborhood  fusion  \\\n",
       "0         9606.ENSP00000000233  9606.ENSP00000356607             0       0   \n",
       "1         9606.ENSP00000000233  9606.ENSP00000427567             0       0   \n",
       "2         9606.ENSP00000000233  9606.ENSP00000253413             0       0   \n",
       "3         9606.ENSP00000000233  9606.ENSP00000493357             0       0   \n",
       "4         9606.ENSP00000000233  9606.ENSP00000324127             0       0   \n",
       "...                        ...                   ...           ...     ...   \n",
       "13715399  9606.ENSP00000501317  9606.ENSP00000475489             0       0   \n",
       "13715400  9606.ENSP00000501317  9606.ENSP00000370447             0       0   \n",
       "13715401  9606.ENSP00000501317  9606.ENSP00000312272             0       0   \n",
       "13715402  9606.ENSP00000501317  9606.ENSP00000402092             0       0   \n",
       "13715403  9606.ENSP00000501317  9606.ENSP00000404074             0       0   \n",
       "\n",
       "          cooccurence  coexpression  experimental  database  textmining  \\\n",
       "0                   0            45           134         0          81   \n",
       "1                   0             0           128         0          70   \n",
       "2                   0           118            49         0          69   \n",
       "3                   0            56            53         0         457   \n",
       "4                   0             0            46         0         197   \n",
       "...               ...           ...           ...       ...         ...   \n",
       "13715399            0            60            99         0         126   \n",
       "13715400            0            55           111         0          79   \n",
       "13715401            0             0             0         0         227   \n",
       "13715402            0             0            67         0         146   \n",
       "13715403            0            49            63         0         227   \n",
       "\n",
       "          combined_score  \n",
       "0                    173  \n",
       "1                    154  \n",
       "2                    151  \n",
       "3                    471  \n",
       "4                    201  \n",
       "...                  ...  \n",
       "13715399             195  \n",
       "13715400             158  \n",
       "13715401             226  \n",
       "13715402             169  \n",
       "13715403             251  \n",
       "\n",
       "[13715404 rows x 10 columns]"
      ]
     },
     "execution_count": 5,
     "metadata": {},
     "output_type": "execute_result"
    }
   ],
   "source": [
    "df = pd.read_csv('/novo/omdb/pds02/PDS2843/data/sprint_tid_ascvd/gzn/data/9606.protein.links.detailed.v12.0.txt',sep=' ')\n",
    "df"
   ]
  },
  {
   "cell_type": "code",
   "execution_count": 6,
   "metadata": {},
   "outputs": [
    {
     "data": {
      "text/plain": [
       "Index(['protein1', 'protein2', 'neighborhood', 'fusion', 'cooccurence',\n",
       "       'coexpression', 'experimental', 'database', 'textmining',\n",
       "       'combined_score'],\n",
       "      dtype='object')"
      ]
     },
     "execution_count": 6,
     "metadata": {},
     "output_type": "execute_result"
    }
   ],
   "source": [
    "df.columns"
   ]
  },
  {
   "cell_type": "code",
   "execution_count": 22,
   "metadata": {},
   "outputs": [
    {
     "data": {
      "text/plain": [
       "1611.65"
      ]
     },
     "execution_count": 22,
     "metadata": {},
     "output_type": "execute_result"
    }
   ],
   "source": [
    "l = [[1, 2, 3], [4, 5], [6, 7, 8]]\n",
    "dis = np.array([[0,0.5,0.7],\n",
    "       [0,0,0.3],\n",
    "       [0,0,0]])\n",
    "results = 0\n",
    "results2 = 0\n",
    "n = len(l)\n",
    "for c1_pos in range(n):\n",
    "    for c2_pos in range(n):\n",
    "        if c1_pos < c2_pos:\n",
    "            c1 = l[c1_pos]\n",
    "            c2 = l[c2_pos]\n",
    "            dist = dis[c1_pos,c2_pos]\n",
    "            for v1 in c1:\n",
    "                for v2 in c2:\n",
    "                    results += (v1+v2-dist)**2\n",
    "                    results2 += v1**2 + v2**2 +2*v1*v2+dist**2-2*(v1+v2)*dist\n",
    "results"
   ]
  },
  {
   "cell_type": "code",
   "execution_count": 68,
   "metadata": {},
   "outputs": [
    {
     "data": {
      "text/plain": [
       "tensor([[5, 6, 7, 8],\n",
       "        [5, 6, 7, 8]])"
      ]
     },
     "execution_count": 68,
     "metadata": {},
     "output_type": "execute_result"
    }
   ],
   "source": [
    "import torch\n",
    "idx = torch.tensor([1,2])\n",
    "tensor_2d = torch.tensor([[1, 2, 3, 4], [5, 6, 7, 8], [5, 6, 7, 8], [5, 6, 7, 8]])\n",
    "tensor_2d[idx,]"
   ]
  },
  {
   "cell_type": "code",
   "execution_count": null,
   "metadata": {},
   "outputs": [],
   "source": [
    "general_cl_id = [torch.tensor([0,0,0,1,1,1]),torch.tensor([2,2,3,4,5,5])]\n",
    "general_mask = [torch.tensor([0,1,2,3,4,5]),torch.tensor([0,1,2,3,4,5])]"
   ]
  },
  {
   "cell_type": "code",
   "execution_count": 59,
   "metadata": {},
   "outputs": [
    {
     "name": "stdout",
     "output_type": "stream",
     "text": [
      "1611.65\n"
     ]
    }
   ],
   "source": [
    "import numpy as np\n",
    "cl_id = np.array([0, 0, 0, 1, 1, 2, 2, 2])\n",
    "mask = np.array([0,1,2,3,4,5,6,7])\n",
    "dis = np.array([[0, 0.5, 0.7], [0, 0, 0.3], [0, 0, 0]])\n",
    "gamma = np.array([1,2,3,4,5,6,7,8])\n",
    "# Create a dictionary to group elements by their cluster IDs\n",
    "grouped_data = {}\n",
    "for i, cluster_id in enumerate(cl_id):\n",
    "    if cluster_id not in grouped_data:\n",
    "        grouped_data[cluster_id] = []\n",
    "    grouped_data[cluster_id].append(mask[i])\n",
    "# Convert the grouped data to a list of NumPy arrays\n",
    "l = [np.array(grouped_data[cluster_id]) for cluster_id in sorted(grouped_data.keys())]\n",
    "# Create an upper triangular matrix for the results\n",
    "results = 0\n",
    " \n",
    "# Vectorized computation of the results\n",
    "for c1_pos in range(len(l)):\n",
    "    for c2_pos in range(c1_pos + 1, len(l)):\n",
    "        c1 = l[c1_pos]\n",
    "        c2 = l[c2_pos]\n",
    "        dist = dis[c1_pos, c2_pos]\n",
    "        v1, v2 = np.meshgrid(c1, c2)\n",
    "        results += np.sum((gamma[v1] + gamma[v2] - dist) ** 2)\n",
    "print(results)"
   ]
  },
  {
   "cell_type": "code",
   "execution_count": 58,
   "metadata": {},
   "outputs": [
    {
     "name": "stdout",
     "output_type": "stream",
     "text": [
      "1611.65\n"
     ]
    }
   ],
   "source": [
    "import numpy as np\n",
    "\n",
    "cl_id = [0, 0, 0, 1, 1, 2, 2, 2]\n",
    "mask = [0,1,2,3,4,5,6,7]\n",
    "dis = np.array([[0, 0.5, 0.7], [0, 0, 0.3], [0, 0, 0]])\n",
    "gamma = np.array([1,2,3,4,5,6,7,8])\n",
    "\n",
    "# Create a dictionary to group elements by their cluster IDs\n",
    "grouped_data = {}\n",
    "for i, cluster_id in enumerate(cl_id):\n",
    "    if cluster_id not in grouped_data:\n",
    "        grouped_data[cluster_id] = []\n",
    "    grouped_data[cluster_id].append(mask[i])\n",
    "\n",
    "# Convert the grouped data to a list of NumPy arrays\n",
    "l = [np.array(grouped_data[cluster_id]) for cluster_id in sorted(grouped_data.keys())]\n",
    "\n",
    "# Create an upper triangular matrix for the results\n",
    "results = 0\n",
    "\n",
    "for c1_pos in range(len(l)):\n",
    "    for c2_pos in range(c1_pos + 1, len(l)):\n",
    "        c1 = l[c1_pos]\n",
    "        c2 = l[c2_pos]\n",
    "        dist = dis[c1_pos, c2_pos]\n",
    "        for v1 in c1:\n",
    "            for v2 in c2:\n",
    "                results += (gamma[v1]+gamma[v2]-dist)**2\n",
    "\n",
    "print(results)\n"
   ]
  },
  {
   "cell_type": "code",
   "execution_count": 55,
   "metadata": {},
   "outputs": [
    {
     "ename": "AttributeError",
     "evalue": "'numpy.ndarray' object has no attribute 'pos'",
     "output_type": "error",
     "traceback": [
      "\u001b[1;31m---------------------------------------------------------------------------\u001b[0m",
      "\u001b[1;31mAttributeError\u001b[0m                            Traceback (most recent call last)",
      "\u001b[1;32md:\\study\\thesis\\project\\HBDM-main\\temp_test.ipynb Cell 6\u001b[0m line \u001b[0;36m2\n\u001b[0;32m      <a href='vscode-notebook-cell:/d%3A/study/thesis/project/HBDM-main/temp_test.ipynb#X30sZmlsZQ%3D%3D?line=0'>1</a>\u001b[0m gamma \u001b[39m=\u001b[39m np\u001b[39m.\u001b[39marray([\u001b[39m1\u001b[39m,\u001b[39m2\u001b[39m,\u001b[39m3\u001b[39m,\u001b[39m4\u001b[39m,\u001b[39m5\u001b[39m,\u001b[39m6\u001b[39m,\u001b[39m7\u001b[39m,\u001b[39m8\u001b[39m])\n\u001b[1;32m----> <a href='vscode-notebook-cell:/d%3A/study/thesis/project/HBDM-main/temp_test.ipynb#X30sZmlsZQ%3D%3D?line=1'>2</a>\u001b[0m gamma\u001b[39m.\u001b[39;49mpos[\u001b[39m4\u001b[39m,\u001b[39m6\u001b[39m]\n",
      "\u001b[1;31mAttributeError\u001b[0m: 'numpy.ndarray' object has no attribute 'pos'"
     ]
    }
   ],
   "source": [
    "gamma = np.array([1,2,3,4,5,6,7,8])\n",
    "gamma.pos[4,6]"
   ]
  },
  {
   "cell_type": "code",
   "execution_count": 51,
   "metadata": {},
   "outputs": [
    {
     "data": {
      "text/plain": [
       "array([[10, 11, 12],\n",
       "       [11, 12, 13]])"
      ]
     },
     "execution_count": 51,
     "metadata": {},
     "output_type": "execute_result"
    }
   ],
   "source": [
    "c1[:, np.newaxis]+c2"
   ]
  },
  {
   "cell_type": "code",
   "execution_count": 50,
   "metadata": {},
   "outputs": [
    {
     "data": {
      "text/plain": [
       "array([6, 7, 8])"
      ]
     },
     "execution_count": 50,
     "metadata": {},
     "output_type": "execute_result"
    }
   ],
   "source": []
  },
  {
   "cell_type": "code",
   "execution_count": 46,
   "metadata": {},
   "outputs": [
    {
     "name": "stdout",
     "output_type": "stream",
     "text": [
      "1611.65\n"
     ]
    }
   ],
   "source": [
    "import numpy as np\n",
    "\n",
    "cl_id = [0, 0, 0, 1, 1, 2, 2, 2]\n",
    "mask = [1, 2, 3, 4, 5, 6, 7, 8]\n",
    "dis = np.array([[0, 0.5, 0.7], [0, 0, 0.3], [0, 0, 0]])\n",
    "\n",
    "# Group the mask values based on cl_id\n",
    "grouped_mask = [np.array(mask)[np.array(cl_id) == i] for i in np.unique(cl_id)]\n",
    "\n",
    "# Create an upper triangular matrix for the results\n",
    "n = len(np.unique(cl_id))\n",
    "results = np.triu(np.zeros((n, n), dtype=float), k=1)\n",
    "\n",
    "for c1_pos in range(n):\n",
    "    for c2_pos in range(c1_pos + 1, n):\n",
    "        c1 = grouped_mask[c1_pos]\n",
    "        c2 = grouped_mask[c2_pos]\n",
    "        dist = dis[c1_pos, c2_pos]\n",
    "\n",
    "        # Vectorized computation for the squared differences\n",
    "        diff = c1[:, np.newaxis] + c2 - dist\n",
    "        results[c1_pos, c2_pos] = np.sum(diff**2)\n",
    "\n",
    "# Calculate the total sum of squared differences\n",
    "total_results = np.sum(results)\n",
    "print(total_results)\n"
   ]
  },
  {
   "cell_type": "code",
   "execution_count": 47,
   "metadata": {},
   "outputs": [
    {
     "data": {
      "text/plain": [
       "array([4, 5])"
      ]
     },
     "execution_count": 47,
     "metadata": {},
     "output_type": "execute_result"
    }
   ],
   "source": [
    "c1"
   ]
  },
  {
   "cell_type": "code",
   "execution_count": 43,
   "metadata": {},
   "outputs": [],
   "source": [
    "import torch\n",
    " \n",
    "cl_id = torch.tensor([0, 0, 0, 1, 1, 2, 2, 2])\n",
    "mask = torch.tensor([1, 2, 3, 4, 5, 6, 7, 8])\n",
    "dis = torch.tensor([[0, 0.5, 0.7], [0, 0, 0.3], [0, 0, 0]])\n",
    " \n",
    "# Group the mask values based on cl_id\n",
    "grouped_mask = [mask[cl_id == i] for i in torch.unique(cl_id)]\n",
    " \n",
    "# Create an upper triangular matrix for the results\n",
    "n = len(torch.unique(cl_id))\n",
    "results = torch.triu(torch.zeros((n, n), dtype=torch.float), diagonal=1)\n",
    " \n",
    "# Calculate the pairwise distances and squared differences\n",
    "for c1_pos in range(n):\n",
    "    for c2_pos in range(c1_pos + 1, n):\n",
    "        c1 = grouped_mask[c1_pos]\n",
    "        c2 = grouped_mask[c2_pos]\n",
    "        dist = dis[c1_pos, c2_pos]\n",
    "        c1 = c1.unsqueeze(1)\n",
    "        diff = c1 + c2 - dist\n",
    "        results[c1_pos, c2_pos] = torch.sum(diff**2)\n",
    " \n",
    "# Calculate the total sum of squared differences\n",
    "total_results = torch.sum(results)"
   ]
  },
  {
   "cell_type": "code",
   "execution_count": 45,
   "metadata": {},
   "outputs": [
    {
     "data": {
      "text/plain": [
       "tensor([[4],\n",
       "        [5]])"
      ]
     },
     "execution_count": 45,
     "metadata": {},
     "output_type": "execute_result"
    }
   ],
   "source": [
    "c1"
   ]
  },
  {
   "cell_type": "code",
   "execution_count": 33,
   "metadata": {},
   "outputs": [
    {
     "name": "stdout",
     "output_type": "stream",
     "text": [
      "[2000.49 2432.49 2288.49]\n"
     ]
    }
   ],
   "source": [
    "import numpy as np\n",
    "\n",
    "l = [[1, 2, 3], [4, 5], [6, 7, 8]]\n",
    "dis = np.array([[0, 0.5, 0.7],\n",
    "                [0, 0, 0.3],\n",
    "                [0, 0, 0]])\n",
    "\n",
    "l_lens = np.array([len(x) for x in l])\n",
    "max_len = l_lens.max()\n",
    "l_padded = np.array([x + [0]*(max_len-len(x)) for x in l])\n",
    "\n",
    "v1 = l_padded[:, :, np.newaxis]  # (3, 3, 1)\n",
    "v2 = l_padded[:, np.newaxis, :]  # (3, 1, 3)\n",
    "\n",
    "v1_squared = v1**2  # (3, 3, 3)\n",
    "v2_squared = v2**2  # (3, 3, 3)\n",
    "v1_v2 = 2 * v1 * v2  # (3, 3, 3)\n",
    "\n",
    "distances = dis[:, :, np.newaxis, np.newaxis]  # (3, 3, 1, 1)\n",
    "dist_squared = distances**2  # (3, 3, 1, 1)\n",
    "dist_term = 2 * (v1 + v2) * distances  # (3, 3, 3, 1)\n",
    "\n",
    "# Summing all the terms\n",
    "results_vectorized = np.sum(v1_squared + v2_squared + v1_v2 + dist_squared - dist_term, axis=(0, 1, 2))\n",
    "\n",
    "print(results_vectorized)\n"
   ]
  },
  {
   "cell_type": "code",
   "execution_count": 32,
   "metadata": {},
   "outputs": [
    {
     "data": {
      "text/plain": [
       "array([[1., 2., 3.],\n",
       "       [4., 5., 0.],\n",
       "       [6., 7., 8.]])"
      ]
     },
     "execution_count": 32,
     "metadata": {},
     "output_type": "execute_result"
    }
   ],
   "source": [
    "l_arr \n"
   ]
  },
  {
   "cell_type": "code",
   "execution_count": 19,
   "metadata": {},
   "outputs": [
    {
     "ename": "TypeError",
     "evalue": "list indices must be integers or slices, not tuple",
     "output_type": "error",
     "traceback": [
      "\u001b[1;31m---------------------------------------------------------------------------\u001b[0m",
      "\u001b[1;31mTypeError\u001b[0m                                 Traceback (most recent call last)",
      "\u001b[1;32md:\\study\\thesis\\project\\HBDM-main\\temp_test.ipynb Cell 3\u001b[0m line \u001b[0;36m1\n\u001b[1;32m----> <a href='vscode-notebook-cell:/d%3A/study/thesis/project/HBDM-main/temp_test.ipynb#W6sZmlsZQ%3D%3D?line=0'>1</a>\u001b[0m dis[\u001b[39m1\u001b[39;49m,\u001b[39m2\u001b[39;49m]\n",
      "\u001b[1;31mTypeError\u001b[0m: list indices must be integers or slices, not tuple"
     ]
    }
   ],
   "source": [
    "dis[1,2]"
   ]
  },
  {
   "cell_type": "code",
   "execution_count": 10,
   "metadata": {},
   "outputs": [
    {
     "name": "stdout",
     "output_type": "stream",
     "text": [
      "[[17 20 25]\n",
      " [26 29 34]]\n",
      "151\n"
     ]
    }
   ],
   "source": [
    "c1 = np.array([1, 2, 3])\n",
    "c2 = np.array([4, 5])\n",
    "\n",
    "v1_matrix, v2_matrix = np.meshgrid(c1, c2)\n",
    "temp = v1_matrix ** 2 + v2_matrix ** 2\n",
    "results = np.sum(temp)\n",
    "\n",
    "\n",
    "print(results)"
   ]
  },
  {
   "cell_type": "code",
   "execution_count": 11,
   "metadata": {},
   "outputs": [
    {
     "ename": "ValueError",
     "evalue": "operands could not be broadcast together with shapes (2,3) (3,2) ",
     "output_type": "error",
     "traceback": [
      "\u001b[1;31m---------------------------------------------------------------------------\u001b[0m",
      "\u001b[1;31mValueError\u001b[0m                                Traceback (most recent call last)",
      "\u001b[1;32md:\\study\\thesis\\project\\HBDM-main\\temp_test.ipynb Cell 5\u001b[0m line \u001b[0;36m1\n\u001b[0;32m     <a href='vscode-notebook-cell:/d%3A/study/thesis/project/HBDM-main/temp_test.ipynb#W3sZmlsZQ%3D%3D?line=10'>11</a>\u001b[0m squared_meshgrids \u001b[39m=\u001b[39m [arr1 \u001b[39m*\u001b[39m\u001b[39m*\u001b[39m \u001b[39m2\u001b[39m \u001b[39m+\u001b[39m arr2 \u001b[39m*\u001b[39m\u001b[39m*\u001b[39m \u001b[39m2\u001b[39m \u001b[39mfor\u001b[39;00m arr1, arr2 \u001b[39min\u001b[39;00m meshgrids]\n\u001b[0;32m     <a href='vscode-notebook-cell:/d%3A/study/thesis/project/HBDM-main/temp_test.ipynb#W3sZmlsZQ%3D%3D?line=12'>13</a>\u001b[0m \u001b[39m# Sum all the squared mesh grids\u001b[39;00m\n\u001b[1;32m---> <a href='vscode-notebook-cell:/d%3A/study/thesis/project/HBDM-main/temp_test.ipynb#W3sZmlsZQ%3D%3D?line=13'>14</a>\u001b[0m results \u001b[39m=\u001b[39m \u001b[39msum\u001b[39;49m(squared_meshgrids)\n\u001b[0;32m     <a href='vscode-notebook-cell:/d%3A/study/thesis/project/HBDM-main/temp_test.ipynb#W3sZmlsZQ%3D%3D?line=15'>16</a>\u001b[0m \u001b[39mprint\u001b[39m(results)\n",
      "\u001b[1;31mValueError\u001b[0m: operands could not be broadcast together with shapes (2,3) (3,2) "
     ]
    }
   ],
   "source": [
    "# Define a list of lists\n",
    "lists = [[1, 2, 3], [4, 5], [6, 7, 8]]\n",
    "\n",
    "# Convert the list of lists to a list of NumPy arrays\n",
    "arrays = [np.array(lst) for lst in lists]\n",
    "\n",
    "# Create mesh grids for each array and store them in a list\n",
    "meshgrids = [np.meshgrid(arr1, arr2) for arr1, arr2 in zip(arrays, arrays[1:])]\n",
    "\n",
    "# Calculate the squares of each element in the mesh grids\n",
    "squared_meshgrids = [arr1 ** 2 + arr2 ** 2 for arr1, arr2 in meshgrids]\n",
    "\n",
    "# Sum all the squared mesh grids\n",
    "results = sum(squared_meshgrids)\n",
    "\n",
    "print(results)"
   ]
  }
 ],
 "metadata": {
  "kernelspec": {
   "display_name": "rescal",
   "language": "python",
   "name": "python3"
  },
  "language_info": {
   "codemirror_mode": {
    "name": "ipython",
    "version": 3
   },
   "file_extension": ".py",
   "mimetype": "text/x-python",
   "name": "python",
   "nbconvert_exporter": "python",
   "pygments_lexer": "ipython3",
   "version": "3.9.17"
  }
 },
 "nbformat": 4,
 "nbformat_minor": 2
}
