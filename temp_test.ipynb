{
 "cells": [
  {
   "cell_type": "code",
   "execution_count": 1,
   "metadata": {},
   "outputs": [],
   "source": [
    "import numpy as np"
   ]
  },
  {
   "cell_type": "code",
   "execution_count": 22,
   "metadata": {},
   "outputs": [
    {
     "data": {
      "text/plain": [
       "1611.65"
      ]
     },
     "execution_count": 22,
     "metadata": {},
     "output_type": "execute_result"
    }
   ],
   "source": [
    "l = [[1, 2, 3], [4, 5], [6, 7, 8]]\n",
    "dis = np.array([[0,0.5,0.7],\n",
    "       [0,0,0.3],\n",
    "       [0,0,0]])\n",
    "results = 0\n",
    "results2 = 0\n",
    "n = len(l)\n",
    "for c1_pos in range(n):\n",
    "    for c2_pos in range(n):\n",
    "        if c1_pos < c2_pos:\n",
    "            c1 = l[c1_pos]\n",
    "            c2 = l[c2_pos]\n",
    "            dist = dis[c1_pos,c2_pos]\n",
    "            for v1 in c1:\n",
    "                for v2 in c2:\n",
    "                    results += (v1+v2-dist)**2\n",
    "                    results2 += v1**2 + v2**2 +2*v1*v2+dist**2-2*(v1+v2)*dist\n",
    "results"
   ]
  },
  {
   "cell_type": "code",
   "execution_count": 68,
   "metadata": {},
   "outputs": [
    {
     "data": {
      "text/plain": [
       "tensor([[5, 6, 7, 8],\n",
       "        [5, 6, 7, 8]])"
      ]
     },
     "execution_count": 68,
     "metadata": {},
     "output_type": "execute_result"
    }
   ],
   "source": [
    "import torch\n",
    "idx = torch.tensor([1,2])\n",
    "tensor_2d = torch.tensor([[1, 2, 3, 4], [5, 6, 7, 8], [5, 6, 7, 8], [5, 6, 7, 8]])\n",
    "tensor_2d[idx,]"
   ]
  },
  {
   "cell_type": "code",
   "execution_count": null,
   "metadata": {},
   "outputs": [],
   "source": [
    "general_cl_id = [torch.tensor([0,0,0,1,1,1]),torch.tensor([2,2,3,4,5,5])]\n",
    "general_mask = [torch.tensor([0,1,2,3,4,5]),torch.tensor([0,1,2,3,4,5])]"
   ]
  },
  {
   "cell_type": "code",
   "execution_count": 59,
   "metadata": {},
   "outputs": [
    {
     "name": "stdout",
     "output_type": "stream",
     "text": [
      "1611.65\n"
     ]
    }
   ],
   "source": [
    "import numpy as np\n",
    "cl_id = np.array([0, 0, 0, 1, 1, 2, 2, 2])\n",
    "mask = np.array([0,1,2,3,4,5,6,7])\n",
    "dis = np.array([[0, 0.5, 0.7], [0, 0, 0.3], [0, 0, 0]])\n",
    "gamma = np.array([1,2,3,4,5,6,7,8])\n",
    "# Create a dictionary to group elements by their cluster IDs\n",
    "grouped_data = {}\n",
    "for i, cluster_id in enumerate(cl_id):\n",
    "    if cluster_id not in grouped_data:\n",
    "        grouped_data[cluster_id] = []\n",
    "    grouped_data[cluster_id].append(mask[i])\n",
    "# Convert the grouped data to a list of NumPy arrays\n",
    "l = [np.array(grouped_data[cluster_id]) for cluster_id in sorted(grouped_data.keys())]\n",
    "# Create an upper triangular matrix for the results\n",
    "results = 0\n",
    " \n",
    "# Vectorized computation of the results\n",
    "for c1_pos in range(len(l)):\n",
    "    for c2_pos in range(c1_pos + 1, len(l)):\n",
    "        c1 = l[c1_pos]\n",
    "        c2 = l[c2_pos]\n",
    "        dist = dis[c1_pos, c2_pos]\n",
    "        v1, v2 = np.meshgrid(c1, c2)\n",
    "        results += np.sum((gamma[v1] + gamma[v2] - dist) ** 2)\n",
    "print(results)"
   ]
  },
  {
   "cell_type": "code",
   "execution_count": 58,
   "metadata": {},
   "outputs": [
    {
     "name": "stdout",
     "output_type": "stream",
     "text": [
      "1611.65\n"
     ]
    }
   ],
   "source": [
    "import numpy as np\n",
    "\n",
    "cl_id = [0, 0, 0, 1, 1, 2, 2, 2]\n",
    "mask = [0,1,2,3,4,5,6,7]\n",
    "dis = np.array([[0, 0.5, 0.7], [0, 0, 0.3], [0, 0, 0]])\n",
    "gamma = np.array([1,2,3,4,5,6,7,8])\n",
    "\n",
    "# Create a dictionary to group elements by their cluster IDs\n",
    "grouped_data = {}\n",
    "for i, cluster_id in enumerate(cl_id):\n",
    "    if cluster_id not in grouped_data:\n",
    "        grouped_data[cluster_id] = []\n",
    "    grouped_data[cluster_id].append(mask[i])\n",
    "\n",
    "# Convert the grouped data to a list of NumPy arrays\n",
    "l = [np.array(grouped_data[cluster_id]) for cluster_id in sorted(grouped_data.keys())]\n",
    "\n",
    "# Create an upper triangular matrix for the results\n",
    "results = 0\n",
    "\n",
    "for c1_pos in range(len(l)):\n",
    "    for c2_pos in range(c1_pos + 1, len(l)):\n",
    "        c1 = l[c1_pos]\n",
    "        c2 = l[c2_pos]\n",
    "        dist = dis[c1_pos, c2_pos]\n",
    "        for v1 in c1:\n",
    "            for v2 in c2:\n",
    "                results += (gamma[v1]+gamma[v2]-dist)**2\n",
    "\n",
    "print(results)\n"
   ]
  },
  {
   "cell_type": "code",
   "execution_count": 55,
   "metadata": {},
   "outputs": [
    {
     "ename": "AttributeError",
     "evalue": "'numpy.ndarray' object has no attribute 'pos'",
     "output_type": "error",
     "traceback": [
      "\u001b[1;31m---------------------------------------------------------------------------\u001b[0m",
      "\u001b[1;31mAttributeError\u001b[0m                            Traceback (most recent call last)",
      "\u001b[1;32md:\\study\\thesis\\project\\HBDM-main\\temp_test.ipynb Cell 6\u001b[0m line \u001b[0;36m2\n\u001b[0;32m      <a href='vscode-notebook-cell:/d%3A/study/thesis/project/HBDM-main/temp_test.ipynb#X30sZmlsZQ%3D%3D?line=0'>1</a>\u001b[0m gamma \u001b[39m=\u001b[39m np\u001b[39m.\u001b[39marray([\u001b[39m1\u001b[39m,\u001b[39m2\u001b[39m,\u001b[39m3\u001b[39m,\u001b[39m4\u001b[39m,\u001b[39m5\u001b[39m,\u001b[39m6\u001b[39m,\u001b[39m7\u001b[39m,\u001b[39m8\u001b[39m])\n\u001b[1;32m----> <a href='vscode-notebook-cell:/d%3A/study/thesis/project/HBDM-main/temp_test.ipynb#X30sZmlsZQ%3D%3D?line=1'>2</a>\u001b[0m gamma\u001b[39m.\u001b[39;49mpos[\u001b[39m4\u001b[39m,\u001b[39m6\u001b[39m]\n",
      "\u001b[1;31mAttributeError\u001b[0m: 'numpy.ndarray' object has no attribute 'pos'"
     ]
    }
   ],
   "source": [
    "gamma = np.array([1,2,3,4,5,6,7,8])\n",
    "gamma.pos[4,6]"
   ]
  },
  {
   "cell_type": "code",
   "execution_count": 51,
   "metadata": {},
   "outputs": [
    {
     "data": {
      "text/plain": [
       "array([[10, 11, 12],\n",
       "       [11, 12, 13]])"
      ]
     },
     "execution_count": 51,
     "metadata": {},
     "output_type": "execute_result"
    }
   ],
   "source": [
    "c1[:, np.newaxis]+c2"
   ]
  },
  {
   "cell_type": "code",
   "execution_count": 50,
   "metadata": {},
   "outputs": [
    {
     "data": {
      "text/plain": [
       "array([6, 7, 8])"
      ]
     },
     "execution_count": 50,
     "metadata": {},
     "output_type": "execute_result"
    }
   ],
   "source": []
  },
  {
   "cell_type": "code",
   "execution_count": 46,
   "metadata": {},
   "outputs": [
    {
     "name": "stdout",
     "output_type": "stream",
     "text": [
      "1611.65\n"
     ]
    }
   ],
   "source": [
    "import numpy as np\n",
    "\n",
    "cl_id = [0, 0, 0, 1, 1, 2, 2, 2]\n",
    "mask = [1, 2, 3, 4, 5, 6, 7, 8]\n",
    "dis = np.array([[0, 0.5, 0.7], [0, 0, 0.3], [0, 0, 0]])\n",
    "\n",
    "# Group the mask values based on cl_id\n",
    "grouped_mask = [np.array(mask)[np.array(cl_id) == i] for i in np.unique(cl_id)]\n",
    "\n",
    "# Create an upper triangular matrix for the results\n",
    "n = len(np.unique(cl_id))\n",
    "results = np.triu(np.zeros((n, n), dtype=float), k=1)\n",
    "\n",
    "for c1_pos in range(n):\n",
    "    for c2_pos in range(c1_pos + 1, n):\n",
    "        c1 = grouped_mask[c1_pos]\n",
    "        c2 = grouped_mask[c2_pos]\n",
    "        dist = dis[c1_pos, c2_pos]\n",
    "\n",
    "        # Vectorized computation for the squared differences\n",
    "        diff = c1[:, np.newaxis] + c2 - dist\n",
    "        results[c1_pos, c2_pos] = np.sum(diff**2)\n",
    "\n",
    "# Calculate the total sum of squared differences\n",
    "total_results = np.sum(results)\n",
    "print(total_results)\n"
   ]
  },
  {
   "cell_type": "code",
   "execution_count": 47,
   "metadata": {},
   "outputs": [
    {
     "data": {
      "text/plain": [
       "array([4, 5])"
      ]
     },
     "execution_count": 47,
     "metadata": {},
     "output_type": "execute_result"
    }
   ],
   "source": [
    "c1"
   ]
  },
  {
   "cell_type": "code",
   "execution_count": 43,
   "metadata": {},
   "outputs": [],
   "source": [
    "import torch\n",
    " \n",
    "cl_id = torch.tensor([0, 0, 0, 1, 1, 2, 2, 2])\n",
    "mask = torch.tensor([1, 2, 3, 4, 5, 6, 7, 8])\n",
    "dis = torch.tensor([[0, 0.5, 0.7], [0, 0, 0.3], [0, 0, 0]])\n",
    " \n",
    "# Group the mask values based on cl_id\n",
    "grouped_mask = [mask[cl_id == i] for i in torch.unique(cl_id)]\n",
    " \n",
    "# Create an upper triangular matrix for the results\n",
    "n = len(torch.unique(cl_id))\n",
    "results = torch.triu(torch.zeros((n, n), dtype=torch.float), diagonal=1)\n",
    " \n",
    "# Calculate the pairwise distances and squared differences\n",
    "for c1_pos in range(n):\n",
    "    for c2_pos in range(c1_pos + 1, n):\n",
    "        c1 = grouped_mask[c1_pos]\n",
    "        c2 = grouped_mask[c2_pos]\n",
    "        dist = dis[c1_pos, c2_pos]\n",
    "        c1 = c1.unsqueeze(1)\n",
    "        diff = c1 + c2 - dist\n",
    "        results[c1_pos, c2_pos] = torch.sum(diff**2)\n",
    " \n",
    "# Calculate the total sum of squared differences\n",
    "total_results = torch.sum(results)"
   ]
  },
  {
   "cell_type": "code",
   "execution_count": 45,
   "metadata": {},
   "outputs": [
    {
     "data": {
      "text/plain": [
       "tensor([[4],\n",
       "        [5]])"
      ]
     },
     "execution_count": 45,
     "metadata": {},
     "output_type": "execute_result"
    }
   ],
   "source": [
    "c1"
   ]
  },
  {
   "cell_type": "code",
   "execution_count": 33,
   "metadata": {},
   "outputs": [
    {
     "name": "stdout",
     "output_type": "stream",
     "text": [
      "[2000.49 2432.49 2288.49]\n"
     ]
    }
   ],
   "source": [
    "import numpy as np\n",
    "\n",
    "l = [[1, 2, 3], [4, 5], [6, 7, 8]]\n",
    "dis = np.array([[0, 0.5, 0.7],\n",
    "                [0, 0, 0.3],\n",
    "                [0, 0, 0]])\n",
    "\n",
    "l_lens = np.array([len(x) for x in l])\n",
    "max_len = l_lens.max()\n",
    "l_padded = np.array([x + [0]*(max_len-len(x)) for x in l])\n",
    "\n",
    "v1 = l_padded[:, :, np.newaxis]  # (3, 3, 1)\n",
    "v2 = l_padded[:, np.newaxis, :]  # (3, 1, 3)\n",
    "\n",
    "v1_squared = v1**2  # (3, 3, 3)\n",
    "v2_squared = v2**2  # (3, 3, 3)\n",
    "v1_v2 = 2 * v1 * v2  # (3, 3, 3)\n",
    "\n",
    "distances = dis[:, :, np.newaxis, np.newaxis]  # (3, 3, 1, 1)\n",
    "dist_squared = distances**2  # (3, 3, 1, 1)\n",
    "dist_term = 2 * (v1 + v2) * distances  # (3, 3, 3, 1)\n",
    "\n",
    "# Summing all the terms\n",
    "results_vectorized = np.sum(v1_squared + v2_squared + v1_v2 + dist_squared - dist_term, axis=(0, 1, 2))\n",
    "\n",
    "print(results_vectorized)\n"
   ]
  },
  {
   "cell_type": "code",
   "execution_count": 32,
   "metadata": {},
   "outputs": [
    {
     "data": {
      "text/plain": [
       "array([[1., 2., 3.],\n",
       "       [4., 5., 0.],\n",
       "       [6., 7., 8.]])"
      ]
     },
     "execution_count": 32,
     "metadata": {},
     "output_type": "execute_result"
    }
   ],
   "source": [
    "l_arr \n"
   ]
  },
  {
   "cell_type": "code",
   "execution_count": 19,
   "metadata": {},
   "outputs": [
    {
     "ename": "TypeError",
     "evalue": "list indices must be integers or slices, not tuple",
     "output_type": "error",
     "traceback": [
      "\u001b[1;31m---------------------------------------------------------------------------\u001b[0m",
      "\u001b[1;31mTypeError\u001b[0m                                 Traceback (most recent call last)",
      "\u001b[1;32md:\\study\\thesis\\project\\HBDM-main\\temp_test.ipynb Cell 3\u001b[0m line \u001b[0;36m1\n\u001b[1;32m----> <a href='vscode-notebook-cell:/d%3A/study/thesis/project/HBDM-main/temp_test.ipynb#W6sZmlsZQ%3D%3D?line=0'>1</a>\u001b[0m dis[\u001b[39m1\u001b[39;49m,\u001b[39m2\u001b[39;49m]\n",
      "\u001b[1;31mTypeError\u001b[0m: list indices must be integers or slices, not tuple"
     ]
    }
   ],
   "source": [
    "dis[1,2]"
   ]
  },
  {
   "cell_type": "code",
   "execution_count": 10,
   "metadata": {},
   "outputs": [
    {
     "name": "stdout",
     "output_type": "stream",
     "text": [
      "[[17 20 25]\n",
      " [26 29 34]]\n",
      "151\n"
     ]
    }
   ],
   "source": [
    "c1 = np.array([1, 2, 3])\n",
    "c2 = np.array([4, 5])\n",
    "\n",
    "v1_matrix, v2_matrix = np.meshgrid(c1, c2)\n",
    "temp = v1_matrix ** 2 + v2_matrix ** 2\n",
    "results = np.sum(temp)\n",
    "\n",
    "\n",
    "print(results)"
   ]
  },
  {
   "cell_type": "code",
   "execution_count": 11,
   "metadata": {},
   "outputs": [
    {
     "ename": "ValueError",
     "evalue": "operands could not be broadcast together with shapes (2,3) (3,2) ",
     "output_type": "error",
     "traceback": [
      "\u001b[1;31m---------------------------------------------------------------------------\u001b[0m",
      "\u001b[1;31mValueError\u001b[0m                                Traceback (most recent call last)",
      "\u001b[1;32md:\\study\\thesis\\project\\HBDM-main\\temp_test.ipynb Cell 5\u001b[0m line \u001b[0;36m1\n\u001b[0;32m     <a href='vscode-notebook-cell:/d%3A/study/thesis/project/HBDM-main/temp_test.ipynb#W3sZmlsZQ%3D%3D?line=10'>11</a>\u001b[0m squared_meshgrids \u001b[39m=\u001b[39m [arr1 \u001b[39m*\u001b[39m\u001b[39m*\u001b[39m \u001b[39m2\u001b[39m \u001b[39m+\u001b[39m arr2 \u001b[39m*\u001b[39m\u001b[39m*\u001b[39m \u001b[39m2\u001b[39m \u001b[39mfor\u001b[39;00m arr1, arr2 \u001b[39min\u001b[39;00m meshgrids]\n\u001b[0;32m     <a href='vscode-notebook-cell:/d%3A/study/thesis/project/HBDM-main/temp_test.ipynb#W3sZmlsZQ%3D%3D?line=12'>13</a>\u001b[0m \u001b[39m# Sum all the squared mesh grids\u001b[39;00m\n\u001b[1;32m---> <a href='vscode-notebook-cell:/d%3A/study/thesis/project/HBDM-main/temp_test.ipynb#W3sZmlsZQ%3D%3D?line=13'>14</a>\u001b[0m results \u001b[39m=\u001b[39m \u001b[39msum\u001b[39;49m(squared_meshgrids)\n\u001b[0;32m     <a href='vscode-notebook-cell:/d%3A/study/thesis/project/HBDM-main/temp_test.ipynb#W3sZmlsZQ%3D%3D?line=15'>16</a>\u001b[0m \u001b[39mprint\u001b[39m(results)\n",
      "\u001b[1;31mValueError\u001b[0m: operands could not be broadcast together with shapes (2,3) (3,2) "
     ]
    }
   ],
   "source": [
    "# Define a list of lists\n",
    "lists = [[1, 2, 3], [4, 5], [6, 7, 8]]\n",
    "\n",
    "# Convert the list of lists to a list of NumPy arrays\n",
    "arrays = [np.array(lst) for lst in lists]\n",
    "\n",
    "# Create mesh grids for each array and store them in a list\n",
    "meshgrids = [np.meshgrid(arr1, arr2) for arr1, arr2 in zip(arrays, arrays[1:])]\n",
    "\n",
    "# Calculate the squares of each element in the mesh grids\n",
    "squared_meshgrids = [arr1 ** 2 + arr2 ** 2 for arr1, arr2 in meshgrids]\n",
    "\n",
    "# Sum all the squared mesh grids\n",
    "results = sum(squared_meshgrids)\n",
    "\n",
    "print(results)"
   ]
  }
 ],
 "metadata": {
  "kernelspec": {
   "display_name": "rescal",
   "language": "python",
   "name": "python3"
  },
  "language_info": {
   "codemirror_mode": {
    "name": "ipython",
    "version": 3
   },
   "file_extension": ".py",
   "mimetype": "text/x-python",
   "name": "python",
   "nbconvert_exporter": "python",
   "pygments_lexer": "ipython3",
   "version": "3.8.18"
  }
 },
 "nbformat": 4,
 "nbformat_minor": 2
}
