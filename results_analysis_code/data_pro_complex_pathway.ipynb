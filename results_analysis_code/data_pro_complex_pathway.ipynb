{
 "cells": [
  {
   "cell_type": "code",
   "execution_count": null,
   "metadata": {},
   "outputs": [],
   "source": [
    "import pickle\n",
    "import gseapy as gp"
   ]
  },
  {
   "cell_type": "code",
   "execution_count": null,
   "metadata": {},
   "outputs": [],
   "source": [
    "ppi_aliases2stringId_path = r'D:\\study\\thesis\\project\\HBDM-main\\data\\datasets\\ppi\\ppi_aliases2stringId.pkl'\n",
    "ppi_name2stringId_path = r'D:\\study\\thesis\\project\\HBDM-main\\data\\datasets\\ppi\\ppi_name2stringId.pkl'\n",
    "ppi_index_path = r'D:\\study\\thesis\\project\\HBDM-main\\data\\datasets\\ppi\\ppi_index.pkl'\n",
    "complex_path = r'D:\\study\\thesis\\project\\HBDM-main\\data\\complexes\\CORUM-Human-Complexes_r.txt'\n",
    "complex_save = r'D:\\study\\thesis\\project\\HBDM-main\\data\\complexes\\human_complexes_node.pkl'\n",
    "pathway_save = r'D:\\study\\thesis\\project\\HBDM-main\\data\\pathway\\pathway_node.pkl'"
   ]
  },
  {
   "cell_type": "code",
   "execution_count": null,
   "metadata": {},
   "outputs": [],
   "source": [
    "with open(ppi_aliases2stringId_path, 'rb') as file:\n",
    "    aliases2stringId = pickle.load(file)\n",
    "with open(ppi_name2stringId_path, 'rb') as file:\n",
    "    name2stringId = pickle.load(file)\n",
    "def convert_stringId(alias):\n",
    "    try:\n",
    "        stringId = name2stringId[alias]\n",
    "    except:\n",
    "        #print(alias, 'can\\'t be converted by name2stringId! Now trying aliases2stringId.')\n",
    "        try:\n",
    "            stringId = aliases2stringId[alias]\n",
    "        except:\n",
    "            #print(alias, 'can\\'t be converted by aliases2stringId! Now return None.')\n",
    "            stringId = None\n",
    "    #print(alias, stringId)\n",
    "    return stringId\n",
    "protein_names = list(aliases2stringId.keys())\n",
    "protein_names.extend(list(name2stringId.keys()))"
   ]
  },
  {
   "cell_type": "markdown",
   "metadata": {},
   "source": [
    "## complexs"
   ]
  },
  {
   "cell_type": "code",
   "execution_count": null,
   "metadata": {},
   "outputs": [],
   "source": [
    "# Initialize an empty dictionary to store the data\n",
    "data_dict = {}\n",
    "\n",
    "# Read the text file and populate the dictionary\n",
    "with open(complex_path, 'r') as file:\n",
    "    for line_index, line_content in enumerate(file, start=1):\n",
    "        # Enumerate starts index from 1\n",
    "        values = line_content.strip().split('\\t')  # Assuming values are separated by whitespace\n",
    "        uniques = list(set(values)&set(protein_names))\n",
    "        if len(uniques) > 1:\n",
    "            data_dict[line_index] = uniques\n",
    "\n",
    "complexs = dict()\n",
    "\n",
    "for key, value in data_dict.items():\n",
    "    length = len(value)\n",
    "    if length <= 7:\n",
    "        complexs[key] = value\n",
    "len(complexs)"
   ]
  },
  {
   "cell_type": "code",
   "execution_count": null,
   "metadata": {},
   "outputs": [],
   "source": [
    "\n",
    "with open(ppi_index_path, 'rb') as file:\n",
    "    ppi_index = pickle.load(file)\n",
    "node2string = {value: key for key, value in ppi_index.items()}\n",
    "\n",
    "humans = set(ppi_index.keys())\n",
    "\n",
    "complexs_id = dict()\n",
    "\n",
    "for complex_name in complexs:\n",
    "    # folder_path = 'D:/study/thesis/project/HBDM-main/ppi_results/test_results/'+complex_name\n",
    "    # os.mkdir(folder_path)\n",
    "    group_node = []\n",
    "    for gene in complexs[complex_name]:\n",
    "        if gene in protein_names:\n",
    "            stringid = convert_stringId(gene)\n",
    "            if stringid in humans:\n",
    "                node = ppi_index[stringid]\n",
    "                group_node.append(node)\n",
    "    if len(set(group_node)) != 1:\n",
    "        complexs_id[complex_name] = group_node\n",
    "\n",
    "\n",
    "# Serialize and save the Tensor to the file\n",
    "with open(complex_save, 'wb') as file:\n",
    "    pickle.dump(complexs_id, file)\n",
    "# Close the file\n",
    "file.close()"
   ]
  },
  {
   "cell_type": "markdown",
   "metadata": {},
   "source": [
    "## pathways"
   ]
  },
  {
   "cell_type": "code",
   "execution_count": null,
   "metadata": {},
   "outputs": [],
   "source": [
    "keggs = gp.get_library(name='KEGG_2019_Human', organism='Human')\n",
    "smallkegg = dict()\n",
    "kegglength = []\n",
    "for key, value in keggs.items():\n",
    "    length = len(value)\n",
    "    kegglength.append(length)\n",
    "    if length <= 150:\n",
    "        smallkegg[key] = value\n",
    "\n",
    "\n",
    "pathway_id = dict()\n",
    "\n",
    "for pathway in smallkegg:\n",
    "    group_node = []\n",
    "    for gene in smallkegg[pathway]:\n",
    "        if gene in protein_names:\n",
    "            stringid = convert_stringId(gene)\n",
    "            if stringid in humans:\n",
    "                node = ppi_index[stringid]\n",
    "                group_node.append(node)\n",
    "    if len(set(group_node)) != 1:\n",
    "        pathway_id[pathway] = group_node\n",
    "\n",
    "# Serialize and save the Tensor to the file\n",
    "with open(pathway_save, 'wb') as file:\n",
    "    pickle.dump(pathway_id, file)\n",
    "# Close the file\n",
    "file.close()"
   ]
  }
 ],
 "metadata": {
  "language_info": {
   "name": "python"
  }
 },
 "nbformat": 4,
 "nbformat_minor": 2
}
