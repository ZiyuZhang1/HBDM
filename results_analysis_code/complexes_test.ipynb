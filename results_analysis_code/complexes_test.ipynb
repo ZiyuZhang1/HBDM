{
 "cells": [
  {
   "cell_type": "code",
   "execution_count": 1,
   "metadata": {},
   "outputs": [],
   "source": [
    "import pandas as pd\n",
    "import pickle\n",
    "import numpy as np\n",
    "import matplotlib.pyplot as plt\n",
    "import random\n",
    "from sklearn.neighbors import KDTree\n",
    "from sklearn.model_selection import KFold"
   ]
  },
  {
   "cell_type": "markdown",
   "metadata": {},
   "source": [
    "# get complexs"
   ]
  },
  {
   "cell_type": "code",
   "execution_count": 2,
   "metadata": {},
   "outputs": [],
   "source": [
    "# human_all = pd.read_csv(r'D:\\study\\thesis\\project\\HBDM-main\\data\\complexes\\9606.tsv',sep='\\t')\n",
    "# print(human_all['Recommended name'].tolist())\n",
    "\n",
    "# complexs = dict()\n",
    "# for i in range(len(human_all)):\n",
    "#     complex_name = human_all.iloc[i]['#Complex ac']\n",
    "#     names = human_all.iloc[i]['Recommended name']\n",
    "#     if ',' in names:\n",
    "#         name_list = names.split(',')\n",
    "#         for name in name_list:\n",
    "#             if '-' in name:\n",
    "#                 par_list = name.split('-')\n",
    "#                 if len(set(par_list)) > 1:\n",
    "#                     if all(element in protein_names and len(element)>1 for element in par_list):\n",
    "#                         # print(par_list)\n",
    "#                         complexs[complex_name] = par_list\n",
    "                            \n",
    "#     elif '-' in names:\n",
    "#         name = names.split(' ')[0]\n",
    "#         par_list = name.split('-')\n",
    "#         if len(set(par_list)) > 1:\n",
    "#             if all(element in protein_names and len(element)>1 for element in par_list):\n",
    "#                 # print(par_list)\n",
    "#                 complexs[complex_name] = par_list"
   ]
  },
  {
   "cell_type": "code",
   "execution_count": 2,
   "metadata": {},
   "outputs": [],
   "source": [
    "with open(r'D:\\study\\thesis\\project\\HBDM-main\\data\\datasets\\ppi\\ppi_aliases2stringId.pkl', 'rb') as file:\n",
    "    aliases2stringId = pickle.load(file)\n",
    "with open(r'D:\\study\\thesis\\project\\HBDM-main\\data\\datasets\\ppi\\ppi_name2stringId.pkl', 'rb') as file:\n",
    "    name2stringId = pickle.load(file)\n",
    "def convert_stringId(alias):\n",
    "    try:\n",
    "        stringId = name2stringId[alias]\n",
    "    except:\n",
    "        #print(alias, 'can\\'t be converted by name2stringId! Now trying aliases2stringId.')\n",
    "        try:\n",
    "            stringId = aliases2stringId[alias]\n",
    "        except:\n",
    "            #print(alias, 'can\\'t be converted by aliases2stringId! Now return None.')\n",
    "            stringId = None\n",
    "    #print(alias, stringId)\n",
    "    return stringId"
   ]
  },
  {
   "cell_type": "code",
   "execution_count": 3,
   "metadata": {},
   "outputs": [],
   "source": [
    "protein_names = list(aliases2stringId.keys())\n",
    "protein_names.extend(list(name2stringId.keys()))"
   ]
  },
  {
   "cell_type": "code",
   "execution_count": 115,
   "metadata": {},
   "outputs": [],
   "source": [
    "file_path = r'D:\\study\\thesis\\project\\HBDM-main\\data\\complexes\\CORUM-Human-Complexes_r.txt'\n",
    "\n",
    "# Initialize an empty dictionary to store the data\n",
    "data_dict = {}\n",
    "\n",
    "# Read the text file and populate the dictionary\n",
    "with open(file_path, 'r') as file:\n",
    "    for line_index, line_content in enumerate(file, start=1):\n",
    "        # Enumerate starts index from 1\n",
    "        values = line_content.strip().split('\\t')  # Assuming values are separated by whitespace\n",
    "        uniques = list(set(values)&set(protein_names))\n",
    "        if len(uniques) > 1:\n",
    "            data_dict[line_index] = uniques\n",
    "file_path = r'D:\\study\\thesis\\project\\HBDM-main\\data\\complexes\\human_complexes.pkl'\n",
    "\n",
    "# Serialize and save the Tensor to the file\n",
    "with open(file_path, 'wb') as file:\n",
    "    pickle.dump(data_dict, file)\n",
    "# Close the file\n",
    "file.close()"
   ]
  },
  {
   "cell_type": "code",
   "execution_count": 4,
   "metadata": {},
   "outputs": [],
   "source": [
    "with open(r'D:\\study\\thesis\\project\\HBDM-main\\data\\complexes\\human_complexes.pkl', 'rb') as file:\n",
    "    data_dict = pickle.load(file)"
   ]
  },
  {
   "cell_type": "code",
   "execution_count": 5,
   "metadata": {},
   "outputs": [
    {
     "data": {
      "text/plain": [
       "2640"
      ]
     },
     "execution_count": 5,
     "metadata": {},
     "output_type": "execute_result"
    }
   ],
   "source": [
    "len(data_dict)"
   ]
  },
  {
   "cell_type": "code",
   "execution_count": 6,
   "metadata": {},
   "outputs": [
    {
     "data": {
      "text/plain": [
       "2350"
      ]
     },
     "execution_count": 6,
     "metadata": {},
     "output_type": "execute_result"
    }
   ],
   "source": [
    "complexs = dict()\n",
    "\n",
    "for key, value in data_dict.items():\n",
    "    length = len(value)\n",
    "    if length <= 7:\n",
    "        complexs[key] = value\n",
    "len(complexs)"
   ]
  },
  {
   "cell_type": "code",
   "execution_count": 7,
   "metadata": {},
   "outputs": [],
   "source": [
    "\n",
    "with open(r'D:\\study\\thesis\\project\\HBDM-main\\data\\datasets\\ppi\\ppi_index.pkl', 'rb') as file:\n",
    "    ppi_index = pickle.load(file)\n",
    "node2string = {value: key for key, value in ppi_index.items()}\n",
    "\n",
    "humans = set(ppi_index.keys())\n",
    "\n",
    "complexs_id = dict()\n",
    "\n",
    "for complex_name in complexs:\n",
    "    # folder_path = 'D:/study/thesis/project/HBDM-main/ppi_results/test_results/'+complex_name\n",
    "    # os.mkdir(folder_path)\n",
    "    group_node = []\n",
    "    for gene in complexs[complex_name]:\n",
    "        if gene in protein_names:\n",
    "            stringid = convert_stringId(gene)\n",
    "            if stringid in humans:\n",
    "                node = ppi_index[stringid]\n",
    "                group_node.append(node)\n",
    "    if len(set(group_node)) != 1:\n",
    "        complexs_id[complex_name] = group_node"
   ]
  },
  {
   "cell_type": "code",
   "execution_count": 8,
   "metadata": {},
   "outputs": [
    {
     "data": {
      "text/plain": [
       "2350"
      ]
     },
     "execution_count": 8,
     "metadata": {},
     "output_type": "execute_result"
    }
   ],
   "source": [
    "len(complexs_id)"
   ]
  },
  {
   "cell_type": "code",
   "execution_count": 10,
   "metadata": {},
   "outputs": [],
   "source": [
    "file_path = r'D:\\study\\thesis\\project\\HBDM-main\\data\\complexes\\human_complexes_node.pkl'\n",
    "# Serialize and save the Tensor to the file\n",
    "with open(file_path, 'wb') as file:\n",
    "    pickle.dump(complexs_id, file)\n",
    "# Close the file\n",
    "file.close()"
   ]
  },
  {
   "cell_type": "markdown",
   "metadata": {},
   "source": [
    "# get node embeddings"
   ]
  },
  {
   "cell_type": "code",
   "execution_count": 116,
   "metadata": {},
   "outputs": [
    {
     "data": {
      "text/html": [
       "<div>\n",
       "<style scoped>\n",
       "    .dataframe tbody tr th:only-of-type {\n",
       "        vertical-align: middle;\n",
       "    }\n",
       "\n",
       "    .dataframe tbody tr th {\n",
       "        vertical-align: top;\n",
       "    }\n",
       "\n",
       "    .dataframe thead th {\n",
       "        text-align: right;\n",
       "    }\n",
       "</style>\n",
       "<table border=\"1\" class=\"dataframe\">\n",
       "  <thead>\n",
       "    <tr style=\"text-align: right;\">\n",
       "      <th></th>\n",
       "      <th>1d</th>\n",
       "      <th>2d</th>\n",
       "      <th>3d</th>\n",
       "      <th>4d</th>\n",
       "      <th>node</th>\n",
       "    </tr>\n",
       "  </thead>\n",
       "  <tbody>\n",
       "    <tr>\n",
       "      <th>0</th>\n",
       "      <td>-0.177723</td>\n",
       "      <td>-1.293393</td>\n",
       "      <td>1.692892</td>\n",
       "      <td>0.405551</td>\n",
       "      <td>0</td>\n",
       "    </tr>\n",
       "    <tr>\n",
       "      <th>1</th>\n",
       "      <td>1.648016</td>\n",
       "      <td>-0.456875</td>\n",
       "      <td>0.402218</td>\n",
       "      <td>0.950888</td>\n",
       "      <td>1</td>\n",
       "    </tr>\n",
       "    <tr>\n",
       "      <th>2</th>\n",
       "      <td>-1.038695</td>\n",
       "      <td>-0.966656</td>\n",
       "      <td>-0.533378</td>\n",
       "      <td>-0.327979</td>\n",
       "      <td>2</td>\n",
       "    </tr>\n",
       "  </tbody>\n",
       "</table>\n",
       "</div>"
      ],
      "text/plain": [
       "         1d        2d        3d        4d  node\n",
       "0 -0.177723 -1.293393  1.692892  0.405551     0\n",
       "1  1.648016 -0.456875  0.402218  0.950888     1\n",
       "2 -1.038695 -0.966656 -0.533378 -0.327979     2"
      ]
     },
     "execution_count": 116,
     "metadata": {},
     "output_type": "execute_result"
    }
   ],
   "source": [
    "# name = 'Dataset-ppi--RE-True--W-2--Epochs-15000--D-4--RH-25--LR-0.1--LP-False--CUDA-True'\n",
    "name = 'NB_Dataset-ppi--RE-True--W-2--Epochs-15000--D-4--RH-25--LR-0.1--LP-False--CUDA-True'\n",
    "root = 'D:/study/thesis/project/HBDM-main/ppi_results/models/'+name\n",
    "dataset = 'n_ppi_g'\n",
    "\n",
    "### get node and 1d,2d\n",
    "file_path_d = root+'/latent.pkl'\n",
    "with open(file_path_d, 'rb') as file:\n",
    "    node_rep = pickle.load(file)\n",
    "\n",
    "# tensor = loaded_tensor.cpu()\n",
    "# node_rep = tensor.detach().numpy()\n",
    "\n",
    "node_rep = np.array(node_rep)\n",
    "df_latent = pd.DataFrame()\n",
    "for d in range(node_rep.shape[1]):\n",
    "    col_name = str(d+1)+'d'\n",
    "    df_latent[col_name] = node_rep.T[d]\n",
    "df_latent['node'] = df_latent.index\n",
    "\n",
    "df = df_latent\n",
    "df.head(3)"
   ]
  },
  {
   "cell_type": "code",
   "execution_count": 104,
   "metadata": {},
   "outputs": [],
   "source": [
    "disease_df = pd.read_csv(r'D:\\study\\thesis\\project\\HBDM-main\\data\\disease\\Coronary_artery_disease.tsv',sep='\\t')\n",
    "names = protein_names\n",
    "humans = set(ppi_index.keys())\n",
    "\n",
    "group_node = []\n",
    "for gene in disease_df['Gene']:\n",
    "    if gene in names:\n",
    "        stringid = convert_stringId(gene)\n",
    "        if stringid in humans:\n",
    "            node = ppi_index[stringid]\n",
    "            group_node.append(node)"
   ]
  },
  {
   "cell_type": "code",
   "execution_count": 94,
   "metadata": {},
   "outputs": [
    {
     "data": {
      "text/plain": [
       "1535"
      ]
     },
     "execution_count": 94,
     "metadata": {},
     "output_type": "execute_result"
    }
   ],
   "source": [
    "len(group_node)"
   ]
  },
  {
   "cell_type": "code",
   "execution_count": 117,
   "metadata": {},
   "outputs": [
    {
     "ename": "ValueError",
     "evalue": "Cannot have number of splits n_splits=5 greater than the number of samples: n_samples=2.",
     "output_type": "error",
     "traceback": [
      "\u001b[1;31m---------------------------------------------------------------------------\u001b[0m",
      "\u001b[1;31mValueError\u001b[0m                                Traceback (most recent call last)",
      "Cell \u001b[1;32mIn[117], line 16\u001b[0m\n\u001b[0;32m     14\u001b[0m \u001b[38;5;66;03m# Build a k-d tree from the points\u001b[39;00m\n\u001b[0;32m     15\u001b[0m kdtree \u001b[38;5;241m=\u001b[39m KDTree(df[[col \u001b[38;5;28;01mfor\u001b[39;00m col \u001b[38;5;129;01min\u001b[39;00m df\u001b[38;5;241m.\u001b[39mcolumns \u001b[38;5;28;01mif\u001b[39;00m col\u001b[38;5;241m.\u001b[39mendswith(\u001b[38;5;124m'\u001b[39m\u001b[38;5;124md\u001b[39m\u001b[38;5;124m'\u001b[39m)]]\u001b[38;5;241m.\u001b[39mto_numpy(), leaf_size\u001b[38;5;241m=\u001b[39m\u001b[38;5;241m20\u001b[39m)\n\u001b[1;32m---> 16\u001b[0m \u001b[38;5;28;01mfor\u001b[39;00m train_index, test_index \u001b[38;5;129;01min\u001b[39;00m kf\u001b[38;5;241m.\u001b[39msplit(group_node):\n\u001b[0;32m     17\u001b[0m     train_nodes \u001b[38;5;241m=\u001b[39m [group_node[i] \u001b[38;5;28;01mfor\u001b[39;00m i \u001b[38;5;129;01min\u001b[39;00m train_index]\n\u001b[0;32m     18\u001b[0m     test_nodes \u001b[38;5;241m=\u001b[39m [group_node[i] \u001b[38;5;28;01mfor\u001b[39;00m i \u001b[38;5;129;01min\u001b[39;00m test_index]\n",
      "File \u001b[1;32mc:\\Users\\ZZY\\.conda\\envs\\rescal\\lib\\site-packages\\sklearn\\model_selection\\_split.py:370\u001b[0m, in \u001b[0;36m_BaseKFold.split\u001b[1;34m(self, X, y, groups)\u001b[0m\n\u001b[0;32m    368\u001b[0m n_samples \u001b[38;5;241m=\u001b[39m _num_samples(X)\n\u001b[0;32m    369\u001b[0m \u001b[38;5;28;01mif\u001b[39;00m \u001b[38;5;28mself\u001b[39m\u001b[38;5;241m.\u001b[39mn_splits \u001b[38;5;241m>\u001b[39m n_samples:\n\u001b[1;32m--> 370\u001b[0m     \u001b[38;5;28;01mraise\u001b[39;00m \u001b[38;5;167;01mValueError\u001b[39;00m(\n\u001b[0;32m    371\u001b[0m         (\n\u001b[0;32m    372\u001b[0m             \u001b[38;5;124m\"\u001b[39m\u001b[38;5;124mCannot have number of splits n_splits=\u001b[39m\u001b[38;5;132;01m{0}\u001b[39;00m\u001b[38;5;124m greater\u001b[39m\u001b[38;5;124m\"\u001b[39m\n\u001b[0;32m    373\u001b[0m             \u001b[38;5;124m\"\u001b[39m\u001b[38;5;124m than the number of samples: n_samples=\u001b[39m\u001b[38;5;132;01m{1}\u001b[39;00m\u001b[38;5;124m.\u001b[39m\u001b[38;5;124m\"\u001b[39m\n\u001b[0;32m    374\u001b[0m         )\u001b[38;5;241m.\u001b[39mformat(\u001b[38;5;28mself\u001b[39m\u001b[38;5;241m.\u001b[39mn_splits, n_samples)\n\u001b[0;32m    375\u001b[0m     )\n\u001b[0;32m    377\u001b[0m \u001b[38;5;28;01mfor\u001b[39;00m train, test \u001b[38;5;129;01min\u001b[39;00m \u001b[38;5;28msuper\u001b[39m()\u001b[38;5;241m.\u001b[39msplit(X, y, groups):\n\u001b[0;32m    378\u001b[0m     \u001b[38;5;28;01myield\u001b[39;00m train, test\n",
      "\u001b[1;31mValueError\u001b[0m: Cannot have number of splits n_splits=5 greater than the number of samples: n_samples=2."
     ]
    }
   ],
   "source": [
    "# Define your range of k values and leaf_size values\n",
    "k_values = [3,5, 10,20,50,100]\n",
    "\n",
    "# Split your data into 5 folds\n",
    "kf = KFold(n_splits=5, shuffle=True, random_state=42)\n",
    "\n",
    "for k in k_values:\n",
    "    k+=1\n",
    "    precision_scores = []\n",
    "    coverage_scores = []\n",
    "    random_precision_scores = []\n",
    "    random_coverage_scores = []\n",
    "\n",
    "    # Build a k-d tree from the points\n",
    "    kdtree = KDTree(df[[col for col in df.columns if col.endswith('d')]].to_numpy(), leaf_size=20)\n",
    "    for train_index, test_index in kf.split(group_node):\n",
    "        train_nodes = [group_node[i] for i in train_index]\n",
    "        test_nodes = [group_node[i] for i in test_index]\n",
    "\n",
    "        start = []\n",
    "        dist = []\n",
    "        neighbor = []\n",
    "        random_nodes = []\n",
    "        for i in train_nodes:\n",
    "            given_point = df[df['node']==i][[col for col in df.columns if col.endswith('d')]].to_numpy()\n",
    "            # Perform a k-NN search to find the k+1 nearest neighbors\n",
    "            distances, indices = kdtree.query(given_point, k=k)\n",
    "            start += (k-1)*[i]\n",
    "            dist += distances.reshape(-1).tolist()[1:]\n",
    "            neighbor += indices.reshape(-1).tolist()[1:]\n",
    "\n",
    "            random_nodes += random.sample(list(set(df['node'].tolist())-set(train_nodes)), (k-1))\n",
    "\n",
    "        neighbor_df = pd.DataFrame({'start': start, 'neighbor': neighbor, 'distance': dist})\n",
    "        cover_df = neighbor_df[neighbor_df['neighbor'].isin(test_nodes)]\n",
    "        # if len(cover_df) == 0:\n",
    "        #     print(test_nodes)\n",
    "        # Append precision and coverage scores to lists\n",
    "        precision_scores.append(len(cover_df) / len(neighbor_df))\n",
    "        coverage_scores.append(len(cover_df['neighbor'].unique()) / len(test_nodes))\n",
    "        \n",
    "        ############################ random\n",
    "        random_cover = []\n",
    "        for j in random_nodes:\n",
    "            if j in test_nodes:\n",
    "                random_cover.append(j)\n",
    "\n",
    "    # Calculate the average precision and coverage scores for the current k and leaf_size\n",
    "    avg_precision = sum(precision_scores) / len(precision_scores)\n",
    "    avg_coverage = sum(coverage_scores) / len(coverage_scores)\n",
    "    print(f\"k={k-1}, leaf_size={20}\",'\\t',\"Average Precision:\", avg_precision,'\\t',\"Average Coverage:\", avg_coverage)\n",
    "\n"
   ]
  },
  {
   "cell_type": "code",
   "execution_count": null,
   "metadata": {},
   "outputs": [],
   "source": [
    "k=3, leaf_size=20 \t Average Precision: 0.042996742671009766 \t Average Coverage: 0.3400651465798045\n",
    "k=5, leaf_size=20 \t Average Precision: 0.04175895765472313 \t Average Coverage: 0.4410423452768729\n",
    "k=10, leaf_size=20 \t Average Precision: 0.04001628664495114 \t Average Coverage: 0.606514657980456\n",
    "k=20, leaf_size=20 \t Average Precision: 0.03874592833876221 \t Average Coverage: 0.7615635179153094\n",
    "k=50, leaf_size=20 \t Average Precision: 0.03743648208469055 \t Average Coverage: 0.9159609120521172\n",
    "k=100, leaf_size=20 \t Average Precision: 0.036030944625407166 \t Average Coverage: 0.9726384364820847"
   ]
  },
  {
   "cell_type": "code",
   "execution_count": 118,
   "metadata": {},
   "outputs": [],
   "source": [
    "# Define your range of k values and leaf_size values\n",
    "k_values = [3,5,10,20,50,100]\n",
    "\n",
    "precision_complexs= []\n",
    "coverages_complexs=[]\n",
    "\n",
    "for complex_name in complexs_id:\n",
    "    # output_file = 'D:/study/thesis/project/HBDM-main/ppi_results/test_results/'+complex_name+'/'+name+\".txt\"\n",
    "    group_node = complexs_id[complex_name]\n",
    "\n",
    "    precision_ks = []\n",
    "    coverage_ks = []\n",
    "\n",
    "    ## get final df: node, cluster, 1d, 2d, label\n",
    "    df['label'] = df['node'].apply(lambda x: 1 if x in group_node else 0)\n",
    "    # Set the index to match the values in column 'node'\n",
    "    df = df.set_index('node')\n",
    "    # Reset the index to its default integer index\n",
    "    df = df.reset_index()    \n",
    "    # with open(output_file, \"w\") as f:\n",
    "    for k in k_values:\n",
    "        k+=1\n",
    "\n",
    "        kdtree = KDTree(df[[col for col in df.columns if col.endswith('d')]].to_numpy(), leaf_size=20)\n",
    "\n",
    "        precision = []\n",
    "        coverage = []\n",
    "        for i in group_node:\n",
    "            true_pre = []\n",
    "            test_nodes = list(set(group_node)-set([i]))\n",
    "            given_point = df[df['node']==i][[col for col in df.columns if col.endswith('d')]].to_numpy()\n",
    "            # Perform a k-NN search to find the k+1 nearest neighbors\n",
    "            distances, indices = kdtree.query(given_point, k=k)\n",
    "            # start += (k-1)*[i]\n",
    "            # dist += distances.reshape(-1).tolist()[1:]\n",
    "            neighbor = indices.reshape(-1).tolist()[1:]\n",
    "\n",
    "            for j in neighbor:\n",
    "                if j in test_nodes:\n",
    "                    true_pre.append(j)\n",
    "            precision.append(len(true_pre)/len(neighbor))\n",
    "            coverage.append(len(set(true_pre))/len(test_nodes))\n",
    "        precision_ks.append(sum(precision)/len(precision))\n",
    "        coverage_ks.append(sum(coverage)/len(coverage))\n",
    "    precision_complexs.append(precision_ks)\n",
    "    coverages_complexs.append(coverage_ks)\n",
    "            # print(f'k- {k-1} precision: {sum(precision)/len(precision)} coverage: {sum(coverage)/len(coverage)}', file=f)\n",
    "    # f.write()"
   ]
  },
  {
   "cell_type": "code",
   "execution_count": 119,
   "metadata": {},
   "outputs": [],
   "source": [
    "knn_complexs = pd.DataFrame(precision_complexs, columns=['p_3','p_5','p_10', 'p_20', 'p_50', 'p_100'])\n",
    "for i, col in enumerate(['c_3','c_5','c_10', 'c_20', 'c_50', 'c_100']):\n",
    "    knn_complexs[col] = np.array(coverages_complexs).T[i]\n",
    "path = 'D:/study/thesis/project/HBDM-main/ppi_results/test_results/complexes/small/'+dataset+'.csv'\n",
    "knn_complexs.to_csv(path,index=False)"
   ]
  },
  {
   "cell_type": "code",
   "execution_count": 120,
   "metadata": {},
   "outputs": [
    {
     "data": {
      "text/plain": [
       "p_3      0.050899\n",
       "p_5      0.037958\n",
       "p_10     0.026493\n",
       "p_20     0.014162\n",
       "p_50     0.008507\n",
       "p_100    0.005385\n",
       "c_3      0.132466\n",
       "c_5      0.166667\n",
       "c_10     0.218690\n",
       "c_20     0.235067\n",
       "c_50     0.357900\n",
       "c_100    0.446050\n",
       "dtype: float64"
      ]
     },
     "execution_count": 120,
     "metadata": {},
     "output_type": "execute_result"
    }
   ],
   "source": [
    "knn_complexs.mean()"
   ]
  },
  {
   "cell_type": "code",
   "execution_count": 65,
   "metadata": {},
   "outputs": [
    {
     "data": {
      "text/plain": [
       "p_3      0.057803\n",
       "p_5      0.038247\n",
       "p_10     0.020039\n",
       "p_20     0.011705\n",
       "p_50     0.005241\n",
       "p_100    0.002943\n",
       "c_3      0.138728\n",
       "c_5      0.154624\n",
       "c_10     0.161850\n",
       "c_20     0.194605\n",
       "c_50     0.219653\n",
       "c_100    0.239403\n",
       "dtype: float64"
      ]
     },
     "execution_count": 65,
     "metadata": {},
     "output_type": "execute_result"
    }
   ],
   "source": [
    "knn_complexs.mean()"
   ]
  },
  {
   "cell_type": "markdown",
   "metadata": {},
   "source": [
    "# shortest path"
   ]
  },
  {
   "cell_type": "code",
   "execution_count": 19,
   "metadata": {},
   "outputs": [],
   "source": [
    "import networkx as nx"
   ]
  },
  {
   "cell_type": "code",
   "execution_count": 76,
   "metadata": {},
   "outputs": [],
   "source": [
    "local_stringdb = 'D:/study/thesis/project/HBDM-main/data/nn_data/stringdb/'\n",
    "string_score_transform = lambda x: -np.log(x/1000)\n",
    "                \n",
    "network = pd.read_csv(local_stringdb+'9606.protein.physical.links.detailed.v12.0.txt', sep=' ', header=0).convert_dtypes().replace(0, float('nan'))\n",
    "\n",
    "bins = [149, 199, 299, 399, 499, 599, 699, 799, 899, 999]\n",
    "labels = [9, 8, 7, 6, 5, 4, 3, 2, 1]\n",
    "# labels = [1,2,3,4,5,6,7,8,9]\n",
    "\n",
    "# Use pd.cut to categorize the data into levels\n",
    "network['weight_10'] = pd.cut(network['combined_score'], bins=bins, labels=labels, include_lowest=True)\n",
    "\n",
    "\n",
    "# network['combined_score'] = network['combined_score'].apply(string_score_transform)\n"
   ]
  },
  {
   "cell_type": "code",
   "execution_count": 79,
   "metadata": {},
   "outputs": [],
   "source": [
    "network['node1'] = network['protein1'].map(ppi_index)\n",
    "network['node2'] = network['protein2'].map(ppi_index)"
   ]
  },
  {
   "cell_type": "code",
   "execution_count": 80,
   "metadata": {},
   "outputs": [
    {
     "data": {
      "text/html": [
       "<div>\n",
       "<style scoped>\n",
       "    .dataframe tbody tr th:only-of-type {\n",
       "        vertical-align: middle;\n",
       "    }\n",
       "\n",
       "    .dataframe tbody tr th {\n",
       "        vertical-align: top;\n",
       "    }\n",
       "\n",
       "    .dataframe thead th {\n",
       "        text-align: right;\n",
       "    }\n",
       "</style>\n",
       "<table border=\"1\" class=\"dataframe\">\n",
       "  <thead>\n",
       "    <tr style=\"text-align: right;\">\n",
       "      <th></th>\n",
       "      <th>protein1</th>\n",
       "      <th>protein2</th>\n",
       "      <th>experimental</th>\n",
       "      <th>database</th>\n",
       "      <th>textmining</th>\n",
       "      <th>combined_score</th>\n",
       "      <th>weight_10</th>\n",
       "      <th>node1</th>\n",
       "      <th>node2</th>\n",
       "    </tr>\n",
       "  </thead>\n",
       "  <tbody>\n",
       "    <tr>\n",
       "      <th>0</th>\n",
       "      <td>9606.ENSP00000000233</td>\n",
       "      <td>9606.ENSP00000257770</td>\n",
       "      <td>312</td>\n",
       "      <td>&lt;NA&gt;</td>\n",
       "      <td>&lt;NA&gt;</td>\n",
       "      <td>311</td>\n",
       "      <td>7</td>\n",
       "      <td>0</td>\n",
       "      <td>1914</td>\n",
       "    </tr>\n",
       "    <tr>\n",
       "      <th>1</th>\n",
       "      <td>9606.ENSP00000000233</td>\n",
       "      <td>9606.ENSP00000226004</td>\n",
       "      <td>162</td>\n",
       "      <td>&lt;NA&gt;</td>\n",
       "      <td>&lt;NA&gt;</td>\n",
       "      <td>161</td>\n",
       "      <td>9</td>\n",
       "      <td>0</td>\n",
       "      <td>776</td>\n",
       "    </tr>\n",
       "    <tr>\n",
       "      <th>2</th>\n",
       "      <td>9606.ENSP00000000233</td>\n",
       "      <td>9606.ENSP00000434442</td>\n",
       "      <td>&lt;NA&gt;</td>\n",
       "      <td>500</td>\n",
       "      <td>&lt;NA&gt;</td>\n",
       "      <td>499</td>\n",
       "      <td>6</td>\n",
       "      <td>0</td>\n",
       "      <td>15878</td>\n",
       "    </tr>\n",
       "  </tbody>\n",
       "</table>\n",
       "</div>"
      ],
      "text/plain": [
       "               protein1              protein2  experimental  database  \\\n",
       "0  9606.ENSP00000000233  9606.ENSP00000257770           312      <NA>   \n",
       "1  9606.ENSP00000000233  9606.ENSP00000226004           162      <NA>   \n",
       "2  9606.ENSP00000000233  9606.ENSP00000434442          <NA>       500   \n",
       "\n",
       "   textmining  combined_score weight_10  node1  node2  \n",
       "0        <NA>             311         7      0   1914  \n",
       "1        <NA>             161         9      0    776  \n",
       "2        <NA>             499         6      0  15878  "
      ]
     },
     "execution_count": 80,
     "metadata": {},
     "output_type": "execute_result"
    }
   ],
   "source": [
    "network.head(3)"
   ]
  },
  {
   "cell_type": "code",
   "execution_count": 81,
   "metadata": {},
   "outputs": [],
   "source": [
    "G = nx.from_pandas_edgelist(network, source='node1', target='node2', edge_attr='weight_10', create_using=nx.Graph)"
   ]
  },
  {
   "cell_type": "code",
   "execution_count": 85,
   "metadata": {},
   "outputs": [],
   "source": [
    "# Define your range of k values and leaf_size values\n",
    "k_values = [3,5,10,20,50,100]\n",
    "\n",
    "precision_complexs= []\n",
    "coverages_complexs=[]\n",
    "\n",
    "for complex_name in complexs_id:\n",
    "    # output_file = 'D:/study/thesis/project/HBDM-main/ppi_results/test_results/'+complex_name+'/'+name+\".txt\"\n",
    "    group_node = complexs_id[complex_name]\n",
    "    precision_ks = []\n",
    "    coverage_ks = []\n",
    "    for i in group_node:\n",
    "        precision = []\n",
    "        coverage = []\n",
    "\n",
    "        true_pre = []\n",
    "        test_nodes = list(set(group_node)-set([i]))\n",
    "        source_node = i\n",
    "        shortest_paths = nx.single_source_dijkstra_path_length(G, source_node, weight='weight_10')\n",
    "        sorted_nodes = sorted(shortest_paths.items(), key=lambda x: x[1])\n",
    "        for k in k_values:\n",
    "            neighbor = [node for node, distance in sorted_nodes[:k]]\n",
    "            for j in neighbor:\n",
    "                if j in test_nodes:\n",
    "                    true_pre.append(j)\n",
    "            precision.append(len(true_pre)/len(neighbor))\n",
    "            coverage.append(len(set(true_pre))/len(test_nodes))\n",
    "        \n",
    "        precision_ks.append(precision)\n",
    "        coverage_ks.append(coverage)\n",
    "\n",
    "    precision_complexs.append(np.mean(np.array(precision_ks), axis=0))\n",
    "    coverages_complexs.append(np.mean(np.array(coverage_ks), axis=0))"
   ]
  },
  {
   "cell_type": "code",
   "execution_count": 86,
   "metadata": {},
   "outputs": [],
   "source": [
    "save_data = [precision_complexs,coverages_complexs]\n",
    "with open('D:/study/thesis/project/HBDM-main/ppi_results/test_results/complexes/small/sp_10.pkl', 'wb') as file:\n",
    "    pickle.dump(save_data, file)"
   ]
  },
  {
   "cell_type": "code",
   "execution_count": 87,
   "metadata": {},
   "outputs": [
    {
     "data": {
      "text/plain": [
       "array([0.15, 0.22, 0.19, 0.15, 0.08, 0.05])"
      ]
     },
     "execution_count": 87,
     "metadata": {},
     "output_type": "execute_result"
    }
   ],
   "source": [
    "np.round(np.mean(precision_complexs, axis=0), 2)"
   ]
  },
  {
   "cell_type": "code",
   "execution_count": 88,
   "metadata": {},
   "outputs": [
    {
     "data": {
      "text/plain": [
       "array([0.41, 0.57, 0.75, 0.85, 0.9 , 0.91])"
      ]
     },
     "execution_count": 88,
     "metadata": {},
     "output_type": "execute_result"
    }
   ],
   "source": [
    "np.round(np.mean(coverages_complexs, axis=0), 2)"
   ]
  },
  {
   "cell_type": "code",
   "execution_count": 94,
   "metadata": {},
   "outputs": [],
   "source": [
    "source_node=2759\n",
    "# Calculate shortest paths using Dijkstra's algorithm\n",
    "shortest_paths = nx.single_source_dijkstra_path_length(G, source_node, weight='combined_score')\n",
    "sorted_nodes = sorted(shortest_paths.items(), key=lambda x: x[1])\n",
    "shortest_paths2 = nx.single_source_dijkstra_path_length(G, source_node)\n",
    "\n",
    "\n"
   ]
  },
  {
   "cell_type": "code",
   "execution_count": 96,
   "metadata": {},
   "outputs": [
    {
     "data": {
      "text/plain": [
       "[2759, 3125, 1702, 12796, 15274]"
      ]
     },
     "execution_count": 96,
     "metadata": {},
     "output_type": "execute_result"
    }
   ],
   "source": [
    "\n",
    "top_k_nodes = [node for node, distance in sorted_nodes[:5]]\n",
    "top_k_nodes"
   ]
  },
  {
   "cell_type": "markdown",
   "metadata": {},
   "source": [
    "# check results"
   ]
  },
  {
   "cell_type": "code",
   "execution_count": 30,
   "metadata": {},
   "outputs": [],
   "source": [
    "knn_binary = pd.read_csv(r'D:\\study\\thesis\\project\\HBDM-main\\ppi_results\\test_results\\complexes\\small\\ppi_binary.csv')\n",
    "knn_10 = pd.read_csv(r'D:\\study\\thesis\\project\\HBDM-main\\ppi_results\\test_results\\complexes\\small\\ppi_10.csv')\n",
    "knn_g = pd.read_csv(r'D:\\study\\thesis\\project\\HBDM-main\\ppi_results\\test_results\\complexes\\small\\ppi_g.csv')"
   ]
  },
  {
   "cell_type": "code",
   "execution_count": 90,
   "metadata": {},
   "outputs": [
    {
     "data": {
      "image/png": "[encoded data removed]",
      "text/plain": [
       "<Figure size 640x480 with 1 Axes>"
      ]
     },
     "metadata": {},
     "output_type": "display_data"
    }
   ],
   "source": [
    "# cols = ['c_3','c_5','c_10', 'c_20', 'c_50', 'c_100']\n",
    "# title = 'coverage'\n",
    "\n",
    "cols = ['p_3','p_5','p_10', 'p_20', 'p_50', 'p_100']\n",
    "title = 'precision'\n",
    "means = []\n",
    "vars = []\n",
    "for subdf in [knn_binary,knn_10,knn_g]:\n",
    "    subdf = subdf[cols]\n",
    "    mean_values = subdf.mean().round(2)\n",
    "    variance_values = subdf.var().round(2)\n",
    "    means.append(list(mean_values))\n",
    "    vars.append(list(variance_values))\n",
    "\n",
    "# Extract individual data arrays\n",
    "b_means, b_std = means[0], vars[0]\n",
    "w_means, w_std = means[1], vars[1]\n",
    "g_means, g_std = means[2], vars[2]\n",
    "s_means, s_std = np.round(np.mean(precision_complexs, axis=0), 2), np.round(np.var(precision_complexs, axis=0), 2)\n",
    "# s_means, s_std = np.round(np.mean(coverages_complexs, axis=0), 2), np.round(np.var(coverages_complexs, axis=0), 2)\n",
    "\n",
    "ind = np.arange(len(b_means))  # the x locations for the groups\n",
    "width = 0.2  # the width of the bars\n",
    "\n",
    "fig, ax = plt.subplots()\n",
    "rects1 = ax.bar(ind - 1.5 * width, b_means, width, yerr=b_std, label='HBDM_binary')\n",
    "rects2 = ax.bar(ind - 0.5 * width, w_means, width, yerr=w_std, label='HBDM_10_levels')\n",
    "rects3 = ax.bar(ind + 0.5 * width, g_means, width, yerr=g_std, label='LDM_continuous')\n",
    "rects4 = ax.bar(ind + 1.5 * width, s_means, width, yerr=s_std, label='sp')\n",
    "\n",
    "# Add some text for labels, title, and custom x-axis tick labels, etc.\n",
    "ax.set_ylabel('Scores')\n",
    "ax.set_title('Scores by group and gender')\n",
    "ax.set_xticks(ind)\n",
    "ax.set_xticklabels(('3','5', '10', '20', '50', '100'))\n",
    "ax.legend()\n",
    "\n",
    "def autolabel(rects, xpos='center'):\n",
    "    ha = {'center': 'center', 'right': 'left', 'left': 'right'}\n",
    "    offset = {'center': 0, 'right': 1, 'left': -1}\n",
    "\n",
    "    for i, rect in enumerate(rects):\n",
    "        height = rect.get_height()\n",
    "        ax.annotate('{}'.format(height),\n",
    "                    xy=(rect.get_x() + rect.get_width() / 2, height),\n",
    "                    xytext=(offset[xpos] * 3, 3),  # use 3 points offset\n",
    "                    textcoords=\"offset points\",  # in both directions\n",
    "                    ha=ha[xpos], va='bottom')\n",
    "\n",
    "autolabel(rects1, \"left\")\n",
    "autolabel(rects2, \"center\")\n",
    "autolabel(rects3, \"right\")\n",
    "autolabel(rects4, \"right\")\n",
    "\n",
    "fig.tight_layout()\n",
    "plt.show()\n"
   ]
  },
  {
   "cell_type": "code",
   "execution_count": 70,
   "metadata": {},
   "outputs": [],
   "source": [
    "\n",
    "\n",
    "def get_results(cols,title):\n",
    "    means = []\n",
    "    vars = []\n",
    "    for subdf in [knn_binary,knn_10,knn_g]:\n",
    "        subdf = subdf[cols]\n",
    "        mean_values = subdf.mean().round(2)\n",
    "        variance_values = subdf.var().round(2)\n",
    "        means.append(list(mean_values))\n",
    "        vars.append(list(variance_values))\n",
    "\n",
    "    b_means, b_std = means[0], vars[0]\n",
    "    w_means, w_std = means[1], vars[1]\n",
    "    g_means, g_std = means[2], vars[2]\n",
    "\n",
    "    ind = np.arange(len(b_means))  # the x locations for the groups\n",
    "    width = 0.25  # the width of the bars\n",
    "\n",
    "    fig, ax = plt.subplots()\n",
    "    rects1 = ax.bar(ind - width, b_means, width, yerr=b_std, label='binary')\n",
    "    rects2 = ax.bar(ind, w_means, width, yerr=w_std, label='10_levels')\n",
    "    rects3 = ax.bar(ind + width, g_means, width, yerr=g_std, label='continuous')\n",
    "\n",
    "    # Add some text for labels, title, and custom x-axis tick labels, etc.\n",
    "    ax.set_ylabel(title)\n",
    "    ax.set_title(title+' for k-neighbors')\n",
    "    ax.set_xticks(ind)\n",
    "    ax.set_xticklabels(('3', '5', '10', '20', '50', '100'))\n",
    "    ax.legend()\n",
    "\n",
    "\n",
    "    def autolabel(rects, xpos='center'):\n",
    "        \"\"\"\n",
    "        Attach a text label above each bar in *rects*, displaying its height.\n",
    "\n",
    "        *xpos* indicates which side to place the text w.r.t. the center of\n",
    "        the bar. It can be one of the following {'center', 'right', 'left'}.\n",
    "        \"\"\"\n",
    "\n",
    "        ha = {'center': 'center', 'right': 'left', 'left': 'right'}\n",
    "        offset = {'center': 0, 'right': 1, 'left': -1}\n",
    "\n",
    "        for i, rect in enumerate(rects):\n",
    "            height = rect.get_height()\n",
    "            ax.annotate('{}'.format(height),\n",
    "                        xy=(rect.get_x() + rect.get_width() / 2, height),\n",
    "                        xytext=(offset[xpos] * 3, 3),  # use 3 points offset\n",
    "                        textcoords=\"offset points\",  # in both directions\n",
    "                        ha=ha[xpos], va='bottom')\n",
    "\n",
    "\n",
    "    autolabel(rects1, \"left\")\n",
    "    autolabel(rects2, \"center\")\n",
    "    autolabel(rects3, \"right\")\n",
    "\n",
    "    fig.tight_layout()\n",
    "\n",
    "    plt.show()"
   ]
  },
  {
   "cell_type": "code",
   "execution_count": 71,
   "metadata": {},
   "outputs": [
    {
     "data": {
      "image/png": "[encoded data removed]",
      "text/plain": [
       "<Figure size 640x480 with 1 Axes>"
      ]
     },
     "metadata": {},
     "output_type": "display_data"
    },
    {
     "data": {
      "image/png": "[encoded data removed]",
      "text/plain": [
       "<Figure size 640x480 with 1 Axes>"
      ]
     },
     "metadata": {},
     "output_type": "display_data"
    }
   ],
   "source": [
    "get_results(['p_3','p_5','p_10', 'p_20', 'p_50', 'p_100'],'precision')\n",
    "get_results(['c_3','c_5','c_10', 'c_20', 'c_50', 'c_100'],'coverage')"
   ]
  },
  {
   "cell_type": "code",
   "execution_count": null,
   "metadata": {},
   "outputs": [],
   "source": []
  }
 ],
 "metadata": {
  "kernelspec": {
   "display_name": "hbdm",
   "language": "python",
   "name": "python3"
  },
  "language_info": {
   "codemirror_mode": {
    "name": "ipython",
    "version": 3
   },
   "file_extension": ".py",
   "mimetype": "text/x-python",
   "name": "python",
   "nbconvert_exporter": "python",
   "pygments_lexer": "ipython3",
   "version": "3.8.18"
  }
 },
 "nbformat": 4,
 "nbformat_minor": 2
}
