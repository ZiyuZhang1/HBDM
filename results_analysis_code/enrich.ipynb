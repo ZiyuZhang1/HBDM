{
 "cells": [
  {
   "cell_type": "code",
   "execution_count": 2,
   "metadata": {},
   "outputs": [],
   "source": [
    "import gseapy as gp\n",
    "import pickle"
   ]
  },
  {
   "cell_type": "code",
   "execution_count": 4,
   "metadata": {},
   "outputs": [
    {
     "name": "stdout",
     "output_type": "stream",
     "text": [
      "Reactome_2013\n",
      "Reactome_2015\n",
      "Reactome_2016\n",
      "Reactome_2022\n"
     ]
    }
   ],
   "source": [
    "for name in gp.get_library_name(organism='Human'):\n",
    "    if 'reac' in name.lower():\n",
    "        print(name)"
   ]
  },
  {
   "cell_type": "code",
   "execution_count": 3,
   "metadata": {},
   "outputs": [
    {
     "name": "stdout",
     "output_type": "stream",
     "text": [
      "GO_Biological_Process_2013\n",
      "GO_Biological_Process_2015\n",
      "GO_Biological_Process_2017\n",
      "GO_Biological_Process_2017b\n",
      "GO_Biological_Process_2018\n",
      "GO_Biological_Process_2021\n",
      "GO_Biological_Process_2023\n",
      "GO_Cellular_Component_2013\n",
      "GO_Cellular_Component_2015\n",
      "GO_Cellular_Component_2017\n",
      "GO_Cellular_Component_2017b\n",
      "GO_Cellular_Component_2018\n",
      "GO_Cellular_Component_2021\n",
      "GO_Cellular_Component_2023\n",
      "GO_Molecular_Function_2013\n",
      "GO_Molecular_Function_2015\n",
      "GO_Molecular_Function_2017\n",
      "GO_Molecular_Function_2017b\n",
      "GO_Molecular_Function_2018\n",
      "GO_Molecular_Function_2021\n",
      "GO_Molecular_Function_2023\n",
      "SynGO_2022\n"
     ]
    }
   ],
   "source": [
    "for name in gp.get_library_name(organism='Human'):\n",
    "    if 'go' in name.lower():\n",
    "        print(name)"
   ]
  },
  {
   "cell_type": "code",
   "execution_count": 2,
   "metadata": {},
   "outputs": [],
   "source": [
    "keggs = gp.get_library(name='KEGG_2019_Human', organism='Human')"
   ]
  },
  {
   "cell_type": "code",
   "execution_count": 3,
   "metadata": {},
   "outputs": [],
   "source": [
    "keggs = gp.get_library(name='KEGG_2019_Human', organism='Human')\n",
    "smallkegg = dict()\n",
    "kegglength = []\n",
    "for key, value in keggs.items():\n",
    "    length = len(value)\n",
    "    kegglength.append(length)\n",
    "    if length <= 150:\n",
    "        smallkegg[key] = value"
   ]
  },
  {
   "cell_type": "code",
   "execution_count": 7,
   "metadata": {},
   "outputs": [],
   "source": [
    "with open(r'D:\\study\\thesis\\project\\HBDM-main\\data\\datasets\\ppi\\ppi_aliases2stringId.pkl', 'rb') as file:\n",
    "    aliases2stringId = pickle.load(file)\n",
    "with open(r'D:\\study\\thesis\\project\\HBDM-main\\data\\datasets\\ppi\\ppi_name2stringId.pkl', 'rb') as file:\n",
    "    name2stringId = pickle.load(file)\n",
    "def convert_stringId(alias):\n",
    "    try:\n",
    "        stringId = name2stringId[alias]\n",
    "    except:\n",
    "        #print(alias, 'can\\'t be converted by name2stringId! Now trying aliases2stringId.')\n",
    "        try:\n",
    "            stringId = aliases2stringId[alias]\n",
    "        except:\n",
    "            #print(alias, 'can\\'t be converted by aliases2stringId! Now return None.')\n",
    "            stringId = None\n",
    "    #print(alias, stringId)\n",
    "    return stringId\n",
    "\n",
    "protein_names = list(aliases2stringId.keys())\n",
    "protein_names.extend(list(name2stringId.keys()))"
   ]
  },
  {
   "cell_type": "code",
   "execution_count": 8,
   "metadata": {},
   "outputs": [],
   "source": [
    "with open(r'D:\\study\\thesis\\project\\HBDM-main\\data\\datasets\\ppi\\ppi_index.pkl', 'rb') as file:\n",
    "    ppi_index = pickle.load(file)\n",
    "node2string = {value: key for key, value in ppi_index.items()}\n",
    "\n",
    "humans = set(ppi_index.keys())\n",
    "\n",
    "pathway_id = dict()\n",
    "\n",
    "for pathway in smallkegg:\n",
    "    group_node = []\n",
    "    for gene in smallkegg[pathway]:\n",
    "        if gene in protein_names:\n",
    "            stringid = convert_stringId(gene)\n",
    "            if stringid in humans:\n",
    "                node = ppi_index[stringid]\n",
    "                group_node.append(node)\n",
    "    if len(set(group_node)) != 1:\n",
    "        pathway_id[pathway] = group_node"
   ]
  },
  {
   "cell_type": "code",
   "execution_count": 10,
   "metadata": {},
   "outputs": [
    {
     "data": {
      "text/plain": [
       "258"
      ]
     },
     "execution_count": 10,
     "metadata": {},
     "output_type": "execute_result"
    }
   ],
   "source": [
    "len(pathway_id)"
   ]
  },
  {
   "cell_type": "code",
   "execution_count": 9,
   "metadata": {},
   "outputs": [],
   "source": [
    "file_path = r'D:\\study\\thesis\\project\\HBDM-main\\data\\pathway\\pathway_node.pkl'\n",
    "\n",
    "# Serialize and save the Tensor to the file\n",
    "with open(file_path, 'wb') as file:\n",
    "    pickle.dump(pathway_id, file)\n",
    "# Close the file\n",
    "file.close()"
   ]
  },
  {
   "cell_type": "code",
   "execution_count": 7,
   "metadata": {},
   "outputs": [],
   "source": [
    "import matplotlib.pyplot as plt"
   ]
  },
  {
   "cell_type": "code",
   "execution_count": 8,
   "metadata": {},
   "outputs": [
    {
     "data": {
      "text/plain": [
       "(array([116., 101.,  52.,  25.,   5.,   3.,   3.,   0.,   1.,   2.]),\n",
       " array([  5. ,  57.5, 110. , 162.5, 215. , 267.5, 320. , 372.5, 425. ,\n",
       "        477.5, 530. ]),\n",
       " <BarContainer object of 10 artists>)"
      ]
     },
     "execution_count": 8,
     "metadata": {},
     "output_type": "execute_result"
    },
    {
     "data": {
      "image/png": "[encoded data removed]",
      "text/plain": [
       "<Figure size 640x480 with 1 Axes>"
      ]
     },
     "metadata": {},
     "output_type": "display_data"
    }
   ],
   "source": [
    "plt.hist(kegglength)"
   ]
  },
  {
   "cell_type": "code",
   "execution_count": null,
   "metadata": {},
   "outputs": [],
   "source": []
  }
 ],
 "metadata": {
  "kernelspec": {
   "display_name": "rescal",
   "language": "python",
   "name": "python3"
  },
  "language_info": {
   "codemirror_mode": {
    "name": "ipython",
    "version": 3
   },
   "file_extension": ".py",
   "mimetype": "text/x-python",
   "name": "python",
   "nbconvert_exporter": "python",
   "pygments_lexer": "ipython3",
   "version": "3.8.18"
  }
 },
 "nbformat": 4,
 "nbformat_minor": 2
}
