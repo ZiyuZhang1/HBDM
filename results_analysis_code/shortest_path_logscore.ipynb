{
 "cells": [
  {
   "cell_type": "code",
   "execution_count": 2,
   "metadata": {},
   "outputs": [],
   "source": [
    "import pandas as pd\n",
    "import numpy as np\n",
    "import pickle\n",
    "import random"
   ]
  },
  {
   "cell_type": "code",
   "execution_count": 3,
   "metadata": {},
   "outputs": [
    {
     "data": {
      "text/plain": [
       "18767"
      ]
     },
     "execution_count": 3,
     "metadata": {},
     "output_type": "execute_result"
    }
   ],
   "source": [
    "with open(r'D:\\study\\thesis\\project\\HBDM-main\\datasets\\ppi\\ppi_index.pkl', 'rb') as f:\n",
    "    value_to_index_mapping = pickle.load(f)\n",
    "len(value_to_index_mapping)"
   ]
  },
  {
   "cell_type": "code",
   "execution_count": 4,
   "metadata": {},
   "outputs": [],
   "source": [
    "local_stringdb = 'D:/study/thesis/project/HBDM-main/nn_data/stringdb/'\n",
    "# load local STRING database and names\n",
    "df = pd.read_csv(local_stringdb+'9606.protein.info.v12.0.txt', sep='\\t', header=0, usecols=['#string_protein_id', 'preferred_name'])\n",
    "df['preferred_name'] = df['preferred_name'].str.upper()\n",
    "stringId2name = df.set_index('#string_protein_id')['preferred_name'].to_dict()\n",
    "name2stringId = df.set_index('preferred_name')['#string_protein_id'].to_dict()\n",
    "df = pd.read_csv(local_stringdb+'9606.protein.aliases.v12.0.txt', sep='\\t', header=0, usecols=['#string_protein_id', 'alias']).drop_duplicates(['alias'], keep='first')\n",
    "df['alias'] = df['alias'].str.upper()\n",
    "aliases2stringId = df.set_index('alias')['#string_protein_id'].to_dict()\n",
    "\n",
    "string_score_transform = lambda x: -np.log(x/1000)\n",
    "\n",
    "network = pd.read_csv(local_stringdb+'9606.protein.physical.links.detailed.v12.0.txt', sep=' ', header=0).convert_dtypes().replace(0, float('nan'))\n",
    "network['combined_score'] = network['combined_score'].apply(string_score_transform)\n",
    "\n",
    "def convert_stringId(alias):\n",
    "    try:\n",
    "        stringId = name2stringId[alias]\n",
    "    except:\n",
    "        #print(alias, 'can\\'t be converted by name2stringId! Now trying aliases2stringId.')\n",
    "        try:\n",
    "            stringId = aliases2stringId[alias]\n",
    "        except:\n",
    "            #print(alias, 'can\\'t be converted by aliases2stringId! Now return None.')\n",
    "            stringId = None\n",
    "    #print(alias, stringId)\n",
    "    return stringId\n",
    "\n",
    "def read_string_net_from_df(df, weight_choose='combined_score'): # default combined score\n",
    "    string_net = {}\n",
    "    for row in df.itertuples(index=False):\n",
    "        start_node, end_node, weight = row.protein1, row.protein2, getattr(row, weight_choose)\n",
    "        if start_node not in string_net:\n",
    "            string_net[start_node] = {}\n",
    "        string_net[start_node][end_node] = weight\n",
    "        if end_node not in string_net:\n",
    "            string_net[end_node] = {}\n",
    "        string_net[end_node][start_node] = weight\n",
    "    return string_net"
   ]
  },
  {
   "cell_type": "code",
   "execution_count": 5,
   "metadata": {},
   "outputs": [],
   "source": [
    "complexs = {'RNA':['RPB1', 'RPB2', 'RPB3', 'RPB4', 'RPB5', 'RPB6', 'RPB7', 'RPB8', 'RPB9', 'RPB10', 'RPB11', 'RPB12', 'RPB13'],\n",
    "    'protease': ['PSMA1', 'PSMA2', 'PSMA3', 'PSMB1', 'PSMB2', 'PSMB3'],\n",
    "    'nuclear pore': ['NUP98', 'NUP93', 'NUP107', 'NUP133']\n",
    "}\n",
    "\n",
    "names = set(aliases2stringId.keys())\n",
    "# humans = set(value_to_index_mapping.keys())\n",
    "\n",
    "complexs_id = dict()\n",
    "\n",
    "for complex_name in complexs:\n",
    "    folder_path = 'D:/study/thesis/project/HBDM-main/ppi_results/test_results/'+complex_name\n",
    "    # os.mkdir(folder_path)\n",
    "    group_node = []\n",
    "    for gene in complexs[complex_name]:\n",
    "        if gene in names:\n",
    "            stringid = aliases2stringId[gene]\n",
    "            # stringid = int(stringid[9:])\n",
    "            # if stringid in humans:\n",
    "            #     node = value_to_index_mapping[stringid]\n",
    "            group_node.append(stringid)\n",
    "    complexs_id[complex_name] = group_node"
   ]
  },
  {
   "cell_type": "code",
   "execution_count": 6,
   "metadata": {},
   "outputs": [
    {
     "name": "stdout",
     "output_type": "stream",
     "text": [
      "top- 10 \t RNA  precision:  0.9416666666666668\n",
      "RNA  coverage:  0.7847222222222222\n",
      "top- 20 \t RNA  precision:  0.5499999999999999\n",
      "RNA  coverage:  0.9166666666666665\n",
      "top- 10 \t protease  precision:  0.43333333333333335\n",
      "protease  coverage:  0.7222222222222222\n",
      "top- 20 \t protease  precision:  0.25\n",
      "protease  coverage:  0.8333333333333334\n",
      "top- 10 \t nuclear pore  precision:  0.175\n",
      "nuclear pore  coverage:  0.4375\n",
      "top- 20 \t nuclear pore  precision:  0.15\n",
      "nuclear pore  coverage:  0.75\n"
     ]
    }
   ],
   "source": [
    "top = 50\n",
    "for complex_name in complexs_id:\n",
    "    points = complexs_id[complex_name]\n",
    "    for top in [10,20]:\n",
    "        precision = []\n",
    "        coverage = []\n",
    "        for start_gene in points:\n",
    "            test_nodes = list(set(points)-set(start_gene))\n",
    "            true_pre = []\n",
    "            subdf = network[network['protein1']==start_gene]\n",
    "            ranked = subdf.sort_values(by='combined_score')\n",
    "            predicted=ranked[:top]['protein2'].tolist()\n",
    "            for i in predicted:\n",
    "                if i in test_nodes:\n",
    "                    true_pre.append(i)\n",
    "            precision.append(len(true_pre)/len(predicted))\n",
    "            coverage.append(len(set(true_pre))/len(test_nodes))\n",
    "        print('top-',top,'\\t',complex_name,' precision: ', sum(precision)/len(precision))\n",
    "        print(complex_name,' coverage: ', sum(coverage)/len(coverage))"
   ]
  }
 ],
 "metadata": {
  "kernelspec": {
   "display_name": "hbdm",
   "language": "python",
   "name": "python3"
  },
  "language_info": {
   "codemirror_mode": {
    "name": "ipython",
    "version": 3
   },
   "file_extension": ".py",
   "mimetype": "text/x-python",
   "name": "python",
   "nbconvert_exporter": "python",
   "pygments_lexer": "ipython3",
   "version": "3.8.3"
  }
 },
 "nbformat": 4,
 "nbformat_minor": 2
}
