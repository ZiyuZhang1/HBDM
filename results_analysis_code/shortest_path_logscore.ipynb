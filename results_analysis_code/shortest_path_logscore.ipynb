{
 "cells": [
  {
   "cell_type": "code",
   "execution_count": 1,
   "metadata": {},
   "outputs": [],
   "source": [
    "import pandas as pd\n",
    "import numpy as np\n",
    "import pickle"
   ]
  },
  {
   "cell_type": "code",
   "execution_count": 12,
   "metadata": {},
   "outputs": [],
   "source": [
    "dataset = 'ppi_sc_st_4'\n",
    "######## define label\n",
    "root= '/novo/omdb/pds02/PDS2843/data/sprint_tid_ascvd/gzn/thesis/data/'\n",
    "df = pd.read_csv(root+dataset+'.csv')\n",
    "disease_root = '/novo/omdb/pds02/PDS2843/data/sprint_tid_ascvd/gzn/thesis/HBDM/data/disease/'\n",
    "disease_source = 'DIS_CAD'\n",
    "diseasedf = pd.read_csv(disease_root+disease_source+'.tsv',sep='\\t')\n",
    "pos_genes = diseasedf['Gene'].to_list()"
   ]
  },
  {
   "cell_type": "code",
   "execution_count": 4,
   "metadata": {},
   "outputs": [
    {
     "data": {
      "text/plain": [
       "Index(['ppi_1d', 'ppi_2d', 'ppi_3d', 'ppi_4d', 'ppi_re', 'gene', 'sc_1d',\n",
       "       'sc_2d', 'sc_3d', 'sc_4d', 'sc_re', 'st_1d', 'st_2d', 'st_3d', 'st_4d',\n",
       "       'st_re'],\n",
       "      dtype='object')"
      ]
     },
     "execution_count": 4,
     "metadata": {},
     "output_type": "execute_result"
    }
   ],
   "source": [
    "df.columns"
   ]
  },
  {
   "cell_type": "code",
   "execution_count": 13,
   "metadata": {},
   "outputs": [],
   "source": [
    "df = df[['ppi_1d', 'ppi_2d', 'ppi_3d', 'ppi_4d', 'gene']]"
   ]
  },
  {
   "cell_type": "code",
   "execution_count": 7,
   "metadata": {},
   "outputs": [],
   "source": [
    "from sklearn.neighbors import KDTree\n",
    "from sklearn.model_selection import KFold"
   ]
  },
  {
   "cell_type": "code",
   "execution_count": 10,
   "metadata": {},
   "outputs": [],
   "source": [
    "local_stringdb = '/novo/omdb/pds02/PDS2843/data/sprint_tid_ascvd/data/string/lfs-stringdb/'\n",
    "# load local STRING database and names\n",
    "df = pd.read_csv(local_stringdb+'9606.protein.info.v12.0.txt', sep='\\t', header=0, usecols=['#string_protein_id', 'preferred_name'])\n",
    "df['preferred_name'] = df['preferred_name'].str.upper()\n",
    "stringId2name = df.set_index('#string_protein_id')['preferred_name'].to_dict()\n",
    "name2stringId = df.set_index('preferred_name')['#string_protein_id'].to_dict()\n",
    "df = pd.read_csv(local_stringdb+'9606.protein.aliases.v12.0.txt', sep='\\t', header=0, usecols=['#string_protein_id', 'alias']).drop_duplicates(['alias'], keep='first')\n",
    "df['alias'] = df['alias'].str.upper()\n",
    "aliases2stringId = df.set_index('alias')['#string_protein_id'].to_dict()\n",
    "\n",
    "string_score_transform = lambda x: -np.log(x/1000)\n",
    "\n",
    "network = pd.read_csv(local_stringdb+'9606.protein.physical.links.detailed.v12.0.txt', sep=' ', header=0).convert_dtypes().replace(0, float('nan'))\n",
    "network['combined_score'] = network['combined_score'].apply(string_score_transform)\n",
    "\n",
    "def convert_stringId(alias):\n",
    "    try:\n",
    "        stringId = name2stringId[alias]\n",
    "    except:\n",
    "        #print(alias, 'can\\'t be converted by name2stringId! Now trying aliases2stringId.')\n",
    "        try:\n",
    "            stringId = aliases2stringId[alias]\n",
    "        except:\n",
    "            #print(alias, 'can\\'t be converted by aliases2stringId! Now return None.')\n",
    "            stringId = None\n",
    "    #print(alias, stringId)\n",
    "    return stringId\n",
    "\n",
    "def read_string_net_from_df(df, weight_choose='combined_score'): # default combined score\n",
    "    string_net = {}\n",
    "    for row in df.itertuples(index=False):\n",
    "        start_node, end_node, weight = row.protein1, row.protein2, getattr(row, weight_choose)\n",
    "        if start_node not in string_net:\n",
    "            string_net[start_node] = {}\n",
    "        string_net[start_node][end_node] = weight\n",
    "        if end_node not in string_net:\n",
    "            string_net[end_node] = {}\n",
    "        string_net[end_node][start_node] = weight\n",
    "    return string_net"
   ]
  },
  {
   "cell_type": "code",
   "execution_count": 5,
   "metadata": {},
   "outputs": [],
   "source": [
    "import networkx as nx\n",
    "import itertools\n",
    "from sklearn.model_selection import KFold"
   ]
  },
  {
   "cell_type": "code",
   "execution_count": 6,
   "metadata": {},
   "outputs": [],
   "source": [
    "G = nx.from_pandas_edgelist(network, source='protein1', target='protein2', edge_attr='combined_score', create_using=nx.Graph)"
   ]
  },
  {
   "cell_type": "code",
   "execution_count": 7,
   "metadata": {},
   "outputs": [
    {
     "data": {
      "text/plain": [
       "738805"
      ]
     },
     "execution_count": 7,
     "metadata": {},
     "output_type": "execute_result"
    }
   ],
   "source": [
    "len(G.edges)"
   ]
  },
  {
   "cell_type": "code",
   "execution_count": 19,
   "metadata": {},
   "outputs": [],
   "source": [
    "disease_source = 'OT_CAD'\n",
    "diseasedf = pd.read_csv(disease_root+disease_source+'.tsv',sep='\\t')\n",
    "pos_genes = diseasedf['symbol']"
   ]
  },
  {
   "cell_type": "code",
   "execution_count": 22,
   "metadata": {},
   "outputs": [],
   "source": [
    "disease_source = 'cad_literature'\n",
    "diseasedf = pd.read_csv(disease_root+disease_source+'.csv')\n",
    "pos_genes = diseasedf['gene']"
   ]
  },
  {
   "cell_type": "code",
   "execution_count": 25,
   "metadata": {},
   "outputs": [],
   "source": [
    "genticpath = '/novo/omdb/pds02/PDS2843/data/sprint_tid_ascvd/gzn/310_targets/CAD-Genetic-Target-Discovery-2023_010323.xlsx'\n",
    "geneticdf=pd.read_excel(genticpath,sheet_name='MASTER')\n",
    "pos_genes = geneticdf['Gene']"
   ]
  },
  {
   "cell_type": "code",
   "execution_count": 14,
   "metadata": {},
   "outputs": [
    {
     "ename": "NameError",
     "evalue": "name 'G' is not defined",
     "output_type": "error",
     "traceback": [
      "\u001b[0;31m---------------------------------------------------------------------------\u001b[0m",
      "\u001b[0;31mNameError\u001b[0m                                 Traceback (most recent call last)",
      "\u001b[1;32m/novo/omdb/pds02/PDS2843/data/sprint_tid_ascvd/gzn/thesis/HBDM/results_analysis_code/shortest_path_logscore.ipynb Cell 13\u001b[0m line \u001b[0;36m2\n\u001b[1;32m      <a href='vscode-notebook-cell://ssh-remote%2Beinstein.corp.novocorp.net/novo/omdb/pds02/PDS2843/data/sprint_tid_ascvd/gzn/thesis/HBDM/results_analysis_code/shortest_path_logscore.ipynb#X12sdnNjb2RlLXJlbW90ZQ%3D%3D?line=0'>1</a>\u001b[0m pos_genesid \u001b[39m=\u001b[39m \u001b[39mlist\u001b[39m(\u001b[39mset\u001b[39m(\u001b[39mlist\u001b[39m(\u001b[39mmap\u001b[39m(convert_stringId,pos_genes))))\n\u001b[0;32m----> <a href='vscode-notebook-cell://ssh-remote%2Beinstein.corp.novocorp.net/novo/omdb/pds02/PDS2843/data/sprint_tid_ascvd/gzn/thesis/HBDM/results_analysis_code/shortest_path_logscore.ipynb#X12sdnNjb2RlLXJlbW90ZQ%3D%3D?line=1'>2</a>\u001b[0m pos_genesid \u001b[39m=\u001b[39m \u001b[39mlist\u001b[39m(\u001b[39mset\u001b[39m(pos_genesid)\u001b[39m&\u001b[39m\u001b[39mset\u001b[39m(G\u001b[39m.\u001b[39mnodes))\n\u001b[1;32m      <a href='vscode-notebook-cell://ssh-remote%2Beinstein.corp.novocorp.net/novo/omdb/pds02/PDS2843/data/sprint_tid_ascvd/gzn/thesis/HBDM/results_analysis_code/shortest_path_logscore.ipynb#X12sdnNjb2RlLXJlbW90ZQ%3D%3D?line=2'>3</a>\u001b[0m \u001b[39mlen\u001b[39m(pos_genesid)\n",
      "\u001b[0;31mNameError\u001b[0m: name 'G' is not defined"
     ]
    }
   ],
   "source": [
    "pos_genesid = list(set(list(map(convert_stringId,pos_genes))))\n",
    "pos_genesid = list(set(pos_genesid)&set(G.nodes))\n",
    "len(pos_genesid)"
   ]
  },
  {
   "cell_type": "code",
   "execution_count": 16,
   "metadata": {},
   "outputs": [],
   "source": [
    "def index_dict(df):\n",
    "    return dict(zip(df['gene'], df.index))\n",
    "df['value'] =df.index\n",
    "dfdict = index_dict(df[['value','gene']])"
   ]
  },
  {
   "cell_type": "code",
   "execution_count": 23,
   "metadata": {},
   "outputs": [
    {
     "ename": "TypeError",
     "evalue": "'dict' object is not callable",
     "output_type": "error",
     "traceback": [
      "\u001b[0;31m---------------------------------------------------------------------------\u001b[0m",
      "\u001b[0;31mTypeError\u001b[0m                                 Traceback (most recent call last)",
      "\u001b[1;32m/novo/omdb/pds02/PDS2843/data/sprint_tid_ascvd/gzn/thesis/HBDM/results_analysis_code/shortest_path_logscore.ipynb Cell 15\u001b[0m line \u001b[0;36m1\n\u001b[0;32m----> <a href='vscode-notebook-cell://ssh-remote%2Beinstein.corp.novocorp.net/novo/omdb/pds02/PDS2843/data/sprint_tid_ascvd/gzn/thesis/HBDM/results_analysis_code/shortest_path_logscore.ipynb#X35sdnNjb2RlLXJlbW90ZQ%3D%3D?line=0'>1</a>\u001b[0m \u001b[39mlist\u001b[39;49m(\u001b[39mmap\u001b[39;49m(dfdict,pos_genes))\n",
      "\u001b[0;31mTypeError\u001b[0m: 'dict' object is not callable"
     ]
    }
   ],
   "source": [
    "list(map(dfdict,pos_genes))"
   ]
  },
  {
   "cell_type": "code",
   "execution_count": 20,
   "metadata": {},
   "outputs": [
    {
     "ename": "TypeError",
     "evalue": "get expected at least 1 argument, got 0",
     "output_type": "error",
     "traceback": [
      "\u001b[0;31m---------------------------------------------------------------------------\u001b[0m",
      "\u001b[0;31mTypeError\u001b[0m                                 Traceback (most recent call last)",
      "\u001b[1;32m/novo/omdb/pds02/PDS2843/data/sprint_tid_ascvd/gzn/thesis/HBDM/results_analysis_code/shortest_path_logscore.ipynb Cell 15\u001b[0m line \u001b[0;36m1\n\u001b[0;32m----> <a href='vscode-notebook-cell://ssh-remote%2Beinstein.corp.novocorp.net/novo/omdb/pds02/PDS2843/data/sprint_tid_ascvd/gzn/thesis/HBDM/results_analysis_code/shortest_path_logscore.ipynb#X31sdnNjb2RlLXJlbW90ZQ%3D%3D?line=0'>1</a>\u001b[0m pos_genesid \u001b[39m=\u001b[39m \u001b[39mlist\u001b[39m(\u001b[39mset\u001b[39m(\u001b[39mlist\u001b[39m(\u001b[39mmap\u001b[39m(dfdict\u001b[39m.\u001b[39;49mget(),pos_genes))))\n\u001b[1;32m      <a href='vscode-notebook-cell://ssh-remote%2Beinstein.corp.novocorp.net/novo/omdb/pds02/PDS2843/data/sprint_tid_ascvd/gzn/thesis/HBDM/results_analysis_code/shortest_path_logscore.ipynb#X31sdnNjb2RlLXJlbW90ZQ%3D%3D?line=1'>2</a>\u001b[0m pos_genesid \u001b[39m=\u001b[39m \u001b[39mlist\u001b[39m(\u001b[39mset\u001b[39m(pos_genesid)\u001b[39m&\u001b[39m\u001b[39mset\u001b[39m(dfdict\u001b[39m.\u001b[39mvalues()))\n\u001b[1;32m      <a href='vscode-notebook-cell://ssh-remote%2Beinstein.corp.novocorp.net/novo/omdb/pds02/PDS2843/data/sprint_tid_ascvd/gzn/thesis/HBDM/results_analysis_code/shortest_path_logscore.ipynb#X31sdnNjb2RlLXJlbW90ZQ%3D%3D?line=2'>3</a>\u001b[0m \u001b[39mlen\u001b[39m(pos_genesid)\n",
      "\u001b[0;31mTypeError\u001b[0m: get expected at least 1 argument, got 0"
     ]
    }
   ],
   "source": [
    "pos_genesid = list(set(list(map(dfdict,pos_genes))))\n",
    "pos_genesid = list(set(pos_genesid)&set(dfdict.values()))\n",
    "len(pos_genesid)"
   ]
  },
  {
   "cell_type": "code",
   "execution_count": null,
   "metadata": {},
   "outputs": [],
   "source": [
    "group_node = pos_genesid\n",
    "kf = KFold(n_splits=5, shuffle=True, random_state=42)\n",
    "for k in k_values:\n",
    "    k+=1\n",
    "    pre = []\n",
    "    cov = []\n",
    "    neibor_dict = dict()\n",
    "    # Build a k-d tree from the points\n",
    "    kdtree = KDTree(df[[col for col in df.columns if col.endswith('d')]].to_numpy(), leaf_size=20)\n",
    "    for train_index, test_index in kf.split(group_node):\n",
    "        train_nodes = [group_node[i] for i in train_index]\n",
    "        test_nodes = [group_node[i] for i in test_index]\n",
    "        start = []\n",
    "        dist = []\n",
    "        neighbor = []\n",
    "\n",
    "        for i in train_nodes:\n",
    "            given_point = df[df['node']==i][[col for col in df.columns if col.endswith('d')]].to_numpy()\n",
    "            # Perform a k-NN search to find the k+1 nearest neighbors\n",
    "            distances, indices = kdtree.query(given_point, k=k)\n",
    "            start += (k-1)*[i]\n",
    "            dist += distances.reshape(-1).tolist()[1:]\n",
    "            neighbor += indices.reshape(-1).tolist()[1:]\n",
    "        # random_nodes = random.sample(list(set(df['node'].tolist())-set(train_nodes)), (k-1))\n",
    "        for gene in neighbor:\n",
    "            if gene in neibor_dict:\n",
    "                neibor_dict[gene] += 1\n",
    "            else:\n",
    "                neibor_dict[gene] = 1\n",
    "        tp_dict = {key: neibor_dict[key] for key in neibor_dict.keys() if key in test_nodes}\n",
    "        pre.append(sum(tp_dict.values())/sum(neibor_dict.values()))                \n",
    "        cov.append(len(tp_dict.keys())/len(test_nodes))\n",
    "    print(sum(pre) / len(pre),sum(cov) / len(cov))\n",
    "        "
   ]
  },
  {
   "cell_type": "code",
   "execution_count": 40,
   "metadata": {},
   "outputs": [
    {
     "ename": "KeyboardInterrupt",
     "evalue": "",
     "output_type": "error",
     "traceback": [
      "\u001b[0;31m---------------------------------------------------------------------------\u001b[0m",
      "\u001b[0;31mKeyboardInterrupt\u001b[0m                         Traceback (most recent call last)",
      "\u001b[1;32m/novo/omdb/pds02/PDS2843/data/sprint_tid_ascvd/gzn/thesis/HBDM/results_analysis_code/shortest_path_logscore.ipynb Cell 11\u001b[0m line \u001b[0;36m1\n\u001b[1;32m      <a href='vscode-notebook-cell://ssh-remote%2Beinstein.corp.novocorp.net/novo/omdb/pds02/PDS2843/data/sprint_tid_ascvd/gzn/thesis/HBDM/results_analysis_code/shortest_path_logscore.ipynb#X44sdnNjb2RlLXJlbW90ZQ%3D%3D?line=7'>8</a>\u001b[0m neibors \u001b[39m=\u001b[39m \u001b[39mdict\u001b[39m()\n\u001b[1;32m      <a href='vscode-notebook-cell://ssh-remote%2Beinstein.corp.novocorp.net/novo/omdb/pds02/PDS2843/data/sprint_tid_ascvd/gzn/thesis/HBDM/results_analysis_code/shortest_path_logscore.ipynb#X44sdnNjb2RlLXJlbW90ZQ%3D%3D?line=8'>9</a>\u001b[0m \u001b[39mfor\u001b[39;00m start \u001b[39min\u001b[39;00m train:\n\u001b[0;32m---> <a href='vscode-notebook-cell://ssh-remote%2Beinstein.corp.novocorp.net/novo/omdb/pds02/PDS2843/data/sprint_tid_ascvd/gzn/thesis/HBDM/results_analysis_code/shortest_path_logscore.ipynb#X44sdnNjb2RlLXJlbW90ZQ%3D%3D?line=9'>10</a>\u001b[0m     distances \u001b[39m=\u001b[39m nx\u001b[39m.\u001b[39;49mshortest_path_length(G, start)\n\u001b[1;32m     <a href='vscode-notebook-cell://ssh-remote%2Beinstein.corp.novocorp.net/novo/omdb/pds02/PDS2843/data/sprint_tid_ascvd/gzn/thesis/HBDM/results_analysis_code/shortest_path_logscore.ipynb#X44sdnNjb2RlLXJlbW90ZQ%3D%3D?line=10'>11</a>\u001b[0m     distances \u001b[39m=\u001b[39m {node: distance \u001b[39mfor\u001b[39;00m node, distance \u001b[39min\u001b[39;00m distances\u001b[39m.\u001b[39mitems()}\n\u001b[1;32m     <a href='vscode-notebook-cell://ssh-remote%2Beinstein.corp.novocorp.net/novo/omdb/pds02/PDS2843/data/sprint_tid_ascvd/gzn/thesis/HBDM/results_analysis_code/shortest_path_logscore.ipynb#X44sdnNjb2RlLXJlbW90ZQ%3D%3D?line=11'>12</a>\u001b[0m     distances \u001b[39m=\u001b[39m \u001b[39mdict\u001b[39m(\u001b[39msorted\u001b[39m(distances\u001b[39m.\u001b[39mitems(), key\u001b[39m=\u001b[39m\u001b[39mlambda\u001b[39;00m item: item[\u001b[39m1\u001b[39m]))\n",
      "File \u001b[0;32m~/venepython3.9gzn/lib/python3.9/site-packages/networkx/classes/backends.py:148\u001b[0m, in \u001b[0;36m_dispatch.<locals>.wrapper\u001b[0;34m(*args, **kwds)\u001b[0m\n\u001b[1;32m    144\u001b[0m         \u001b[39melse\u001b[39;00m:\n\u001b[1;32m    145\u001b[0m             \u001b[39mraise\u001b[39;00m NetworkXNotImplemented(\n\u001b[1;32m    146\u001b[0m                 \u001b[39mf\u001b[39m\u001b[39m\"\u001b[39m\u001b[39m'\u001b[39m\u001b[39m{\u001b[39;00mname\u001b[39m}\u001b[39;00m\u001b[39m'\u001b[39m\u001b[39m not implemented by \u001b[39m\u001b[39m{\u001b[39;00mplugin_name\u001b[39m}\u001b[39;00m\u001b[39m\"\u001b[39m\n\u001b[1;32m    147\u001b[0m             )\n\u001b[0;32m--> 148\u001b[0m \u001b[39mreturn\u001b[39;00m func(\u001b[39m*\u001b[39;49margs, \u001b[39m*\u001b[39;49m\u001b[39m*\u001b[39;49mkwds)\n",
      "File \u001b[0;32m~/venepython3.9gzn/lib/python3.9/site-packages/networkx/algorithms/shortest_paths/generic.py:304\u001b[0m, in \u001b[0;36mshortest_path_length\u001b[0;34m(G, source, target, weight, method)\u001b[0m\n\u001b[1;32m    301\u001b[0m \u001b[39mif\u001b[39;00m target \u001b[39mis\u001b[39;00m \u001b[39mNone\u001b[39;00m:\n\u001b[1;32m    302\u001b[0m     \u001b[39m# Find paths to all nodes accessible from the source.\u001b[39;00m\n\u001b[1;32m    303\u001b[0m     \u001b[39mif\u001b[39;00m method \u001b[39m==\u001b[39m \u001b[39m\"\u001b[39m\u001b[39munweighted\u001b[39m\u001b[39m\"\u001b[39m:\n\u001b[0;32m--> 304\u001b[0m         paths \u001b[39m=\u001b[39m nx\u001b[39m.\u001b[39;49msingle_source_shortest_path_length(G, source)\n\u001b[1;32m    305\u001b[0m     \u001b[39melif\u001b[39;00m method \u001b[39m==\u001b[39m \u001b[39m\"\u001b[39m\u001b[39mdijkstra\u001b[39m\u001b[39m\"\u001b[39m:\n\u001b[1;32m    306\u001b[0m         path_length \u001b[39m=\u001b[39m nx\u001b[39m.\u001b[39msingle_source_dijkstra_path_length\n",
      "File \u001b[0;32m~/venepython3.9gzn/lib/python3.9/site-packages/networkx/classes/backends.py:148\u001b[0m, in \u001b[0;36m_dispatch.<locals>.wrapper\u001b[0;34m(*args, **kwds)\u001b[0m\n\u001b[1;32m    144\u001b[0m         \u001b[39melse\u001b[39;00m:\n\u001b[1;32m    145\u001b[0m             \u001b[39mraise\u001b[39;00m NetworkXNotImplemented(\n\u001b[1;32m    146\u001b[0m                 \u001b[39mf\u001b[39m\u001b[39m\"\u001b[39m\u001b[39m'\u001b[39m\u001b[39m{\u001b[39;00mname\u001b[39m}\u001b[39;00m\u001b[39m'\u001b[39m\u001b[39m not implemented by \u001b[39m\u001b[39m{\u001b[39;00mplugin_name\u001b[39m}\u001b[39;00m\u001b[39m\"\u001b[39m\n\u001b[1;32m    147\u001b[0m             )\n\u001b[0;32m--> 148\u001b[0m \u001b[39mreturn\u001b[39;00m func(\u001b[39m*\u001b[39;49margs, \u001b[39m*\u001b[39;49m\u001b[39m*\u001b[39;49mkwds)\n",
      "File \u001b[0;32m~/venepython3.9gzn/lib/python3.9/site-packages/networkx/algorithms/shortest_paths/unweighted.py:62\u001b[0m, in \u001b[0;36msingle_source_shortest_path_length\u001b[0;34m(G, source, cutoff)\u001b[0m\n\u001b[1;32m     60\u001b[0m     cutoff \u001b[39m=\u001b[39m \u001b[39mfloat\u001b[39m(\u001b[39m\"\u001b[39m\u001b[39minf\u001b[39m\u001b[39m\"\u001b[39m)\n\u001b[1;32m     61\u001b[0m nextlevel \u001b[39m=\u001b[39m [source]\n\u001b[0;32m---> 62\u001b[0m \u001b[39mreturn\u001b[39;00m \u001b[39mdict\u001b[39;49m(_single_shortest_path_length(G\u001b[39m.\u001b[39;49m_adj, nextlevel, cutoff))\n",
      "File \u001b[0;32m~/venepython3.9gzn/lib/python3.9/site-packages/networkx/algorithms/shortest_paths/unweighted.py:88\u001b[0m, in \u001b[0;36m_single_shortest_path_length\u001b[0;34m(adj, firstlevel, cutoff)\u001b[0m\n\u001b[1;32m     86\u001b[0m thislevel \u001b[39m=\u001b[39m nextlevel\n\u001b[1;32m     87\u001b[0m nextlevel \u001b[39m=\u001b[39m []\n\u001b[0;32m---> 88\u001b[0m \u001b[39mfor\u001b[39;00m v \u001b[39min\u001b[39;00m thislevel:\n\u001b[1;32m     89\u001b[0m     \u001b[39mfor\u001b[39;00m w \u001b[39min\u001b[39;00m adj[v]:\n\u001b[1;32m     90\u001b[0m         \u001b[39mif\u001b[39;00m w \u001b[39mnot\u001b[39;00m \u001b[39min\u001b[39;00m seen:\n",
      "\u001b[0;31mKeyboardInterrupt\u001b[0m: "
     ]
    }
   ],
   "source": [
    "for k in [3,4,5,6,7,8,9,10]:\n",
    "    kf = KFold(n_splits=5, shuffle=True, random_state=42)\n",
    "    pre = []\n",
    "    cov = []\n",
    "    for train_index, test_index in kf.split(pos_genesid):\n",
    "        train = [pos_genesid[i] for i in train_index]\n",
    "        test = [pos_genesid[i] for i in test_index]\n",
    "        neibors = dict()\n",
    "        for start in train:\n",
    "            distances = nx.shortest_path_length(G, start, weight='weight')\n",
    "            distances = {node: distance for node, distance in distances.items()}\n",
    "            distances = dict(sorted(distances.items(), key=lambda item: item[1]))\n",
    "            nearest_nodes = list(distances.keys())[1:k+1]\n",
    "            for gene in nearest_nodes:\n",
    "                if gene in neibors:\n",
    "                    neibors[gene] += 1\n",
    "                else:\n",
    "                    neibors[gene] = 1\n",
    "        tp_dict = {key: neibors[key] for key in neibors.keys() if key in test}\n",
    "        pre.append(sum(tp_dict.values())/sum(neibors.values()))                \n",
    "        cov.append(len(tp_dict.keys())/len(test))\n",
    "    print(sum(pre) / len(pre),sum(cov) / len(cov))\n"
   ]
  },
  {
   "cell_type": "code",
   "execution_count": 43,
   "metadata": {},
   "outputs": [
    {
     "ename": "KeyboardInterrupt",
     "evalue": "",
     "output_type": "error",
     "traceback": [
      "\u001b[0;31m---------------------------------------------------------------------------\u001b[0m",
      "\u001b[0;31mKeyboardInterrupt\u001b[0m                         Traceback (most recent call last)",
      "\u001b[1;32m/novo/omdb/pds02/PDS2843/data/sprint_tid_ascvd/gzn/thesis/HBDM/results_analysis_code/shortest_path_logscore.ipynb Cell 12\u001b[0m line \u001b[0;36m1\n\u001b[1;32m      <a href='vscode-notebook-cell://ssh-remote%2Beinstein.corp.novocorp.net/novo/omdb/pds02/PDS2843/data/sprint_tid_ascvd/gzn/thesis/HBDM/results_analysis_code/shortest_path_logscore.ipynb#X22sdnNjb2RlLXJlbW90ZQ%3D%3D?line=8'>9</a>\u001b[0m neibors \u001b[39m=\u001b[39m \u001b[39mdict\u001b[39m()\n\u001b[1;32m     <a href='vscode-notebook-cell://ssh-remote%2Beinstein.corp.novocorp.net/novo/omdb/pds02/PDS2843/data/sprint_tid_ascvd/gzn/thesis/HBDM/results_analysis_code/shortest_path_logscore.ipynb#X22sdnNjb2RlLXJlbW90ZQ%3D%3D?line=9'>10</a>\u001b[0m \u001b[39mfor\u001b[39;00m pairs \u001b[39min\u001b[39;00m pair_combinations:\n\u001b[0;32m---> <a href='vscode-notebook-cell://ssh-remote%2Beinstein.corp.novocorp.net/novo/omdb/pds02/PDS2843/data/sprint_tid_ascvd/gzn/thesis/HBDM/results_analysis_code/shortest_path_logscore.ipynb#X22sdnNjb2RlLXJlbW90ZQ%3D%3D?line=10'>11</a>\u001b[0m     path \u001b[39m=\u001b[39m nx\u001b[39m.\u001b[39;49mshortest_path(G, pairs[\u001b[39m0\u001b[39;49m], pairs[\u001b[39m1\u001b[39;49m],weight\u001b[39m=\u001b[39;49m\u001b[39m'\u001b[39;49m\u001b[39mweight\u001b[39;49m\u001b[39m'\u001b[39;49m)\n\u001b[1;32m     <a href='vscode-notebook-cell://ssh-remote%2Beinstein.corp.novocorp.net/novo/omdb/pds02/PDS2843/data/sprint_tid_ascvd/gzn/thesis/HBDM/results_analysis_code/shortest_path_logscore.ipynb#X22sdnNjb2RlLXJlbW90ZQ%3D%3D?line=11'>12</a>\u001b[0m     \u001b[39mif\u001b[39;00m \u001b[39mlen\u001b[39m(path) \u001b[39m>\u001b[39m threshold:\n\u001b[1;32m     <a href='vscode-notebook-cell://ssh-remote%2Beinstein.corp.novocorp.net/novo/omdb/pds02/PDS2843/data/sprint_tid_ascvd/gzn/thesis/HBDM/results_analysis_code/shortest_path_logscore.ipynb#X22sdnNjb2RlLXJlbW90ZQ%3D%3D?line=12'>13</a>\u001b[0m         \u001b[39mcontinue\u001b[39;00m\n",
      "File \u001b[0;32m~/venepython3.9gzn/lib/python3.9/site-packages/networkx/classes/backends.py:148\u001b[0m, in \u001b[0;36m_dispatch.<locals>.wrapper\u001b[0;34m(*args, **kwds)\u001b[0m\n\u001b[1;32m    144\u001b[0m         \u001b[39melse\u001b[39;00m:\n\u001b[1;32m    145\u001b[0m             \u001b[39mraise\u001b[39;00m NetworkXNotImplemented(\n\u001b[1;32m    146\u001b[0m                 \u001b[39mf\u001b[39m\u001b[39m\"\u001b[39m\u001b[39m'\u001b[39m\u001b[39m{\u001b[39;00mname\u001b[39m}\u001b[39;00m\u001b[39m'\u001b[39m\u001b[39m not implemented by \u001b[39m\u001b[39m{\u001b[39;00mplugin_name\u001b[39m}\u001b[39;00m\u001b[39m\"\u001b[39m\n\u001b[1;32m    147\u001b[0m             )\n\u001b[0;32m--> 148\u001b[0m \u001b[39mreturn\u001b[39;00m func(\u001b[39m*\u001b[39;49margs, \u001b[39m*\u001b[39;49m\u001b[39m*\u001b[39;49mkwds)\n",
      "File \u001b[0;32m~/venepython3.9gzn/lib/python3.9/site-packages/networkx/algorithms/shortest_paths/generic.py:173\u001b[0m, in \u001b[0;36mshortest_path\u001b[0;34m(G, source, target, weight, method)\u001b[0m\n\u001b[1;32m    171\u001b[0m     paths \u001b[39m=\u001b[39m nx\u001b[39m.\u001b[39mbidirectional_shortest_path(G, source, target)\n\u001b[1;32m    172\u001b[0m \u001b[39melif\u001b[39;00m method \u001b[39m==\u001b[39m \u001b[39m\"\u001b[39m\u001b[39mdijkstra\u001b[39m\u001b[39m\"\u001b[39m:\n\u001b[0;32m--> 173\u001b[0m     _, paths \u001b[39m=\u001b[39m nx\u001b[39m.\u001b[39;49mbidirectional_dijkstra(G, source, target, weight)\n\u001b[1;32m    174\u001b[0m \u001b[39melse\u001b[39;00m:  \u001b[39m# method == 'bellman-ford':\u001b[39;00m\n\u001b[1;32m    175\u001b[0m     paths \u001b[39m=\u001b[39m nx\u001b[39m.\u001b[39mbellman_ford_path(G, source, target, weight)\n",
      "File \u001b[0;32m~/venepython3.9gzn/lib/python3.9/site-packages/networkx/algorithms/shortest_paths/weighted.py:2386\u001b[0m, in \u001b[0;36mbidirectional_dijkstra\u001b[0;34m(G, source, target, weight)\u001b[0m\n\u001b[1;32m   2383\u001b[0m         \u001b[39mraise\u001b[39;00m \u001b[39mValueError\u001b[39;00m(\u001b[39m\"\u001b[39m\u001b[39mContradictory paths found: negative weights?\u001b[39m\u001b[39m\"\u001b[39m)\n\u001b[1;32m   2384\u001b[0m \u001b[39melif\u001b[39;00m w \u001b[39mnot\u001b[39;00m \u001b[39min\u001b[39;00m seen[\u001b[39mdir\u001b[39m] \u001b[39mor\u001b[39;00m vwLength \u001b[39m<\u001b[39m seen[\u001b[39mdir\u001b[39m][w]:\n\u001b[1;32m   2385\u001b[0m     \u001b[39m# relaxing\u001b[39;00m\n\u001b[0;32m-> 2386\u001b[0m     seen[\u001b[39mdir\u001b[39;49m][w] \u001b[39m=\u001b[39m vwLength\n\u001b[1;32m   2387\u001b[0m     push(fringe[\u001b[39mdir\u001b[39m], (vwLength, \u001b[39mnext\u001b[39m(c), w))\n\u001b[1;32m   2388\u001b[0m     paths[\u001b[39mdir\u001b[39m][w] \u001b[39m=\u001b[39m paths[\u001b[39mdir\u001b[39m][v] \u001b[39m+\u001b[39m [w]\n",
      "\u001b[0;31mKeyboardInterrupt\u001b[0m: "
     ]
    }
   ],
   "source": [
    "for threshold in [3,4,5,6,7,8,9,10]:\n",
    "    kf = KFold(n_splits=5, shuffle=True, random_state=42)\n",
    "    pre = []\n",
    "    cov = []\n",
    "    for train_index, test_index in kf.split(pos_genesid):\n",
    "        train = [pos_genesid[i] for i in train_index]\n",
    "        test = [pos_genesid[i] for i in test_index]\n",
    "        pair_combinations = list(itertools.combinations(train, 2))\n",
    "        neibors = dict()\n",
    "        for pairs in pair_combinations:\n",
    "            path = nx.shortest_path(G, pairs[0], pairs[1],weight='weight')\n",
    "            if len(path) > threshold:\n",
    "                continue\n",
    "            else:\n",
    "                for gene in path[1:-1]:\n",
    "                    if gene in neibors:\n",
    "                        neibors[gene] += 1\n",
    "                    else:\n",
    "                        neibors[gene] = 1\n",
    "        tp_dict = {key: neibors[key] for key in neibors.keys() if key in test}\n",
    "        pre.append(sum(tp_dict.values())/sum(neibors.values()))                \n",
    "        cov.append(len(tp_dict.keys())/len(test))\n",
    "    print(sum(pre) / len(pre),sum(cov) / len(cov))"
   ]
  },
  {
   "cell_type": "code",
   "execution_count": null,
   "metadata": {},
   "outputs": [],
   "source": [
    "dis cad 1532\n",
    "0.06977141547512938 0.7428221668689191\n",
    "0.05936421325654512 0.8139745800600371\n",
    "0.05901639688122533 0.8146281748312789\n",
    "0.05910539875594115 0.8146281748312789\n",
    "0.05911384610086836 0.8146281748312789\n",
    "0.05911393544791371 0.8146281748312789\n",
    "0.05911393544791371 0.8146281748312789\n",
    "0.05911393544791371 0.8146281748312789\n",
    "\n",
    "ot cad 262\n",
    "0.01312909619495666 0.31320754716981136\n",
    "0.01383285127990913 0.5613207547169812\n",
    "0.013966368130537407 0.5613207547169812\n",
    "0.013966368130537407 0.5613207547169812\n",
    "0.013966368130537407 0.5613207547169812\n",
    "0.013966368130537407 0.5613207547169812\n",
    "0.013966368130537407 0.5613207547169812\n",
    "0.013966368130537407 0.5613207547169812\n",
    "\n",
    "cad liter 149\n",
    "0.007672976576734584 0.1413793103448276\n",
    "0.005059493412264257 0.2418390804597701\n",
    "0.005089489534095742 0.2418390804597701\n",
    "0.005087827844910528 0.2418390804597701\n",
    "0.005087827844910528 0.2418390804597701\n",
    "0.005087827844910528 0.2418390804597701\n",
    "0.005087827844910528 0.2418390804597701\n",
    "0.005087827844910528 0.2418390804597701\n",
    "\n",
    "nn cad 366\n",
    "0.004609683299488819 0.19403924472417625\n",
    "0.004195223440859282 0.29777860051832655\n",
    "0.004149633937581671 0.3059977786005183\n",
    "0.004147331500966463 0.3059977786005183\n",
    "0.004147331500966463 0.3059977786005183\n",
    "0.004147331500966463 0.3059977786005183\n",
    "0.004147331500966463 0.3059977786005183\n",
    "0.004147331500966463 0.3059977786005183"
   ]
  },
  {
   "cell_type": "code",
   "execution_count": 17,
   "metadata": {},
   "outputs": [],
   "source": [
    "with open(r'D:\\study\\thesis\\project\\HBDM-main\\data\\complexes\\complexes.pkl', 'rb') as f:\n",
    "    complexs = pickle.load(f)\n",
    "protein_names = list(aliases2stringId.keys())\n",
    "protein_names.extend(list(name2stringId.keys()))\n",
    "\n",
    "humans = set(value_to_index_mapping.keys())\n",
    "\n",
    "complexs_id = dict()\n",
    "\n",
    "for complex_name in complexs:\n",
    "    # folder_path = 'D:/study/thesis/project/HBDM-main/ppi_results/test_results/'+complex_name\n",
    "    # os.mkdir(folder_path)\n",
    "    group_node = []\n",
    "    for gene in complexs[complex_name]:\n",
    "        if gene in protein_names:\n",
    "            stringid = convert_stringId(gene)\n",
    "            # stringid = int(stringid[9:])\n",
    "            # if stringid in humans:\n",
    "            #     node = value_to_index_mapping[stringid]\n",
    "            group_node.append(stringid)\n",
    "    if len(set(group_node)) != 1:\n",
    "        complexs_id[complex_name] = group_node\n",
    "    else:\n",
    "        print(complex_name)\n"
   ]
  },
  {
   "cell_type": "code",
   "execution_count": 18,
   "metadata": {},
   "outputs": [],
   "source": [
    "col1 = []\n",
    "precision_col = []\n",
    "coverage_col = []\n",
    "for complex_name in complexs_id:\n",
    "    col1.append(complex_name)\n",
    "    points = complexs_id[complex_name]\n",
    "    for top in [20]:\n",
    "        precision = []\n",
    "        coverage = []\n",
    "        for start_gene in points:\n",
    "            test_nodes = list(set(points)-set(start_gene))\n",
    "            true_pre = []\n",
    "            subdf = network[network['protein1']==start_gene]\n",
    "            ranked = subdf.sort_values(by='combined_score')\n",
    "            predicted=ranked[:top]['protein2'].tolist()\n",
    "            for i in predicted:\n",
    "                if i in test_nodes:\n",
    "                    true_pre.append(i)\n",
    "            precision.append(len(true_pre)/len(predicted))\n",
    "            coverage.append(len(set(true_pre))/len(test_nodes))\n",
    "        # print('top-',top,'\\t',complex_name,' precision: ', sum(precision)/len(precision))\n",
    "        # print(complex_name,' coverage: ', sum(coverage)/len(coverage))\n",
    "        precision_col.append(sum(precision)/len(precision))\n",
    "        coverage_col.append(sum(coverage)/len(coverage))"
   ]
  },
  {
   "cell_type": "code",
   "execution_count": 19,
   "metadata": {},
   "outputs": [
    {
     "data": {
      "text/plain": [
       "173"
      ]
     },
     "execution_count": 19,
     "metadata": {},
     "output_type": "execute_result"
    }
   ],
   "source": [
    "len(col1)"
   ]
  },
  {
   "cell_type": "code",
   "execution_count": 20,
   "metadata": {},
   "outputs": [],
   "source": [
    "name = 'sp_detailed_top20'\n",
    "result = pd.DataFrame({'complex': col1, 'precision_20':precision_col,'coverage_20':coverage_col})\n",
    "results_name = name +'.csv'\n",
    "result.to_csv('D:/study/thesis/project/HBDM-main/ppi_results/test_results/complexes/'+results_name,index=False)"
   ]
  }
 ],
 "metadata": {
  "kernelspec": {
   "display_name": "hbdm",
   "language": "python",
   "name": "python3"
  },
  "language_info": {
   "codemirror_mode": {
    "name": "ipython",
    "version": 3
   },
   "file_extension": ".py",
   "mimetype": "text/x-python",
   "name": "python",
   "nbconvert_exporter": "python",
   "pygments_lexer": "ipython3",
   "version": "3.9.17"
  }
 },
 "nbformat": 4,
 "nbformat_minor": 2
}
