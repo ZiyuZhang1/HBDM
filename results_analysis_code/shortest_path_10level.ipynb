{
 "cells": [
  {
   "cell_type": "code",
   "execution_count": 1,
   "metadata": {},
   "outputs": [],
   "source": [
    "import pandas as pd\n",
    "import numpy as np\n",
    "import networkx as nx\n",
    "import pickle\n",
    "import random"
   ]
  },
  {
   "cell_type": "code",
   "execution_count": 2,
   "metadata": {},
   "outputs": [
    {
     "data": {
      "text/plain": [
       "18767"
      ]
     },
     "execution_count": 2,
     "metadata": {},
     "output_type": "execute_result"
    }
   ],
   "source": [
    "with open(r'D:\\study\\thesis\\project\\HBDM-main\\data\\datasets\\ppi\\ppi_index.pkl', 'rb') as f:\n",
    "    value_to_index_mapping = pickle.load(f)\n",
    "len(value_to_index_mapping)"
   ]
  },
  {
   "cell_type": "code",
   "execution_count": 3,
   "metadata": {},
   "outputs": [],
   "source": [
    "local_stringdb = 'D:/study/thesis/project/HBDM-main/data/nn_data/stringdb/'\n",
    "# load local STRING database and names\n",
    "df = pd.read_csv(local_stringdb+'9606.protein.info.v12.0.txt', sep='\\t', header=0, usecols=['#string_protein_id', 'preferred_name'])\n",
    "df['preferred_name'] = df['preferred_name'].str.upper()\n",
    "stringId2name = df.set_index('#string_protein_id')['preferred_name'].to_dict()\n",
    "name2stringId = df.set_index('preferred_name')['#string_protein_id'].to_dict()\n",
    "df = pd.read_csv(local_stringdb+'9606.protein.aliases.v12.0.txt', sep='\\t', header=0, usecols=['#string_protein_id', 'alias']).drop_duplicates(['alias'], keep='first')\n",
    "df['alias'] = df['alias'].str.upper()\n",
    "aliases2stringId = df.set_index('alias')['#string_protein_id'].to_dict()\n",
    "\n",
    "\n",
    "network = pd.read_csv(local_stringdb+'9606.protein.physical.links.detailed.v12.0.txt', sep=' ', header=0).convert_dtypes().replace(0, float('nan'))\n",
    "\n",
    "network = network[['protein1','protein2','combined_score']]"
   ]
  },
  {
   "cell_type": "code",
   "execution_count": 5,
   "metadata": {},
   "outputs": [],
   "source": [
    "# Define the reversed bin edges and labels\n",
    "bins = [149, 199, 299, 399, 499, 599, 699, 799, 899, 999]\n",
    "# labels = [9, 8, 7, 6, 5, 4, 3, 2, 1]\n",
    "labels = [1,2,3,4,5,6,7,8,9]\n",
    "\n",
    "# Use pd.cut to categorize the data into levels\n",
    "network['weight'] = pd.cut(network['combined_score'], bins=bins, labels=labels, include_lowest=True)\n",
    "\n"
   ]
  },
  {
   "cell_type": "code",
   "execution_count": 6,
   "metadata": {},
   "outputs": [
    {
     "data": {
      "text/html": [
       "<div>\n",
       "<style scoped>\n",
       "    .dataframe tbody tr th:only-of-type {\n",
       "        vertical-align: middle;\n",
       "    }\n",
       "\n",
       "    .dataframe tbody tr th {\n",
       "        vertical-align: top;\n",
       "    }\n",
       "\n",
       "    .dataframe thead th {\n",
       "        text-align: right;\n",
       "    }\n",
       "</style>\n",
       "<table border=\"1\" class=\"dataframe\">\n",
       "  <thead>\n",
       "    <tr style=\"text-align: right;\">\n",
       "      <th></th>\n",
       "      <th>protein1</th>\n",
       "      <th>protein2</th>\n",
       "      <th>combined_score</th>\n",
       "      <th>weight</th>\n",
       "    </tr>\n",
       "  </thead>\n",
       "  <tbody>\n",
       "    <tr>\n",
       "      <th>0</th>\n",
       "      <td>9606.ENSP00000000233</td>\n",
       "      <td>9606.ENSP00000257770</td>\n",
       "      <td>311</td>\n",
       "      <td>3</td>\n",
       "    </tr>\n",
       "    <tr>\n",
       "      <th>1</th>\n",
       "      <td>9606.ENSP00000000233</td>\n",
       "      <td>9606.ENSP00000226004</td>\n",
       "      <td>161</td>\n",
       "      <td>1</td>\n",
       "    </tr>\n",
       "    <tr>\n",
       "      <th>2</th>\n",
       "      <td>9606.ENSP00000000233</td>\n",
       "      <td>9606.ENSP00000434442</td>\n",
       "      <td>499</td>\n",
       "      <td>4</td>\n",
       "    </tr>\n",
       "  </tbody>\n",
       "</table>\n",
       "</div>"
      ],
      "text/plain": [
       "               protein1              protein2  combined_score weight\n",
       "0  9606.ENSP00000000233  9606.ENSP00000257770             311      3\n",
       "1  9606.ENSP00000000233  9606.ENSP00000226004             161      1\n",
       "2  9606.ENSP00000000233  9606.ENSP00000434442             499      4"
      ]
     },
     "execution_count": 6,
     "metadata": {},
     "output_type": "execute_result"
    }
   ],
   "source": [
    "network.head(3)"
   ]
  },
  {
   "cell_type": "code",
   "execution_count": 7,
   "metadata": {},
   "outputs": [],
   "source": [
    "network['protein1'] = network['protein1'].str.replace('9606.ENSP', '')\n",
    "network['protein2'] = network['protein2'].str.replace('9606.ENSP', '')\n",
    "node_array = np.array(network[['protein1','protein2']].to_numpy(), dtype=int)\n",
    "mapped_arr = np.vectorize(value_to_index_mapping.get)(node_array)\n",
    "mapped_arr = mapped_arr.T\n",
    "mapped_arr.shape\n",
    "network['node1'] = mapped_arr[0]\n",
    "network['node2'] = mapped_arr[1]"
   ]
  },
  {
   "cell_type": "code",
   "execution_count": 8,
   "metadata": {},
   "outputs": [
    {
     "data": {
      "text/html": [
       "<div>\n",
       "<style scoped>\n",
       "    .dataframe tbody tr th:only-of-type {\n",
       "        vertical-align: middle;\n",
       "    }\n",
       "\n",
       "    .dataframe tbody tr th {\n",
       "        vertical-align: top;\n",
       "    }\n",
       "\n",
       "    .dataframe thead th {\n",
       "        text-align: right;\n",
       "    }\n",
       "</style>\n",
       "<table border=\"1\" class=\"dataframe\">\n",
       "  <thead>\n",
       "    <tr style=\"text-align: right;\">\n",
       "      <th></th>\n",
       "      <th>protein1</th>\n",
       "      <th>protein2</th>\n",
       "      <th>combined_score</th>\n",
       "      <th>weight</th>\n",
       "      <th>node1</th>\n",
       "      <th>node2</th>\n",
       "    </tr>\n",
       "  </thead>\n",
       "  <tbody>\n",
       "    <tr>\n",
       "      <th>0</th>\n",
       "      <td>00000000233</td>\n",
       "      <td>00000257770</td>\n",
       "      <td>311</td>\n",
       "      <td>3</td>\n",
       "      <td>0</td>\n",
       "      <td>1914</td>\n",
       "    </tr>\n",
       "    <tr>\n",
       "      <th>1</th>\n",
       "      <td>00000000233</td>\n",
       "      <td>00000226004</td>\n",
       "      <td>161</td>\n",
       "      <td>1</td>\n",
       "      <td>0</td>\n",
       "      <td>776</td>\n",
       "    </tr>\n",
       "    <tr>\n",
       "      <th>2</th>\n",
       "      <td>00000000233</td>\n",
       "      <td>00000434442</td>\n",
       "      <td>499</td>\n",
       "      <td>4</td>\n",
       "      <td>0</td>\n",
       "      <td>15878</td>\n",
       "    </tr>\n",
       "  </tbody>\n",
       "</table>\n",
       "</div>"
      ],
      "text/plain": [
       "      protein1     protein2  combined_score weight  node1  node2\n",
       "0  00000000233  00000257770             311      3      0   1914\n",
       "1  00000000233  00000226004             161      1      0    776\n",
       "2  00000000233  00000434442             499      4      0  15878"
      ]
     },
     "execution_count": 8,
     "metadata": {},
     "output_type": "execute_result"
    }
   ],
   "source": [
    "network.head(3)"
   ]
  },
  {
   "cell_type": "code",
   "execution_count": 10,
   "metadata": {},
   "outputs": [],
   "source": [
    "G = nx.Graph()\n",
    "for index, row in network.iterrows():\n",
    "    G.add_edge(row['node1'], row['node2'], weight=row['weight'])"
   ]
  },
  {
   "cell_type": "code",
   "execution_count": 15,
   "metadata": {},
   "outputs": [
    {
     "data": {
      "text/plain": [
       "123"
      ]
     },
     "execution_count": 15,
     "metadata": {},
     "output_type": "execute_result"
    }
   ],
   "source": [
    "G.degree[0]"
   ]
  },
  {
   "cell_type": "code",
   "execution_count": 16,
   "metadata": {},
   "outputs": [
    {
     "data": {
      "text/plain": [
       "326"
      ]
     },
     "execution_count": 16,
     "metadata": {},
     "output_type": "execute_result"
    }
   ],
   "source": [
    "G.degree(weight='weight')[0]"
   ]
  },
  {
   "cell_type": "code",
   "execution_count": 18,
   "metadata": {},
   "outputs": [
    {
     "data": {
      "image/png": "[encoded data removed]",
      "text/plain": [
       "<Figure size 1200x500 with 2 Axes>"
      ]
     },
     "metadata": {},
     "output_type": "display_data"
    }
   ],
   "source": [
    "import matplotlib.pyplot as plt\n",
    "import numpy as np\n",
    "\n",
    "# Create a figure and subplots\n",
    "fig, (ax1, ax2) = plt.subplots(1, 2, figsize=(12, 5))\n",
    "\n",
    "# Get the weighted degrees\n",
    "weighted_degrees = dict(G.degree)\n",
    "\n",
    "# Calculate the weighted degree distribution\n",
    "counts, bins = np.histogram(list(weighted_degrees.values()), bins=10)\n",
    "\n",
    "# Set the y-axis to a logarithmic scale\n",
    "ax1.set_yscale('log')\n",
    "\n",
    "# Customize the plot labels and title for the first subplot\n",
    "ax1.set_title(\"Unweighted Degree Distribution (Log Scale)\")\n",
    "ax1.set_xlabel(\"Unweighted Degree\")\n",
    "ax1.set_ylabel(\"Log Frequency\")\n",
    "\n",
    "# Plot the histogram in the first subplot\n",
    "ax1.bar(bins[:-1], counts, width=np.diff(bins), align='edge', alpha=0.7)\n",
    "\n",
    "# Get the weighted degrees\n",
    "weighted_degrees = dict(G.degree(weight='weight'))\n",
    "\n",
    "# Calculate the weighted degree distribution\n",
    "counts, bins = np.histogram(list(weighted_degrees.values()), bins=10)\n",
    "\n",
    "# Set the y-axis to a logarithmic scale\n",
    "ax2.set_yscale('log')\n",
    "\n",
    "# Customize the plot labels and title for the second subplot\n",
    "ax2.set_title(\"Weighted Degree Distribution (Log Scale)\")\n",
    "ax2.set_xlabel(\"Weighted Degree\")\n",
    "ax2.set_ylabel(\"Log Frequency\")\n",
    "\n",
    "# Plot the histogram in the second subplot\n",
    "ax2.bar(bins[:-1], counts, width=np.diff(bins), align='edge', alpha=0.7)\n",
    "\n",
    "# Adjust spacing between subplots\n",
    "plt.tight_layout()\n",
    "\n",
    "plt.show()\n"
   ]
  },
  {
   "cell_type": "code",
   "execution_count": 20,
   "metadata": {},
   "outputs": [
    {
     "data": {
      "image/png": "[encoded data removed]",
      "text/plain": [
       "<Figure size 640x480 with 1 Axes>"
      ]
     },
     "metadata": {},
     "output_type": "display_data"
    }
   ],
   "source": [
    "# Calculate the mean weight for each node\n",
    "mean_weights = {}\n",
    "for node in G.nodes():\n",
    "    neighbors = list(G.neighbors(node))  # Convert the neighbors to a list\n",
    "    if neighbors:\n",
    "        total_weight = sum(G[node][neighbor]['weight'] for neighbor in neighbors)\n",
    "        mean_weight = total_weight / len(neighbors)\n",
    "        mean_weights[node] = mean_weight\n",
    "    else:\n",
    "        mean_weights[node] = 0  # Set to 0 if the node has no neighbors\n",
    "\n",
    "# Create a histogram of the mean weights with a logarithmic y-axis scale\n",
    "plt.hist(list(mean_weights.values()), bins=10, alpha=0.7)\n",
    "plt.yscale('log')  # Set the y-axis to a logarithmic scale\n",
    "plt.title(\"Node Mean Weight Distribution (Log Scale)\")\n",
    "plt.xlabel(\"Mean Weight\")\n",
    "plt.ylabel(\"Log Frequency\")\n",
    "plt.show()"
   ]
  },
  {
   "cell_type": "markdown",
   "metadata": {},
   "source": [
    "# Test"
   ]
  },
  {
   "cell_type": "markdown",
   "metadata": {},
   "source": [
    "### complexs"
   ]
  },
  {
   "cell_type": "code",
   "execution_count": 95,
   "metadata": {},
   "outputs": [],
   "source": [
    "with open(r'D:\\study\\thesis\\project\\HBDM-main\\data\\complexes\\complexes.pkl', 'rb') as f:\n",
    "    complexs = pickle.load(f)\n",
    "protein_names = list(aliases2stringId.keys())\n",
    "protein_names.extend(list(name2stringId.keys()))\n",
    "\n",
    "def convert_stringId(alias):\n",
    "    try:\n",
    "        stringId = name2stringId[alias]\n",
    "    except:\n",
    "        #print(alias, 'can\\'t be converted by name2stringId! Now trying aliases2stringId.')\n",
    "        try:\n",
    "            stringId = aliases2stringId[alias]\n",
    "        except:\n",
    "            #print(alias, 'can\\'t be converted by aliases2stringId! Now return None.')\n",
    "            stringId = None\n",
    "    #print(alias, stringId)\n",
    "    return stringId\n",
    "\n",
    "humans = set(value_to_index_mapping.keys())\n",
    "\n",
    "complexs_id = dict()\n",
    "\n",
    "for complex_name in complexs:\n",
    "    # folder_path = 'D:/study/thesis/project/HBDM-main/ppi_results/test_results/'+complex_name\n",
    "    # os.mkdir(folder_path)\n",
    "    group_node = []\n",
    "    for gene in complexs[complex_name]:\n",
    "        if gene in protein_names:\n",
    "            stringid = convert_stringId(gene)\n",
    "            stringid = int(stringid[9:])\n",
    "            if stringid in humans:\n",
    "                node = value_to_index_mapping[stringid]\n",
    "                group_node.append(node)\n",
    "    if len(set(group_node)) != 1:\n",
    "        complexs_id[complex_name] = group_node\n",
    "\n"
   ]
  },
  {
   "cell_type": "code",
   "execution_count": 96,
   "metadata": {},
   "outputs": [],
   "source": [
    "for i in complexs:\n",
    "    if len(complexs[i]) == 1:\n",
    "        print(i)"
   ]
  },
  {
   "cell_type": "code",
   "execution_count": 97,
   "metadata": {},
   "outputs": [],
   "source": [
    "col1 = []\n",
    "precision_col = []\n",
    "coverage_col = []\n",
    "for complex_name in complexs_id:\n",
    "    points = complexs_id[complex_name]\n",
    "    col1.append(complex_name)\n",
    "    # for top in [100,50,300]:\n",
    "    for top in [50]:\n",
    "        precision = []\n",
    "        coverage = []\n",
    "        for start_gene in points:\n",
    "            test_nodes = list(set(points)-set([start_gene]))\n",
    "            true_pre = []\n",
    "            subdf = network[network['node1']==start_gene]\n",
    "            ranked = subdf.sort_values(by='weight')\n",
    "            predicted=ranked[:top]['node2'].tolist()\n",
    "            for i in predicted:\n",
    "                if i in test_nodes:\n",
    "                    true_pre.append(i)\n",
    "            precision.append(len(true_pre)/len(predicted))\n",
    "            coverage.append(len(set(true_pre))/len(test_nodes))\n",
    "        # print('top-',top,'\\t',complex_name,' precision: ', sum(precision)/len(precision))\n",
    "        # print(complex_name,' coverage: ', sum(coverage)/len(coverage))\n",
    "        precision_col.append(sum(precision)/len(precision))\n",
    "        coverage_col.append(sum(coverage)/len(coverage))"
   ]
  },
  {
   "cell_type": "code",
   "execution_count": 98,
   "metadata": {},
   "outputs": [],
   "source": [
    "name = 'sp_10level_top50'\n",
    "result = pd.DataFrame({'complex': col1, 'precision_50':precision_col,'coverage_50':coverage_col})\n",
    "results_name = name +'.csv'\n",
    "result.to_csv('D:/study/thesis/project/HBDM-main/ppi_results/test_results/complexes/'+results_name,index=False)"
   ]
  },
  {
   "cell_type": "markdown",
   "metadata": {},
   "source": [
    "### disease"
   ]
  },
  {
   "cell_type": "code",
   "execution_count": 100,
   "metadata": {},
   "outputs": [],
   "source": [
    "\n",
    "# # Create an empty graph\n",
    "# G = nx.Graph()\n",
    "\n",
    "# # Iterate over the DataFrame rows and add edges with weights to the graph\n",
    "# for index, row in network.iterrows():\n",
    "#     G.add_edge(row['node1'], row['node2'], weight=row['weight'])\n",
    "# len(G.edges)"
   ]
  },
  {
   "cell_type": "code",
   "execution_count": 101,
   "metadata": {},
   "outputs": [],
   "source": [
    "# disease_df = pd.read_csv(r'D:\\study\\thesis\\project\\HBDM-main\\disease\\Coronary artery disease.tsv',sep='\\t')\n",
    "# names = set(aliases2stringId.keys())\n",
    "# humans = set(value_to_index_mapping.keys())\n",
    "\n",
    "# group_node = []\n",
    "# for gene in disease_df['Gene']:\n",
    "#     if gene in names:\n",
    "#         stringid = aliases2stringId[gene]\n",
    "#         stringid = int(stringid[9:])\n",
    "#         if stringid in humans:\n",
    "#             node = value_to_index_mapping[stringid]\n",
    "#             group_node.append(node)"
   ]
  },
  {
   "cell_type": "code",
   "execution_count": 102,
   "metadata": {},
   "outputs": [],
   "source": [
    "# results = []\n",
    "# for start in group_node:\n",
    "#     path_weight = nx.shortest_path_length(G, source=start, weight='weight')\n",
    "#     results.append(path_weight)"
   ]
  },
  {
   "cell_type": "code",
   "execution_count": 103,
   "metadata": {},
   "outputs": [],
   "source": [
    "\n",
    "# from sklearn.model_selection import KFold\n",
    "\n",
    "\n",
    "# for k in [5,10,50]:\n",
    "#     k+=1\n",
    "#     kf = KFold(n_splits=5, shuffle=True, random_state=42)\n",
    "#     for train_index, test_index in kf.split(group_node):\n",
    "#         train_nodes = [group_node[i] for i in train_index]\n",
    "#         test_nodes = [group_node[i] for i in test_index]\n",
    "#         precision = []\n",
    "#         coverage = []\n",
    "#         for start in train_nodes:\n",
    "#             position = points.index(start)\n",
    "#             sorted_items = sorted(results[position].items(), key=lambda item: item[1])\n",
    "#             sorted_keys = [item[0] for item in sorted_items]\n",
    "#             true_pre = []\n",
    "            \n",
    "#             k_neiboger = sorted_keys[:k]\n",
    "#             for nei in k_neiboger:\n",
    "#                 if nei in test_nodes:\n",
    "#                     true_pre.append(nei)\n",
    "#             precision.append(len(true_pre)/len(df))\n",
    "#             coverage.append(len(set(true_pre))/len(test_nodes))\n",
    "#     print('k',k-1,'precision: ', sum(precision)/len(precision))\n",
    "#     print('k',k-1,'coverage: ', sum(coverage)/len(coverage))"
   ]
  },
  {
   "cell_type": "code",
   "execution_count": 104,
   "metadata": {},
   "outputs": [],
   "source": [
    "# from sklearn.model_selection import KFold\n",
    "# kf = KFold(n_splits=5, shuffle=True, random_state=42)\n",
    "# for train_index, test_index in kf.split(group_node):\n",
    "#     train_nodes = [group_node[i] for i in train_index]\n",
    "#     test_nodes = [group_node[i] for i in test_index]\n",
    "#     true_pre = []\n",
    "#     precision = []\n",
    "#     coverage = []\n",
    "#     subdf = df[(df['start'].isin(train_nodes))&(df['end'].isin(train_nodes))]\n",
    "#     for path in subdf['path'].tolist():\n",
    "#         for gene in path:\n",
    "#             if gene in test_nodes:\n",
    "#                 true_pre.append(gene)\n",
    "#     precision.append(len(true_pre)/len(df))\n",
    "#     coverage.append(len(set(true_pre))/len(test_nodes))\n",
    "# print('precision: ', sum(precision)/len(precision))\n",
    "# print('coverage: ', sum(coverage)/len(coverage))"
   ]
  },
  {
   "cell_type": "code",
   "execution_count": 105,
   "metadata": {},
   "outputs": [],
   "source": [
    "# test_nodes = [974, 5874, 17542, 3309, 1271, 13189, 7607, 5512, 18282, 18543]\n",
    "# train_nodes = list(set(group_node)-set(test_nodes))\n",
    "# true_pre = []\n",
    "# precision = []\n",
    "# coverage = []\n",
    "# subdf = df[(df['start'].isin(train_nodes))&(df['end'].isin(train_nodes))]\n",
    "# for path in subdf['path'].tolist():\n",
    "#     for gene in path:\n",
    "#         if gene in test_nodes:\n",
    "#             true_pre.append(gene)\n",
    "\n",
    "# print('precision: ', len(true_pre)/len(df))\n",
    "# print('coverage: ', len(set(true_pre))/len(test_nodes))"
   ]
  }
 ],
 "metadata": {
  "kernelspec": {
   "display_name": "hbdm",
   "language": "python",
   "name": "python3"
  },
  "language_info": {
   "codemirror_mode": {
    "name": "ipython",
    "version": 3
   },
   "file_extension": ".py",
   "mimetype": "text/x-python",
   "name": "python",
   "nbconvert_exporter": "python",
   "pygments_lexer": "ipython3",
   "version": "0.0.0"
  }
 },
 "nbformat": 4,
 "nbformat_minor": 2
}
