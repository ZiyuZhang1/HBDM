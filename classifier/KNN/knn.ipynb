{
 "cells": [
  {
   "cell_type": "code",
   "execution_count": 1,
   "metadata": {},
   "outputs": [],
   "source": [
    "import pandas as pd\n",
    "import numpy as np\n",
    "import pickle\n",
    "import random\n",
    "from sklearn.neighbors import KDTree\n",
    "from sklearn.model_selection import KFold\n",
    "from sklearn.model_selection import train_test_split"
   ]
  },
  {
   "cell_type": "code",
   "execution_count": 2,
   "metadata": {},
   "outputs": [],
   "source": [
    "local_stringdb = '/novo/omdb/pds02/PDS2843/data/sprint_tid_ascvd/data/string/lfs-stringdb/'\n",
    "# load local STRING database and names\n",
    "stringdf = pd.read_csv(local_stringdb+'9606.protein.info.v12.0.txt', sep='\\t', header=0, usecols=['#string_protein_id', 'preferred_name'])\n",
    "stringdf['preferred_name'] = stringdf['preferred_name'].str.upper()\n",
    "stringId2name = stringdf.set_index('#string_protein_id')['preferred_name'].to_dict()\n",
    "name2stringId = stringdf.set_index('preferred_name')['#string_protein_id'].to_dict()\n",
    "stringdf = pd.read_csv(local_stringdb+'9606.protein.aliases.v12.0.txt', sep='\\t', header=0, usecols=['#string_protein_id', 'alias']).drop_duplicates(['alias'], keep='first')\n",
    "stringdf['alias'] = stringdf['alias'].str.upper()\n",
    "aliases2stringId = stringdf.set_index('alias')['#string_protein_id'].to_dict()\n",
    "\n",
    "def get_df(dataset):\n",
    "\n",
    "    files_path = '/novo/omdb/pds02/PDS2843/data/sprint_tid_ascvd/gzn/thesis/HBDM/results/models/Dataset-'+dataset+'--RE-True--W-True--Epochs-15000--D-4--RH-25--LR-0.1--LP-False--CUDA-True/'\n",
    "    path1 = files_path + 'latent.pkl'\n",
    "    path2 = files_path + 'RE.pkl'\n",
    "\n",
    "    with open(path1, 'rb') as file:\n",
    "        latent = pickle.load(file)\n",
    "    latent = np.array(latent)\n",
    "    with open(path2, 'rb') as file:\n",
    "        re = pickle.load(file)\n",
    "    re = np.array(re)\n",
    "\n",
    "    convertpath = '/novo/omdb/pds02/PDS2843/data/sprint_tid_ascvd/gzn/thesis/HBDM/data/datasets/'+dataset+'/ppi_index.pkl'\n",
    "    with open(convertpath, 'rb') as file:\n",
    "        ppi_index = pickle.load(file)\n",
    "    data = np.concatenate((latent, re[:, np.newaxis]), axis=1)\n",
    "    df_latent = pd.DataFrame()\n",
    "    for i, d in enumerate(range(data.shape[1])):\n",
    "        if i == len(range(data.shape[1]))-1:\n",
    "            col_name = 're'\n",
    "        else:\n",
    "            col_name = str(d+1)+'d'\n",
    "        df_latent[col_name] = data.T[d]\n",
    "    df_latent['node'] = df_latent.index\n",
    "    inv_dict = {v: k for k, v in ppi_index.items()}\n",
    "    df_latent = df_latent.add_prefix(dataset+'_')\n",
    "    df_latent['gene'] = df_latent[dataset+'_node'].map(inv_dict)\n",
    "    df = df_latent.loc[:, ~df_latent.columns.str.endswith('node')]\n",
    "    return df"
   ]
  },
  {
   "cell_type": "code",
   "execution_count": 3,
   "metadata": {},
   "outputs": [
    {
     "name": "stdout",
     "output_type": "stream",
     "text": [
      "18767 16773 17121 15298\n"
     ]
    }
   ],
   "source": [
    "ppidf = get_df('ppi')\n",
    "scdf = get_df('sc')\n",
    "stdf = get_df('st')\n",
    "df = pd.merge(ppidf,scdf,on='gene')\n",
    "df = pd.merge(df,stdf,on='gene')\n",
    "print(len(ppidf),len(scdf),len(stdf),len(df))"
   ]
  },
  {
   "cell_type": "code",
   "execution_count": 4,
   "metadata": {},
   "outputs": [
    {
     "name": "stdout",
     "output_type": "stream",
     "text": [
      "1708 1520\n"
     ]
    }
   ],
   "source": [
    "root = '/novo/omdb/pds02/PDS2843/data/sprint_tid_ascvd/gzn/thesis/HBDM/data/disease/'\n",
    "disease_source = 'DIS_CAD'\n",
    "diseasedf = pd.read_csv(root+disease_source+'.tsv',sep='\\t')\n",
    "pos_genes = diseasedf['Gene']\n",
    "pos_genes = pos_genes.map(aliases2stringId)\n",
    "pos_genes =  pos_genes.map(stringId2name)\n",
    "print(len(diseasedf),len(set(pos_genes)))\n",
    "df['label'] = df['gene'].apply(lambda x: 1 if x in pos_genes.to_list() else -1)"
   ]
  },
  {
   "cell_type": "code",
   "execution_count": null,
   "metadata": {},
   "outputs": [],
   "source": [
    "X = df[['ppi_1d', 'ppi_2d', 'ppi_3d', 'ppi_4d', 'ppi_re','sc_1d',\n",
    "       'sc_2d', 'sc_3d', 'sc_4d', 'sc_re', 'st_1d', 'st_2d', 'st_3d', 'st_4d',\n",
    "       'st_re']].to_numpy()\n",
    "y = df['label'].to_numpy()"
   ]
  },
  {
   "cell_type": "code",
   "execution_count": 11,
   "metadata": {},
   "outputs": [],
   "source": [
    "pos = df[df['label']==1].index"
   ]
  },
  {
   "cell_type": "code",
   "execution_count": 17,
   "metadata": {},
   "outputs": [],
   "source": [
    "test_index = random.sample(pos.tolist(), 300)\n",
    "train_index = set(pos.tolist()) - set(test_index)"
   ]
  },
  {
   "cell_type": "code",
   "execution_count": 19,
   "metadata": {},
   "outputs": [],
   "source": [
    "ppi = df[['ppi_1d', 'ppi_2d', 'ppi_3d', 'ppi_4d', 'ppi_re']].to_numpy()\n",
    "train_nodes = [ppi[i] for i in train_index]\n",
    "test_nodes = [ppi[i] for i in test_index]"
   ]
  },
  {
   "cell_type": "code",
   "execution_count": 31,
   "metadata": {},
   "outputs": [],
   "source": [
    "my_array = np.array([-2.11718631, 1.04805505, 3.69179893, -2.45958257, 0.39355791])\n",
    "\n",
    "new_array = my_array.reshape(1, -1)"
   ]
  },
  {
   "cell_type": "code",
   "execution_count": 52,
   "metadata": {},
   "outputs": [],
   "source": [
    "\n",
    "\n",
    "def get_neighbors(ppi,train_index):\n",
    "    k = 5\n",
    "    start = []\n",
    "    dist = []\n",
    "    neighbor = []\n",
    "\n",
    "    kdtree = KDTree(ppi[[col for col in ppi.columns]].to_numpy(), leaf_size=20)\n",
    "    for i in train_index:\n",
    "        given_point = ppi.iloc[i][[col for col in ppi.columns]].to_numpy().reshape(1, -1)\n",
    "        # Perform a k-NN search to find the k+1 nearest neighbors\n",
    "        distances, indices = kdtree.query(given_point, k=k)\n",
    "        start += (k-1)*[i]\n",
    "        dist += distances.reshape(-1).tolist()[1:]\n",
    "        neighbor += indices.reshape(-1).tolist()[1:]\n",
    "    neighbor_df = pd.DataFrame({'start': start, 'neighbor': neighbor, 'distance': dist})\n",
    "    return neighbor_df"
   ]
  },
  {
   "cell_type": "code",
   "execution_count": 53,
   "metadata": {},
   "outputs": [],
   "source": [
    "ppinei = get_neighbors(df[['ppi_1d', 'ppi_2d', 'ppi_3d', 'ppi_4d', 'ppi_re']],train_index)\n",
    "scnei = get_neighbors(df[['sc_1d','sc_2d', 'sc_3d', 'sc_4d', 'sc_re']],train_index)\n",
    "stnei = get_neighbors(df[['st_1d', 'st_2d', 'st_3d', 'st_4d','st_re']],train_index)"
   ]
  },
  {
   "cell_type": "code",
   "execution_count": 55,
   "metadata": {},
   "outputs": [
    {
     "name": "stdout",
     "output_type": "stream",
     "text": [
      "115\n",
      "77\n",
      "74\n"
     ]
    }
   ],
   "source": [
    "print(len(set(ppipre.keys())&set(test_index)))\n",
    "print(len(set(scpre.keys())&set(test_index)))\n",
    "print(len(set(stpre.keys())&set(test_index)))"
   ]
  },
  {
   "cell_type": "code",
   "execution_count": 58,
   "metadata": {},
   "outputs": [],
   "source": [
    "allpredict = pd.concat([ppinei, scnei, stnei], axis=0)"
   ]
  },
  {
   "cell_type": "code",
   "execution_count": 62,
   "metadata": {},
   "outputs": [],
   "source": [
    "duplicate_rows = allpredict[allpredict.duplicated()]"
   ]
  },
  {
   "cell_type": "code",
   "execution_count": 73,
   "metadata": {},
   "outputs": [],
   "source": [
    "top100 = allpredict['neighbor'].value_counts().head(100).index.to_list()\n",
    "print(len(set(top100)&set(test_index)))"
   ]
  },
  {
   "cell_type": "code",
   "execution_count": 75,
   "metadata": {},
   "outputs": [
    {
     "name": "stdout",
     "output_type": "stream",
     "text": [
      "10\n"
     ]
    }
   ],
   "source": [
    "top100 = allpredict['neighbor'].value_counts().head(100).index.to_list()\n",
    "print(len(set(top100)&set(test_index)))"
   ]
  },
  {
   "cell_type": "code",
   "execution_count": 77,
   "metadata": {},
   "outputs": [
    {
     "name": "stdout",
     "output_type": "stream",
     "text": [
      "12\n"
     ]
    }
   ],
   "source": [
    "top100 = ppinei['neighbor'].value_counts().head(100).index.to_list()\n",
    "print(len(set(top100)&set(test_index)))"
   ]
  },
  {
   "cell_type": "code",
   "execution_count": 79,
   "metadata": {},
   "outputs": [
    {
     "name": "stdout",
     "output_type": "stream",
     "text": [
      "1\n"
     ]
    }
   ],
   "source": [
    "top100 = scnei['neighbor'].value_counts().head(100).index.to_list()\n",
    "print(len(set(top100)&set(test_index)))"
   ]
  },
  {
   "cell_type": "code",
   "execution_count": 80,
   "metadata": {},
   "outputs": [
    {
     "name": "stdout",
     "output_type": "stream",
     "text": [
      "1\n"
     ]
    }
   ],
   "source": [
    "top100 = stnei['neighbor'].value_counts().head(100).index.to_list()\n",
    "print(len(set(top100)&set(test_index)))"
   ]
  },
  {
   "cell_type": "code",
   "execution_count": 65,
   "metadata": {},
   "outputs": [
    {
     "name": "stdout",
     "output_type": "stream",
     "text": [
      "198\n"
     ]
    }
   ],
   "source": [
    "print(len(set(allpredict['neighbor'].to_list())&set(test_index)))"
   ]
  }
 ],
 "metadata": {
  "kernelspec": {
   "display_name": "hbdm_env",
   "language": "python",
   "name": "python3"
  },
  "language_info": {
   "codemirror_mode": {
    "name": "ipython",
    "version": 3
   },
   "file_extension": ".py",
   "mimetype": "text/x-python",
   "name": "python",
   "nbconvert_exporter": "python",
   "pygments_lexer": "ipython3",
   "version": "3.8.16"
  }
 },
 "nbformat": 4,
 "nbformat_minor": 2
}
